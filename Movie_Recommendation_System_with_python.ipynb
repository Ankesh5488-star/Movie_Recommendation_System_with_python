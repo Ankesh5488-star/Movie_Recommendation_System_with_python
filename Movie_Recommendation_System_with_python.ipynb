{
  "nbformat": 4,
  "nbformat_minor": 0,
  "metadata": {
    "colab": {
      "provenance": []
    },
    "kernelspec": {
      "name": "python3",
      "display_name": "Python 3"
    },
    "language_info": {
      "name": "python"
    }
  },
  "cells": [
    {
      "cell_type": "markdown",
      "source": [
        "Importing the dependencies"
      ],
      "metadata": {
        "id": "mc2xmB2nVDHn"
      }
    },
    {
      "cell_type": "code",
      "execution_count": 1,
      "metadata": {
        "id": "y_QbtKWqUqvW"
      },
      "outputs": [],
      "source": [
        "import numpy as np\n",
        "import pandas as pd\n",
        "import difflib\n",
        "from sklearn.feature_extraction.text import TfidfVectorizer\n",
        "from sklearn.metrics.pairwise import cosine_similarity"
      ]
    },
    {
      "cell_type": "markdown",
      "source": [
        "Data Collection and Preprocessing"
      ],
      "metadata": {
        "id": "ylxRsZO8VN5K"
      }
    },
    {
      "cell_type": "code",
      "source": [
        "# loading the data from the csv file to apandas dataframe\n",
        "movies_data = pd.read_csv('/content/movies.csv')"
      ],
      "metadata": {
        "id": "hvJJdavfVKmm"
      },
      "execution_count": 2,
      "outputs": []
    },
    {
      "cell_type": "code",
      "source": [
        "# printing the first 5 rows of the dataframe\n",
        "movies_data.head()"
      ],
      "metadata": {
        "colab": {
          "base_uri": "https://localhost:8080/",
          "height": 793
        },
        "id": "S93ELfgZVTYF",
        "outputId": "99f4b731-8031-4723-f56e-497475191cd4"
      },
      "execution_count": 3,
      "outputs": [
        {
          "output_type": "execute_result",
          "data": {
            "text/plain": [
              "   index     budget                                    genres  \\\n",
              "0      0  237000000  Action Adventure Fantasy Science Fiction   \n",
              "1      1  300000000                  Adventure Fantasy Action   \n",
              "2      2  245000000                    Action Adventure Crime   \n",
              "3      3  250000000               Action Crime Drama Thriller   \n",
              "4      4  260000000          Action Adventure Science Fiction   \n",
              "\n",
              "                                       homepage      id  \\\n",
              "0                   http://www.avatarmovie.com/   19995   \n",
              "1  http://disney.go.com/disneypictures/pirates/     285   \n",
              "2   http://www.sonypictures.com/movies/spectre/  206647   \n",
              "3            http://www.thedarkknightrises.com/   49026   \n",
              "4          http://movies.disney.com/john-carter   49529   \n",
              "\n",
              "                                            keywords original_language  \\\n",
              "0  culture clash future space war space colony so...                en   \n",
              "1  ocean drug abuse exotic island east india trad...                en   \n",
              "2         spy based on novel secret agent sequel mi6                en   \n",
              "3  dc comics crime fighter terrorist secret ident...                en   \n",
              "4  based on novel mars medallion space travel pri...                en   \n",
              "\n",
              "                             original_title  \\\n",
              "0                                    Avatar   \n",
              "1  Pirates of the Caribbean: At World's End   \n",
              "2                                   Spectre   \n",
              "3                     The Dark Knight Rises   \n",
              "4                               John Carter   \n",
              "\n",
              "                                            overview  popularity  ... runtime  \\\n",
              "0  In the 22nd century, a paraplegic Marine is di...  150.437577  ...     162   \n",
              "1  Captain Barbossa, long believed to be dead, ha...  139.082615  ...     169   \n",
              "2  A cryptic message from Bond’s past sends him o...  107.376788  ...     148   \n",
              "3  Following the death of District Attorney Harve...  112.312950  ...     165   \n",
              "4  John Carter is a war-weary, former military ca...   43.926995  ...     132   \n",
              "\n",
              "                                    spoken_languages    status  \\\n",
              "0  [{\"iso_639_1\": \"en\", \"name\": \"English\"}, {\"iso...  Released   \n",
              "1           [{\"iso_639_1\": \"en\", \"name\": \"English\"}]  Released   \n",
              "2  [{\"iso_639_1\": \"fr\", \"name\": \"Fran\\u00e7ais\"},...  Released   \n",
              "3           [{\"iso_639_1\": \"en\", \"name\": \"English\"}]  Released   \n",
              "4           [{\"iso_639_1\": \"en\", \"name\": \"English\"}]  Released   \n",
              "\n",
              "                                          tagline  \\\n",
              "0                     Enter the World of Pandora.   \n",
              "1  At the end of the world, the adventure begins.   \n",
              "2                           A Plan No One Escapes   \n",
              "3                                 The Legend Ends   \n",
              "4            Lost in our world, found in another.   \n",
              "\n",
              "                                      title vote_average vote_count  \\\n",
              "0                                    Avatar          7.2      11800   \n",
              "1  Pirates of the Caribbean: At World's End          6.9       4500   \n",
              "2                                   Spectre          6.3       4466   \n",
              "3                     The Dark Knight Rises          7.6       9106   \n",
              "4                               John Carter          6.1       2124   \n",
              "\n",
              "                                                cast  \\\n",
              "0  Sam Worthington Zoe Saldana Sigourney Weaver S...   \n",
              "1  Johnny Depp Orlando Bloom Keira Knightley Stel...   \n",
              "2  Daniel Craig Christoph Waltz L\\u00e9a Seydoux ...   \n",
              "3  Christian Bale Michael Caine Gary Oldman Anne ...   \n",
              "4  Taylor Kitsch Lynn Collins Samantha Morton Wil...   \n",
              "\n",
              "                                                crew           director  \n",
              "0  [{'name': 'Stephen E. Rivkin', 'gender': 0, 'd...      James Cameron  \n",
              "1  [{'name': 'Dariusz Wolski', 'gender': 2, 'depa...     Gore Verbinski  \n",
              "2  [{'name': 'Thomas Newman', 'gender': 2, 'depar...         Sam Mendes  \n",
              "3  [{'name': 'Hans Zimmer', 'gender': 2, 'departm...  Christopher Nolan  \n",
              "4  [{'name': 'Andrew Stanton', 'gender': 2, 'depa...     Andrew Stanton  \n",
              "\n",
              "[5 rows x 24 columns]"
            ],
            "text/html": [
              "\n",
              "  <div id=\"df-29235c2e-8cc8-4746-b283-cce8cd15ff50\" class=\"colab-df-container\">\n",
              "    <div>\n",
              "<style scoped>\n",
              "    .dataframe tbody tr th:only-of-type {\n",
              "        vertical-align: middle;\n",
              "    }\n",
              "\n",
              "    .dataframe tbody tr th {\n",
              "        vertical-align: top;\n",
              "    }\n",
              "\n",
              "    .dataframe thead th {\n",
              "        text-align: right;\n",
              "    }\n",
              "</style>\n",
              "<table border=\"1\" class=\"dataframe\">\n",
              "  <thead>\n",
              "    <tr style=\"text-align: right;\">\n",
              "      <th></th>\n",
              "      <th>index</th>\n",
              "      <th>budget</th>\n",
              "      <th>genres</th>\n",
              "      <th>homepage</th>\n",
              "      <th>id</th>\n",
              "      <th>keywords</th>\n",
              "      <th>original_language</th>\n",
              "      <th>original_title</th>\n",
              "      <th>overview</th>\n",
              "      <th>popularity</th>\n",
              "      <th>...</th>\n",
              "      <th>runtime</th>\n",
              "      <th>spoken_languages</th>\n",
              "      <th>status</th>\n",
              "      <th>tagline</th>\n",
              "      <th>title</th>\n",
              "      <th>vote_average</th>\n",
              "      <th>vote_count</th>\n",
              "      <th>cast</th>\n",
              "      <th>crew</th>\n",
              "      <th>director</th>\n",
              "    </tr>\n",
              "  </thead>\n",
              "  <tbody>\n",
              "    <tr>\n",
              "      <th>0</th>\n",
              "      <td>0</td>\n",
              "      <td>237000000</td>\n",
              "      <td>Action Adventure Fantasy Science Fiction</td>\n",
              "      <td>http://www.avatarmovie.com/</td>\n",
              "      <td>19995</td>\n",
              "      <td>culture clash future space war space colony so...</td>\n",
              "      <td>en</td>\n",
              "      <td>Avatar</td>\n",
              "      <td>In the 22nd century, a paraplegic Marine is di...</td>\n",
              "      <td>150.437577</td>\n",
              "      <td>...</td>\n",
              "      <td>162</td>\n",
              "      <td>[{\"iso_639_1\": \"en\", \"name\": \"English\"}, {\"iso...</td>\n",
              "      <td>Released</td>\n",
              "      <td>Enter the World of Pandora.</td>\n",
              "      <td>Avatar</td>\n",
              "      <td>7.2</td>\n",
              "      <td>11800</td>\n",
              "      <td>Sam Worthington Zoe Saldana Sigourney Weaver S...</td>\n",
              "      <td>[{'name': 'Stephen E. Rivkin', 'gender': 0, 'd...</td>\n",
              "      <td>James Cameron</td>\n",
              "    </tr>\n",
              "    <tr>\n",
              "      <th>1</th>\n",
              "      <td>1</td>\n",
              "      <td>300000000</td>\n",
              "      <td>Adventure Fantasy Action</td>\n",
              "      <td>http://disney.go.com/disneypictures/pirates/</td>\n",
              "      <td>285</td>\n",
              "      <td>ocean drug abuse exotic island east india trad...</td>\n",
              "      <td>en</td>\n",
              "      <td>Pirates of the Caribbean: At World's End</td>\n",
              "      <td>Captain Barbossa, long believed to be dead, ha...</td>\n",
              "      <td>139.082615</td>\n",
              "      <td>...</td>\n",
              "      <td>169</td>\n",
              "      <td>[{\"iso_639_1\": \"en\", \"name\": \"English\"}]</td>\n",
              "      <td>Released</td>\n",
              "      <td>At the end of the world, the adventure begins.</td>\n",
              "      <td>Pirates of the Caribbean: At World's End</td>\n",
              "      <td>6.9</td>\n",
              "      <td>4500</td>\n",
              "      <td>Johnny Depp Orlando Bloom Keira Knightley Stel...</td>\n",
              "      <td>[{'name': 'Dariusz Wolski', 'gender': 2, 'depa...</td>\n",
              "      <td>Gore Verbinski</td>\n",
              "    </tr>\n",
              "    <tr>\n",
              "      <th>2</th>\n",
              "      <td>2</td>\n",
              "      <td>245000000</td>\n",
              "      <td>Action Adventure Crime</td>\n",
              "      <td>http://www.sonypictures.com/movies/spectre/</td>\n",
              "      <td>206647</td>\n",
              "      <td>spy based on novel secret agent sequel mi6</td>\n",
              "      <td>en</td>\n",
              "      <td>Spectre</td>\n",
              "      <td>A cryptic message from Bond’s past sends him o...</td>\n",
              "      <td>107.376788</td>\n",
              "      <td>...</td>\n",
              "      <td>148</td>\n",
              "      <td>[{\"iso_639_1\": \"fr\", \"name\": \"Fran\\u00e7ais\"},...</td>\n",
              "      <td>Released</td>\n",
              "      <td>A Plan No One Escapes</td>\n",
              "      <td>Spectre</td>\n",
              "      <td>6.3</td>\n",
              "      <td>4466</td>\n",
              "      <td>Daniel Craig Christoph Waltz L\\u00e9a Seydoux ...</td>\n",
              "      <td>[{'name': 'Thomas Newman', 'gender': 2, 'depar...</td>\n",
              "      <td>Sam Mendes</td>\n",
              "    </tr>\n",
              "    <tr>\n",
              "      <th>3</th>\n",
              "      <td>3</td>\n",
              "      <td>250000000</td>\n",
              "      <td>Action Crime Drama Thriller</td>\n",
              "      <td>http://www.thedarkknightrises.com/</td>\n",
              "      <td>49026</td>\n",
              "      <td>dc comics crime fighter terrorist secret ident...</td>\n",
              "      <td>en</td>\n",
              "      <td>The Dark Knight Rises</td>\n",
              "      <td>Following the death of District Attorney Harve...</td>\n",
              "      <td>112.312950</td>\n",
              "      <td>...</td>\n",
              "      <td>165</td>\n",
              "      <td>[{\"iso_639_1\": \"en\", \"name\": \"English\"}]</td>\n",
              "      <td>Released</td>\n",
              "      <td>The Legend Ends</td>\n",
              "      <td>The Dark Knight Rises</td>\n",
              "      <td>7.6</td>\n",
              "      <td>9106</td>\n",
              "      <td>Christian Bale Michael Caine Gary Oldman Anne ...</td>\n",
              "      <td>[{'name': 'Hans Zimmer', 'gender': 2, 'departm...</td>\n",
              "      <td>Christopher Nolan</td>\n",
              "    </tr>\n",
              "    <tr>\n",
              "      <th>4</th>\n",
              "      <td>4</td>\n",
              "      <td>260000000</td>\n",
              "      <td>Action Adventure Science Fiction</td>\n",
              "      <td>http://movies.disney.com/john-carter</td>\n",
              "      <td>49529</td>\n",
              "      <td>based on novel mars medallion space travel pri...</td>\n",
              "      <td>en</td>\n",
              "      <td>John Carter</td>\n",
              "      <td>John Carter is a war-weary, former military ca...</td>\n",
              "      <td>43.926995</td>\n",
              "      <td>...</td>\n",
              "      <td>132</td>\n",
              "      <td>[{\"iso_639_1\": \"en\", \"name\": \"English\"}]</td>\n",
              "      <td>Released</td>\n",
              "      <td>Lost in our world, found in another.</td>\n",
              "      <td>John Carter</td>\n",
              "      <td>6.1</td>\n",
              "      <td>2124</td>\n",
              "      <td>Taylor Kitsch Lynn Collins Samantha Morton Wil...</td>\n",
              "      <td>[{'name': 'Andrew Stanton', 'gender': 2, 'depa...</td>\n",
              "      <td>Andrew Stanton</td>\n",
              "    </tr>\n",
              "  </tbody>\n",
              "</table>\n",
              "<p>5 rows × 24 columns</p>\n",
              "</div>\n",
              "    <div class=\"colab-df-buttons\">\n",
              "\n",
              "  <div class=\"colab-df-container\">\n",
              "    <button class=\"colab-df-convert\" onclick=\"convertToInteractive('df-29235c2e-8cc8-4746-b283-cce8cd15ff50')\"\n",
              "            title=\"Convert this dataframe to an interactive table.\"\n",
              "            style=\"display:none;\">\n",
              "\n",
              "  <svg xmlns=\"http://www.w3.org/2000/svg\" height=\"24px\" viewBox=\"0 -960 960 960\">\n",
              "    <path d=\"M120-120v-720h720v720H120Zm60-500h600v-160H180v160Zm220 220h160v-160H400v160Zm0 220h160v-160H400v160ZM180-400h160v-160H180v160Zm440 0h160v-160H620v160ZM180-180h160v-160H180v160Zm440 0h160v-160H620v160Z\"/>\n",
              "  </svg>\n",
              "    </button>\n",
              "\n",
              "  <style>\n",
              "    .colab-df-container {\n",
              "      display:flex;\n",
              "      gap: 12px;\n",
              "    }\n",
              "\n",
              "    .colab-df-convert {\n",
              "      background-color: #E8F0FE;\n",
              "      border: none;\n",
              "      border-radius: 50%;\n",
              "      cursor: pointer;\n",
              "      display: none;\n",
              "      fill: #1967D2;\n",
              "      height: 32px;\n",
              "      padding: 0 0 0 0;\n",
              "      width: 32px;\n",
              "    }\n",
              "\n",
              "    .colab-df-convert:hover {\n",
              "      background-color: #E2EBFA;\n",
              "      box-shadow: 0px 1px 2px rgba(60, 64, 67, 0.3), 0px 1px 3px 1px rgba(60, 64, 67, 0.15);\n",
              "      fill: #174EA6;\n",
              "    }\n",
              "\n",
              "    .colab-df-buttons div {\n",
              "      margin-bottom: 4px;\n",
              "    }\n",
              "\n",
              "    [theme=dark] .colab-df-convert {\n",
              "      background-color: #3B4455;\n",
              "      fill: #D2E3FC;\n",
              "    }\n",
              "\n",
              "    [theme=dark] .colab-df-convert:hover {\n",
              "      background-color: #434B5C;\n",
              "      box-shadow: 0px 1px 3px 1px rgba(0, 0, 0, 0.15);\n",
              "      filter: drop-shadow(0px 1px 2px rgba(0, 0, 0, 0.3));\n",
              "      fill: #FFFFFF;\n",
              "    }\n",
              "  </style>\n",
              "\n",
              "    <script>\n",
              "      const buttonEl =\n",
              "        document.querySelector('#df-29235c2e-8cc8-4746-b283-cce8cd15ff50 button.colab-df-convert');\n",
              "      buttonEl.style.display =\n",
              "        google.colab.kernel.accessAllowed ? 'block' : 'none';\n",
              "\n",
              "      async function convertToInteractive(key) {\n",
              "        const element = document.querySelector('#df-29235c2e-8cc8-4746-b283-cce8cd15ff50');\n",
              "        const dataTable =\n",
              "          await google.colab.kernel.invokeFunction('convertToInteractive',\n",
              "                                                    [key], {});\n",
              "        if (!dataTable) return;\n",
              "\n",
              "        const docLinkHtml = 'Like what you see? Visit the ' +\n",
              "          '<a target=\"_blank\" href=https://colab.research.google.com/notebooks/data_table.ipynb>data table notebook</a>'\n",
              "          + ' to learn more about interactive tables.';\n",
              "        element.innerHTML = '';\n",
              "        dataTable['output_type'] = 'display_data';\n",
              "        await google.colab.output.renderOutput(dataTable, element);\n",
              "        const docLink = document.createElement('div');\n",
              "        docLink.innerHTML = docLinkHtml;\n",
              "        element.appendChild(docLink);\n",
              "      }\n",
              "    </script>\n",
              "  </div>\n",
              "\n",
              "\n",
              "<div id=\"df-d6928d9e-aa34-412e-8704-59382824ecf6\">\n",
              "  <button class=\"colab-df-quickchart\" onclick=\"quickchart('df-d6928d9e-aa34-412e-8704-59382824ecf6')\"\n",
              "            title=\"Suggest charts.\"\n",
              "            style=\"display:none;\">\n",
              "\n",
              "<svg xmlns=\"http://www.w3.org/2000/svg\" height=\"24px\"viewBox=\"0 0 24 24\"\n",
              "     width=\"24px\">\n",
              "    <g>\n",
              "        <path d=\"M19 3H5c-1.1 0-2 .9-2 2v14c0 1.1.9 2 2 2h14c1.1 0 2-.9 2-2V5c0-1.1-.9-2-2-2zM9 17H7v-7h2v7zm4 0h-2V7h2v10zm4 0h-2v-4h2v4z\"/>\n",
              "    </g>\n",
              "</svg>\n",
              "  </button>\n",
              "\n",
              "<style>\n",
              "  .colab-df-quickchart {\n",
              "      --bg-color: #E8F0FE;\n",
              "      --fill-color: #1967D2;\n",
              "      --hover-bg-color: #E2EBFA;\n",
              "      --hover-fill-color: #174EA6;\n",
              "      --disabled-fill-color: #AAA;\n",
              "      --disabled-bg-color: #DDD;\n",
              "  }\n",
              "\n",
              "  [theme=dark] .colab-df-quickchart {\n",
              "      --bg-color: #3B4455;\n",
              "      --fill-color: #D2E3FC;\n",
              "      --hover-bg-color: #434B5C;\n",
              "      --hover-fill-color: #FFFFFF;\n",
              "      --disabled-bg-color: #3B4455;\n",
              "      --disabled-fill-color: #666;\n",
              "  }\n",
              "\n",
              "  .colab-df-quickchart {\n",
              "    background-color: var(--bg-color);\n",
              "    border: none;\n",
              "    border-radius: 50%;\n",
              "    cursor: pointer;\n",
              "    display: none;\n",
              "    fill: var(--fill-color);\n",
              "    height: 32px;\n",
              "    padding: 0;\n",
              "    width: 32px;\n",
              "  }\n",
              "\n",
              "  .colab-df-quickchart:hover {\n",
              "    background-color: var(--hover-bg-color);\n",
              "    box-shadow: 0 1px 2px rgba(60, 64, 67, 0.3), 0 1px 3px 1px rgba(60, 64, 67, 0.15);\n",
              "    fill: var(--button-hover-fill-color);\n",
              "  }\n",
              "\n",
              "  .colab-df-quickchart-complete:disabled,\n",
              "  .colab-df-quickchart-complete:disabled:hover {\n",
              "    background-color: var(--disabled-bg-color);\n",
              "    fill: var(--disabled-fill-color);\n",
              "    box-shadow: none;\n",
              "  }\n",
              "\n",
              "  .colab-df-spinner {\n",
              "    border: 2px solid var(--fill-color);\n",
              "    border-color: transparent;\n",
              "    border-bottom-color: var(--fill-color);\n",
              "    animation:\n",
              "      spin 1s steps(1) infinite;\n",
              "  }\n",
              "\n",
              "  @keyframes spin {\n",
              "    0% {\n",
              "      border-color: transparent;\n",
              "      border-bottom-color: var(--fill-color);\n",
              "      border-left-color: var(--fill-color);\n",
              "    }\n",
              "    20% {\n",
              "      border-color: transparent;\n",
              "      border-left-color: var(--fill-color);\n",
              "      border-top-color: var(--fill-color);\n",
              "    }\n",
              "    30% {\n",
              "      border-color: transparent;\n",
              "      border-left-color: var(--fill-color);\n",
              "      border-top-color: var(--fill-color);\n",
              "      border-right-color: var(--fill-color);\n",
              "    }\n",
              "    40% {\n",
              "      border-color: transparent;\n",
              "      border-right-color: var(--fill-color);\n",
              "      border-top-color: var(--fill-color);\n",
              "    }\n",
              "    60% {\n",
              "      border-color: transparent;\n",
              "      border-right-color: var(--fill-color);\n",
              "    }\n",
              "    80% {\n",
              "      border-color: transparent;\n",
              "      border-right-color: var(--fill-color);\n",
              "      border-bottom-color: var(--fill-color);\n",
              "    }\n",
              "    90% {\n",
              "      border-color: transparent;\n",
              "      border-bottom-color: var(--fill-color);\n",
              "    }\n",
              "  }\n",
              "</style>\n",
              "\n",
              "  <script>\n",
              "    async function quickchart(key) {\n",
              "      const quickchartButtonEl =\n",
              "        document.querySelector('#' + key + ' button');\n",
              "      quickchartButtonEl.disabled = true;  // To prevent multiple clicks.\n",
              "      quickchartButtonEl.classList.add('colab-df-spinner');\n",
              "      try {\n",
              "        const charts = await google.colab.kernel.invokeFunction(\n",
              "            'suggestCharts', [key], {});\n",
              "      } catch (error) {\n",
              "        console.error('Error during call to suggestCharts:', error);\n",
              "      }\n",
              "      quickchartButtonEl.classList.remove('colab-df-spinner');\n",
              "      quickchartButtonEl.classList.add('colab-df-quickchart-complete');\n",
              "    }\n",
              "    (() => {\n",
              "      let quickchartButtonEl =\n",
              "        document.querySelector('#df-d6928d9e-aa34-412e-8704-59382824ecf6 button');\n",
              "      quickchartButtonEl.style.display =\n",
              "        google.colab.kernel.accessAllowed ? 'block' : 'none';\n",
              "    })();\n",
              "  </script>\n",
              "</div>\n",
              "    </div>\n",
              "  </div>\n"
            ]
          },
          "metadata": {},
          "execution_count": 3
        }
      ]
    },
    {
      "cell_type": "code",
      "source": [
        "# number of rows and columns in the data frame\n",
        "\n",
        "movies_data.shape"
      ],
      "metadata": {
        "colab": {
          "base_uri": "https://localhost:8080/"
        },
        "id": "yUhBwBiaVWEt",
        "outputId": "890b52b7-5b2d-4a2d-845b-2b3992744f39"
      },
      "execution_count": 4,
      "outputs": [
        {
          "output_type": "execute_result",
          "data": {
            "text/plain": [
              "(2089, 24)"
            ]
          },
          "metadata": {},
          "execution_count": 4
        }
      ]
    },
    {
      "cell_type": "code",
      "source": [
        "# selecting the relevant features for recommendation\n",
        "\n",
        "selected_features = ['genres','keywords','tagline','cast','director']\n",
        "print(selected_features)"
      ],
      "metadata": {
        "colab": {
          "base_uri": "https://localhost:8080/"
        },
        "id": "5fegkCPDVY0t",
        "outputId": "eb32ccc1-7391-41ec-ce7a-336f5f7d08df"
      },
      "execution_count": 5,
      "outputs": [
        {
          "output_type": "stream",
          "name": "stdout",
          "text": [
            "['genres', 'keywords', 'tagline', 'cast', 'director']\n"
          ]
        }
      ]
    },
    {
      "cell_type": "code",
      "source": [
        "# replacing the null valuess with null string\n",
        "\n",
        "for feature in selected_features:\n",
        "  movies_data[feature] = movies_data[feature].fillna('')"
      ],
      "metadata": {
        "id": "sLxKV5PqVa-u"
      },
      "execution_count": 6,
      "outputs": []
    },
    {
      "cell_type": "code",
      "source": [
        "# combining all the 5 selected features\n",
        "\n",
        "combined_features = movies_data['genres']+' '+movies_data['keywords']+' '+movies_data['tagline']+' '+movies_data['cast']+' '+movies_data['director']"
      ],
      "metadata": {
        "id": "4zj5RH8PVdz9"
      },
      "execution_count": 7,
      "outputs": []
    },
    {
      "cell_type": "code",
      "source": [
        "print(combined_features)"
      ],
      "metadata": {
        "colab": {
          "base_uri": "https://localhost:8080/"
        },
        "id": "ABGR3Xm3VgCH",
        "outputId": "5270ebd1-4555-4f8e-ec1d-040f203a4f77"
      },
      "execution_count": 8,
      "outputs": [
        {
          "output_type": "stream",
          "name": "stdout",
          "text": [
            "0       Action Adventure Fantasy Science Fiction cultu...\n",
            "1       Adventure Fantasy Action ocean drug abuse exot...\n",
            "2       Action Adventure Crime spy based on novel secr...\n",
            "3       Action Crime Drama Thriller dc comics crime fi...\n",
            "4       Action Adventure Science Fiction based on nove...\n",
            "                              ...                        \n",
            "2084    Action Thriller Science Fiction Horror video g...\n",
            "2085    Adventure Action saving the world riddle nepal...\n",
            "2086    Comedy Family Adventure Crime holiday new york...\n",
            "2087    Science Fiction Drama indiana obsession extrat...\n",
            "2088    Horror Thriller suicide hacker death of a frie...\n",
            "Length: 2089, dtype: object\n"
          ]
        }
      ]
    },
    {
      "cell_type": "code",
      "source": [
        "# converting the text data to feature vectors\n",
        "\n",
        "vectorizer = TfidfVectorizer()"
      ],
      "metadata": {
        "id": "9u0uQdJvViKk"
      },
      "execution_count": 9,
      "outputs": []
    },
    {
      "cell_type": "code",
      "source": [
        "feature_vectors = vectorizer.fit_transform(combined_features)"
      ],
      "metadata": {
        "id": "1pzdXZ0EVkOt"
      },
      "execution_count": 10,
      "outputs": []
    },
    {
      "cell_type": "code",
      "source": [
        "print(feature_vectors)"
      ],
      "metadata": {
        "colab": {
          "base_uri": "https://localhost:8080/"
        },
        "id": "E1n8iJFkVmqV",
        "outputId": "350bdac8-e1ca-4fc5-f2c2-dfbee745ebe7"
      },
      "execution_count": 11,
      "outputs": [
        {
          "output_type": "stream",
          "name": "stdout",
          "text": [
            "  (0, 1301)\t0.16876737376418685\n",
            "  (0, 4275)\t0.11680077942080784\n",
            "  (0, 7161)\t0.19237102342633866\n",
            "  (0, 5581)\t0.1604943595364643\n",
            "  (0, 4793)\t0.23336975078624914\n",
            "  (0, 8027)\t0.15792311079415675\n",
            "  (0, 9152)\t0.20976610112409733\n",
            "  (0, 7703)\t0.21597467308849047\n",
            "  (0, 7318)\t0.21272908808658564\n",
            "  (0, 9520)\t0.20704041734015702\n",
            "  (0, 9370)\t0.22357335105661574\n",
            "  (0, 7336)\t0.14736144586354316\n",
            "  (0, 6285)\t0.25697340044840095\n",
            "  (0, 6107)\t0.0925554685711143\n",
            "  (0, 9366)\t0.12198841805392979\n",
            "  (0, 8387)\t0.06908830353381445\n",
            "  (0, 2703)\t0.24717700071876755\n",
            "  (0, 7829)\t0.21272908808658564\n",
            "  (0, 1726)\t0.23957832275064228\n",
            "  (0, 9098)\t0.1251479022051235\n",
            "  (0, 7889)\t0.3209887190729286\n",
            "  (0, 3222)\t0.16400807874511147\n",
            "  (0, 1646)\t0.24717700071876755\n",
            "  (0, 1985)\t0.24717700071876755\n",
            "  (0, 2974)\t0.09753340234008673\n",
            "  :\t:\n",
            "  (2088, 7862)\t0.2746772642221126\n",
            "  (2088, 7852)\t0.2746772642221126\n",
            "  (2088, 4136)\t0.2746772642221126\n",
            "  (2088, 9158)\t0.2746772642221126\n",
            "  (2088, 3458)\t0.25073395104321083\n",
            "  (2088, 5610)\t0.26067132386943237\n",
            "  (2088, 3608)\t0.21579032273498652\n",
            "  (2088, 1604)\t0.19877875715894874\n",
            "  (2088, 6065)\t0.18351657294005433\n",
            "  (2088, 6975)\t0.20284732468540734\n",
            "  (2088, 2135)\t0.1583611038386204\n",
            "  (2088, 4398)\t0.16147518409357042\n",
            "  (2088, 816)\t0.1903115168029759\n",
            "  (2088, 8141)\t0.18000070359166187\n",
            "  (2088, 4720)\t0.18000070359166187\n",
            "  (2088, 7072)\t0.2127846975116289\n",
            "  (2088, 4359)\t0.15661907594594024\n",
            "  (2088, 8656)\t0.2227220703378505\n",
            "  (2088, 3969)\t0.12917816525148976\n",
            "  (2088, 3180)\t0.19345394576627586\n",
            "  (2088, 440)\t0.15137525614766484\n",
            "  (2088, 4059)\t0.174835443980047\n",
            "  (2088, 9451)\t0.112624507281445\n",
            "  (2088, 8441)\t0.07624197118189913\n",
            "  (2088, 6107)\t0.09388736920509601\n"
          ]
        }
      ]
    },
    {
      "cell_type": "markdown",
      "source": [
        "Cosine Similarity\n"
      ],
      "metadata": {
        "id": "4iF8d2pfVzJp"
      }
    },
    {
      "cell_type": "code",
      "source": [
        "# getting the similarity scores using cosine similarity\n",
        "\n",
        "similarity = cosine_similarity(feature_vectors)"
      ],
      "metadata": {
        "id": "y8Q18Yj3VosF"
      },
      "execution_count": 12,
      "outputs": []
    },
    {
      "cell_type": "code",
      "source": [
        "print(similarity)"
      ],
      "metadata": {
        "colab": {
          "base_uri": "https://localhost:8080/"
        },
        "id": "teBUUpRgV308",
        "outputId": "b6c56f8d-3a0f-47ca-fa2d-7d020fd49945"
      },
      "execution_count": 13,
      "outputs": [
        {
          "output_type": "stream",
          "name": "stdout",
          "text": [
            "[[1.         0.06444785 0.03430885 ... 0.00979879 0.01810682 0.00868979]\n",
            " [0.06444785 1.         0.02845527 ... 0.02122078 0.         0.01539724]\n",
            " [0.03430885 0.02845527 1.         ... 0.03988207 0.         0.        ]\n",
            " ...\n",
            " [0.00979879 0.02122078 0.03988207 ... 1.         0.         0.        ]\n",
            " [0.01810682 0.         0.         ... 0.         1.         0.02152174]\n",
            " [0.00868979 0.01539724 0.         ... 0.         0.02152174 1.        ]]\n"
          ]
        }
      ]
    },
    {
      "cell_type": "code",
      "source": [
        "print(similarity.shape)"
      ],
      "metadata": {
        "colab": {
          "base_uri": "https://localhost:8080/"
        },
        "id": "rio9TUCKV8KV",
        "outputId": "c66042a2-0a96-4aef-bef0-e905c4b82613"
      },
      "execution_count": 14,
      "outputs": [
        {
          "output_type": "stream",
          "name": "stdout",
          "text": [
            "(2089, 2089)\n"
          ]
        }
      ]
    },
    {
      "cell_type": "markdown",
      "source": [
        "Getting the movie name from the user"
      ],
      "metadata": {
        "id": "UhCGOF8lWAi1"
      }
    },
    {
      "cell_type": "code",
      "source": [
        "# getting the movie name from the user\n",
        "\n",
        "movie_name = input(' Enter your favourite movie name : ')"
      ],
      "metadata": {
        "colab": {
          "base_uri": "https://localhost:8080/"
        },
        "id": "GIqdLrudV9jP",
        "outputId": "aa56c6c2-ae2d-49e2-f49c-b234c5eee2c4"
      },
      "execution_count": 16,
      "outputs": [
        {
          "name": "stdout",
          "output_type": "stream",
          "text": [
            " Enter your favourite movie name : iron man\n"
          ]
        }
      ]
    },
    {
      "cell_type": "code",
      "source": [
        "# creating a list with all the movie names given in the dataset\n",
        "\n",
        "list_of_all_titles = movies_data['title'].tolist()\n",
        "print(list_of_all_titles)"
      ],
      "metadata": {
        "colab": {
          "base_uri": "https://localhost:8080/"
        },
        "id": "i2j4-QHRWQi0",
        "outputId": "e2a58e47-d0f3-46c9-b070-67ca67b23faa"
      },
      "execution_count": 18,
      "outputs": [
        {
          "output_type": "stream",
          "name": "stdout",
          "text": [
            "['Avatar', \"Pirates of the Caribbean: At World's End\", 'Spectre', 'The Dark Knight Rises', 'John Carter', 'Spider-Man 3', 'Tangled', 'Avengers: Age of Ultron', 'Harry Potter and the Half-Blood Prince', 'Batman v Superman: Dawn of Justice', 'Superman Returns', 'Quantum of Solace', \"Pirates of the Caribbean: Dead Man's Chest\", 'The Lone Ranger', 'Man of Steel', 'The Chronicles of Narnia: Prince Caspian', 'The Avengers', 'Pirates of the Caribbean: On Stranger Tides', 'Men in Black 3', 'The Hobbit: The Battle of the Five Armies', 'The Amazing Spider-Man', 'Robin Hood', 'The Hobbit: The Desolation of Smaug', 'The Golden Compass', 'King Kong', 'Titanic', 'Captain America: Civil War', 'Battleship', 'Jurassic World', 'Skyfall', 'Spider-Man 2', 'Iron Man 3', 'Alice in Wonderland', 'X-Men: The Last Stand', 'Monsters University', 'Transformers: Revenge of the Fallen', 'Transformers: Age of Extinction', 'Oz: The Great and Powerful', 'The Amazing Spider-Man 2', 'TRON: Legacy', 'Cars 2', 'Green Lantern', 'Toy Story 3', 'Terminator Salvation', 'Furious 7', 'World War Z', 'X-Men: Days of Future Past', 'Star Trek Into Darkness', 'Jack the Giant Slayer', 'The Great Gatsby', 'Prince of Persia: The Sands of Time', 'Pacific Rim', 'Transformers: Dark of the Moon', 'Indiana Jones and the Kingdom of the Crystal Skull', 'The Good Dinosaur', 'Brave', 'Star Trek Beyond', 'WALL·E', 'Rush Hour 3', '2012', 'A Christmas Carol', 'Jupiter Ascending', 'The Legend of Tarzan', 'The Chronicles of Narnia: The Lion, the Witch and the Wardrobe', 'X-Men: Apocalypse', 'The Dark Knight', 'Up', 'Monsters vs Aliens', 'Iron Man', 'Hugo', 'Wild Wild West', 'The Mummy: Tomb of the Dragon Emperor', 'Suicide Squad', 'Evan Almighty', 'Edge of Tomorrow', 'Waterworld', 'G.I. Joe: The Rise of Cobra', 'Inside Out', 'The Jungle Book', 'Iron Man 2', 'Snow White and the Huntsman', 'Maleficent', 'Dawn of the Planet of the Apes', 'The Lovers', '47 Ronin', 'Captain America: The Winter Soldier', 'Shrek Forever After', 'Tomorrowland', 'Big Hero 6', 'Wreck-It Ralph', 'The Polar Express', 'Independence Day: Resurgence', 'How to Train Your Dragon', 'Terminator 3: Rise of the Machines', 'Guardians of the Galaxy', 'Interstellar', 'Inception', 'Shin Godzilla', 'The Hobbit: An Unexpected Journey', 'The Fast and the Furious', 'The Curious Case of Benjamin Button', 'X-Men: First Class', 'The Hunger Games: Mockingjay - Part 2', \"The Sorcerer's Apprentice\", 'Poseidon', 'Alice Through the Looking Glass', 'Shrek the Third', 'Warcraft', 'Terminator Genisys', 'The Chronicles of Narnia: The Voyage of the Dawn Treader', 'Pearl Harbor', 'Transformers', 'Alexander', 'Harry Potter and the Order of the Phoenix', 'Harry Potter and the Goblet of Fire', 'Hancock', 'I Am Legend', 'Charlie and the Chocolate Factory', 'Ratatouille', 'Batman Begins', 'Madagascar: Escape 2 Africa', 'Night at the Museum: Battle of the Smithsonian', 'X-Men Origins: Wolverine', 'The Matrix Revolutions', 'Frozen', 'The Matrix Reloaded', 'Thor: The Dark World', 'Mad Max: Fury Road', 'Angels & Demons', 'Thor', 'Bolt', 'G-Force', 'Wrath of the Titans', 'Dark Shadows', 'Mission: Impossible - Rogue Nation', 'The Wolfman', 'Bee Movie', 'Kung Fu Panda 2', 'The Last Airbender', 'Mission: Impossible III', 'White House Down', 'Mars Needs Moms', 'Flushed Away', 'Pan', 'Mr. Peabody & Sherman', 'Troy', \"Madagascar 3: Europe's Most Wanted\", 'Die Another Day', 'Ghostbusters', 'Armageddon', 'Men in Black II', 'Beowulf', 'Kung Fu Panda 3', 'Mission: Impossible - Ghost Protocol', 'Rise of the Guardians', 'Fun with Dick and Jane', 'The Last Samurai', 'Exodus: Gods and Kings', 'Star Trek', 'Spider-Man', 'How to Train Your Dragon 2', 'Gods of Egypt', 'Stealth', 'Watchmen', 'Lethal Weapon 4', 'Hulk', 'G.I. Joe: Retaliation', 'Sahara', 'Final Fantasy: The Spirits Within', 'Captain America: The First Avenger', 'The World Is Not Enough', 'Master and Commander: The Far Side of the World', 'The Twilight Saga: Breaking Dawn - Part 2', 'Happy Feet Two', 'The Incredible Hulk', 'The BFG', 'The Revenant', 'Turbo', 'Rango', 'Penguins of Madagascar', 'The Bourne Ultimatum', 'Kung Fu Panda', 'Ant-Man', 'The Hunger Games: Catching Fire', 'Home', 'War of the Worlds', 'Bad Boys II', 'Puss in Boots', 'Salt', 'Noah', 'The Adventures of Tintin', 'Harry Potter and the Prisoner of Azkaban', 'Australia', 'After Earth', 'Dinosaur', 'Night at the Museum: Secret of the Tomb', 'Megamind', \"Harry Potter and the Philosopher's Stone\", 'R.I.P.D.', 'Pirates of the Caribbean: The Curse of the Black Pearl', 'The Hunger Games: Mockingjay - Part 1', 'The Da Vinci Code', 'Rio 2', 'X2', 'Fast Five', 'Sherlock Holmes: A Game of Shadows', 'Clash of the Titans', 'Total Recall', 'The 13th Warrior', 'The Bourne Legacy', 'Batman & Robin', 'How the Grinch Stole Christmas', 'The Day After Tomorrow', 'Mission: Impossible II', 'The Perfect Storm', 'Fantastic 4: Rise of the Silver Surfer', 'Life of Pi', 'Ghost Rider', 'Jason Bourne', \"Charlie's Angels: Full Throttle\", 'Prometheus', 'Stuart Little 2', 'Elysium', 'The Chronicles of Riddick', 'RoboCop', 'Speed Racer', 'How Do You Know', 'Knight and Day', 'Oblivion', 'Star Wars: Episode III - Revenge of the Sith', 'Star Wars: Episode II - Attack of the Clones', 'Monsters, Inc.', 'The Wolverine', 'Star Wars: Episode I - The Phantom Menace', 'The Croods', 'Asterix at the Olympic Games', 'Windtalkers', \"The Huntsman: Winter's War\", 'Teenage Mutant Ninja Turtles', 'Gravity', \"Dante's Peak\", 'Teenage Mutant Ninja Turtles: Out of the Shadows', 'Fantastic Four', 'Night at the Museum', 'San Andreas', 'Tomorrow Never Dies', 'The Patriot', \"Ocean's Twelve\", 'Mr. & Mrs. Smith', 'Insurgent', 'The Aviator', \"Gulliver's Travels\", 'The Green Hornet', '300: Rise of an Empire', 'The Smurfs', 'Home on the Range', 'Allegiant', 'Real Steel', 'The Smurfs 2', 'Speed 2: Cruise Control', \"Ender's Game\", 'Live Free or Die Hard', 'The Lord of the Rings: The Fellowship of the Ring', 'Around the World in 80 Days', 'Ali', 'The Cat in the Hat', 'I, Robot', 'Kingdom of Heaven', 'Stuart Little', 'The Princess and the Frog', 'The Martian', 'The Island', 'Town & Country', 'Gone in Sixty Seconds', 'Gladiator', 'Minority Report', 'Harry Potter and the Chamber of Secrets', 'Casino Royale', 'Planet of the Apes', 'Terminator 2: Judgment Day', 'Public Enemies', 'American Gangster', 'True Lies', 'The Taking of Pelham 1 2 3', 'Little Fockers', 'The Other Guys', 'Eraser', 'Django Unchained', 'The Hunchback of Notre Dame', \"The Emperor's New Groove\", 'The Expendables 2', 'National Treasure', 'Eragon', 'Where the Wild Things Are', 'Epic', 'The Tourist', 'End of Days', 'Blood Diamond', 'The Wolf of Wall Street', 'Batman Forever', 'Starship Troopers', 'Cloud Atlas', \"Legend of the Guardians: The Owls of Ga'Hoole\", 'Catwoman', 'Hercules', 'Treasure Planet', 'Land of the Lost', 'The Expendables 3', 'Point Break', 'Son of the Mask', 'In the Heart of the Sea', 'The Adventures of Pluto Nash', 'Green Zone', 'The Peanuts Movie', 'The Spanish Prisoner', 'The Mummy Returns', 'Gangs of New York', 'The Flowers of War', \"Surf's Up\", 'The Stepford Wives', 'Black Hawk Down', 'The Campaign', 'The Fifth Element', 'Sex and the City 2', 'The Road to El Dorado', 'Ice Age: Continental Drift', 'Cinderella', 'The Lovely Bones', 'Finding Nemo', 'The Lord of the Rings: The Return of the King', 'The Lord of the Rings: The Two Towers', 'Seventh Son', 'Lara Croft: Tomb Raider', 'Transcendence', 'Jurassic Park III', 'Rise of the Planet of the Apes', 'The Spiderwick Chronicles', 'A Good Day to Die Hard', 'The Alamo', 'The Incredibles', 'Cutthroat Island', 'Percy Jackson & the Olympians: The Lightning Thief', 'Men in Black', 'Toy Story 2', 'Unstoppable', 'Rush Hour 2', 'What Lies Beneath', 'Cloudy with a Chance of Meatballs', 'Ice Age: Dawn of the Dinosaurs', 'The Secret Life of Walter Mitty', \"Charlie's Angels\", 'The Departed', 'Mulan', 'Tropic Thunder', 'The Girl with the Dragon Tattoo', 'Die Hard: With a Vengeance', 'Sherlock Holmes', 'Ben-Hur', 'Atlantis: The Lost Empire', 'Alvin and the Chipmunks: The Road Chip', 'Valkyrie', \"You Don't Mess with the Zohan\", 'Pixels', 'A.I. Artificial Intelligence', 'The Haunted Mansion', 'Contact', 'Hollow Man', 'The Interpreter', 'Percy Jackson: Sea of Monsters', 'Lara Croft Tomb Raider: The Cradle of Life', 'Now You See Me 2', 'The Saint', 'Spy Game', 'Mission to Mars', 'Rio', 'Bicentennial Man', 'Volcano', \"The Devil's Own\", 'K-19: The Widowmaker', 'Conan the Barbarian', 'Cinderella Man', 'The Nutcracker: The Untold Story', 'Seabiscuit', 'Twister', 'Cast Away', 'Happy Feet', 'The Bourne Supremacy', 'Air Force One', \"Ocean's Eleven\", 'The Three Musketeers', 'Hotel Transylvania', 'Enchanted', 'Safe House', '102 Dalmatians', 'Tower Heist', 'The Holiday', 'Enemy of the State', \"It's Complicated\", \"Ocean's Thirteen\", 'Open Season', 'Divergent', 'Enemy at the Gates', 'The Rundown', 'Last Action Hero', 'Memoirs of a Geisha', 'The Fast and the Furious: Tokyo Drift', 'Arthur Christmas', 'Meet Joe Black', 'Collateral Damage', 'All That Jazz', 'Mirror Mirror', 'Scott Pilgrim vs. the World', 'The Core', 'Nutty Professor II: The Klumps', 'Scooby-Doo', 'Dredd', 'Click', 'Creepshow', 'Cats & Dogs 2 : The Revenge of Kitty Galore', 'Jumper', 'Hellboy II: The Golden Army', 'Zodiac', 'The 6th Day', 'Bruce Almighty', 'The Expendables', 'Mission: Impossible', 'The Hunger Games', 'The Hangover Part II', 'Batman Returns', 'Over the Hedge', 'Lilo & Stitch', \"Charlotte's Web\", 'Deep Impact', 'RED 2', 'The Longest Yard', 'Alvin and the Chipmunks: Chipwrecked', 'Grown Ups 2', 'Get Smart', \"Something's Gotta Give\", 'Shutter Island', 'Four Christmases', 'Robots', 'Face/Off', 'Bedtime Stories', 'Road to Perdition', 'Just Go with It', 'Con Air', 'Eagle Eye', 'Cold Mountain', 'The Book of Eli', 'Flubber', 'The Haunting', 'Space Jam', 'The Pink Panther', 'The Day the Earth Stood Still', 'Conspiracy Theory', 'Fury', 'Six Days Seven Nights', 'Yogi Bear', 'Spirit: Stallion of the Cimarron', 'Zookeeper', 'Lost in Space', 'The Manchurian Candidate', 'Déjà Vu', 'Hotel Transylvania 2', 'Fantasia 2000', 'The Time Machine', 'Mighty Joe Young', 'Swordfish', 'The Legend of Zorro', 'What Dreams May Come', 'Little Nicky', 'The Brothers Grimm', 'Mars Attacks!', 'Evolution', 'The Edge', 'Surrogates', 'Thirteen Days', 'Daylight', 'Walking With Dinosaurs', 'Battlefield Earth', 'Looney Tunes: Back in Action', 'Nine', 'Timeline', 'The Postman', 'Babe: Pig in the City', 'The Last Witch Hunter', 'Red Planet', 'Arthur and the Invisibles', 'Oceans', 'A Sound of Thunder', 'Pompeii', 'Top Cat Begins', 'A Beautiful Mind', 'The Lion King', 'Journey 2: The Mysterious Island', 'Cloudy with a Chance of Meatballs 2', 'Red Dragon', 'Hidalgo', 'Jack and Jill', '2 Fast 2 Furious', 'The Little Prince', 'The Invasion', 'The Adventures of Rocky & Bullwinkle', 'The Secret Life of Pets', 'The League of Extraordinary Gentlemen', 'Despicable Me 2', 'Independence Day', 'The Lost World: Jurassic Park', 'Madagascar', 'Children of Men', 'X-Men', 'Wanted', 'The Rock', 'Ice Age: The Meltdown', '50 First Dates', 'Hairspray', 'Exorcist: The Beginning', 'Inspector Gadget', 'Now You See Me', 'Grown Ups', 'The Terminal', 'Hotel for Dogs', 'Vertical Limit', \"Charlie Wilson's War\", 'Shark Tale', 'Dreamgirls', 'Be Cool', 'Munich', 'Tears of the Sun', 'Killers', 'The Man from U.N.C.L.E.', 'Spanglish', 'Monster House', 'Bandits', 'First Knight', 'Anna and the King', 'Immortals', 'Hostage', 'Titan A.E.', 'Hollywood Homicide', 'Soldier', 'Carriers', 'Monkeybone', 'Flight of the Phoenix', 'Unbreakable', 'Minions', 'Sucker Punch', 'Snake Eyes', 'Sphere', 'The Angry Birds Movie', \"Fool's Gold\", 'Funny People', 'The Kingdom', 'Talladega Nights: The Ballad of Ricky Bobby', 'Dr. Dolittle 2', 'Braveheart', 'Jarhead', 'The Simpsons Movie', 'The Majestic', 'Driven', 'Two Brothers', 'The Village', 'Doctor Dolittle', 'Signs', 'Shrek 2', 'Cars', 'Runaway Bride', 'xXx', 'The SpongeBob Movie: Sponge Out of Water', 'Ransom', 'Inglourious Basterds', 'Hook', 'Die Hard 2', 'S.W.A.T.', 'Vanilla Sky', 'Lady in the Water', 'AVP: Alien vs. Predator', 'Alvin and the Chipmunks: The Squeakquel', 'We Were Soldiers', 'Olympus Has Fallen', 'Star Trek: Insurrection', 'Battle: Los Angeles', 'Big Fish', 'Wolf', 'War Horse', 'The Monuments Men', 'The Abyss', 'Wall Street: Money Never Sleeps', 'Dracula Untold', 'The Siege', 'Stardust', 'Seven Years in Tibet', 'The Dilemma', 'Bad Company', 'Doom', 'I Spy', 'Underworld: Awakening', 'Rock of Ages', \"Hart's War\", 'Killer Elite', 'Rollerball', 'Ballistic: Ecks vs. Sever', 'Hard Rain', 'Osmosis Jones', \"Legends of Oz: Dorothy's Return\", 'Blackhat', 'Sky Captain and the World of Tomorrow', 'Basic Instinct 2', 'Escape Plan', 'The Legend of Hercules', 'The Sum of All Fears', 'The Twilight Saga: Eclipse', 'The Score', 'Despicable Me', 'Money Train', 'Ted 2', 'Agora', 'Mystery Men', 'Hall Pass', 'The Insider', 'The Finest Hours', 'Body of Lies', 'Dinner for Schmucks', 'Abraham Lincoln: Vampire Hunter', 'Entrapment', 'The X Files', 'The Last Legion', 'Saving Private Ryan', 'Need for Speed', 'What Women Want', 'Ice Age', 'Dreamcatcher', 'Lincoln', 'The Matrix', 'Apollo 13', 'The Santa Clause 2', 'Les Misérables', \"You've Got Mail\", 'Step Brothers', 'The Mask of Zorro', 'Due Date', 'Unbroken', 'Space Cowboys', 'Cliffhanger', 'Broken Arrow', 'The Kid', 'World Trade Center', 'Mona Lisa Smile', 'The Dictator', 'Eyes Wide Shut', 'Annie', 'Focus', 'This Means War', 'Blade: Trinity', 'Red Dawn', 'Primary Colors', 'Resident Evil: Retribution', 'Death Race', 'The Long Kiss Goodnight', 'Proof of Life', 'Zathura: A Space Adventure', 'Fight Club', 'We Are Marshall', 'Hudson Hawk', 'Lucky Numbers', 'I, Frankenstein', 'Oliver Twist', 'Elektra', 'Sin City: A Dame to Kill For', 'Random Hearts', 'Everest', 'Perfume: The Story of a Murderer', 'Austin Powers in Goldmember', 'Astro Boy', 'Jurassic Park', 'Wyatt Earp', 'Clear and Present Danger', 'Dragon Blade', 'Little Man', 'U-571', 'The American President', 'The Love Guru', '3000 Miles to Graceland', 'The Hateful Eight', 'Blades of Glory', 'Hop', '300', 'Meet the Fockers', 'Marley & Me', 'The Green Mile', 'Wild Hogs', 'Chicken Little', 'Gone Girl', 'The Bourne Identity', 'GoldenEye', \"The General's Daughter\", 'The Truman Show', 'The Prince of Egypt', 'Daddy Day Care', '2 Guns', 'Cats & Dogs', 'The Italian Job', 'Two Weeks Notice', 'Antz', 'Couples Retreat', 'Days of Thunder', 'Cheaper by the Dozen 2', 'Maze Runner: The Scorch Trials', 'Eat Pray Love', 'The Family Man', 'RED', 'Any Given Sunday', 'The Horse Whisperer', 'Collateral', 'The Scorpion King', 'Ladder 49', 'Jack Reacher', 'Deep Blue Sea', 'This Is It', 'Contagion', 'Kangaroo Jack', 'Coraline', 'The Happening', 'Man on Fire', 'The Shaggy Dog', 'Starsky & Hutch', 'Jingle All the Way', 'Hellboy', 'A Civil Action', 'ParaNorman', 'The Jackal', 'Paycheck', 'Up Close & Personal', 'The Tale of Despereaux', 'The Tuxedo', 'Under Siege 2: Dark Territory', 'Jack Ryan: Shadow Recruit', 'Joy', 'London Has Fallen', 'Alien: Resurrection', 'Shooter', 'The Boxtrolls', 'Practical Magic', 'The Lego Movie', 'Miss Congeniality 2: Armed and Fabulous', 'Reign of Fire', 'Gangster Squad', 'Year One', 'Invictus', 'State of Play', 'Duplicity', 'My Favorite Martian', 'The Sentinel', 'Planet 51', 'Star Trek: Nemesis', 'Intolerable Cruelty', 'Trouble with the Curve', 'Edge of Darkness', 'The Relic', 'Analyze That', 'Righteous Kill', 'Mercury Rising', 'The Soloist', 'The Legend of Bagger Vance', 'Almost Famous', 'Garfield: A Tail of Two Kitties', 'xXx: State of the Union', 'Priest', 'Sinbad: Legend of the Seven Seas', 'Event Horizon', 'Dragonfly', 'The Black Dahlia', 'Flyboys', 'The Last Castle', 'Supernova', \"Winter's Tale\", 'The Mortal Instruments: City of Bones', 'Meet Dave', 'Dark Water', 'Edtv', 'Inkheart', 'The Spirit', 'Mortdecai', 'In the Name of the King: A Dungeon Siege Tale', 'Beyond Borders', 'The Monkey King 2', 'The Great Raid', 'Deadpool', 'Holy Man', 'American Sniper', 'Goosebumps', 'Just Like Heaven', 'The Flintstones in Viva Rock Vegas', 'Rambo III', 'Leatherheads', 'The Ridiculous 6', 'Did You Hear About the Morgans?', 'The Internship', 'Resident Evil: Afterlife', 'Red Tails', \"The Devil's Advocate\", \"That's My Boy\", 'DragonHeart', 'After the Sunset', 'Ghost Rider: Spirit of Vengeance', \"Captain Corelli's Mandolin\", 'The Pacifier', 'Walking Tall', 'Forrest Gump', 'Alvin and the Chipmunks', 'Meet the Parents', 'Pocahontas', 'Superman', 'The Nutty Professor', 'Hitch', 'George of the Jungle', 'American Wedding', 'Captain Phillips', 'Date Night', 'Casper', 'The Equalizer', 'Maid in Manhattan', 'Crimson Tide', 'The Pursuit of Happyness', 'Flightplan', 'Disclosure', 'City of Angels', 'Kill Bill: Vol. 1', 'Bowfinger', 'Kill Bill: Vol. 2', 'Tango & Cash', 'Death Becomes Her', 'Shanghai Noon', 'Executive Decision', \"Mr. Popper's Penguins\", 'The Forbidden Kingdom', 'Free Birds', 'Alien³', 'Evita', 'Ronin', 'The Ghost and the Darkness', 'Paddington', 'The Watch', 'The Hunted', 'Instinct', 'Stuck on You', 'Semi-Pro', 'The Pirates! In an Adventure with Scientists!', 'Changeling', 'Chain Reaction', 'The Fan', 'The Phantom of the Opera', 'Elizabeth: The Golden Age', 'Æon Flux', 'Gods and Generals', 'Turbulence', 'Imagine That', 'Muppets Most Wanted', 'Thunderbirds', 'Burlesque', 'A Very Long Engagement', 'Lolita', 'D-Tox', 'Blade II', 'Seven Pounds', 'Bullet to the Head', 'The Godfather: Part III', 'Elizabethtown', 'You, Me and Dupree', 'Superman II', 'Gigli', \"All the King's Men\", 'Shaft', 'Anastasia', 'Moulin Rouge!', 'Domestic Disturbance', 'Black Mass', 'Flags of Our Fathers', 'Law Abiding Citizen', 'Grindhouse', 'Beloved', 'Lucky You', 'Catch Me If You Can', 'Zero Dark Thirty', 'The Break-Up', 'Mamma Mia!', \"Valentine's Day\", 'The Dukes of Hazzard', 'The Thin Red Line', 'The Change-Up', 'Man on the Moon', 'Casino', 'From Paris with Love', 'Bulletproof Monk', 'Me, Myself & Irene', 'Barnyard', 'Deck the Halls', 'The Twilight Saga: New Moon', 'Shrek', 'The Adjustment Bureau', 'Robin Hood: Prince of Thieves', 'Jerry Maguire', 'Ted', 'As Good as It Gets', 'Patch Adams', 'Anchorman 2: The Legend Continues', 'Mr. Deeds', 'Super 8', 'Erin Brockovich', 'How to Lose a Guy in 10 Days', '22 Jump Street', 'Interview with the Vampire', 'Yes Man', 'Central Intelligence', 'Stepmom', \"Daddy's Home\", 'Into the Woods', 'Inside Man', 'Payback', 'Congo', 'We Bought a Zoo', 'Knowing', 'Failure to Launch', 'The Ring Two', 'Crazy, Stupid, Love.', 'Garfield', 'Christmas with the Kranks', 'Moneyball', 'Outbreak', 'Non-Stop', 'Race to Witch Mountain', 'V for Vendetta', 'Shanghai Knights', 'Curious George', 'Herbie Fully Loaded', \"Don't Say a Word\", 'Hansel & Gretel: Witch Hunters', 'Unfaithful', 'I Am Number Four', 'Syriana', '13 Hours: The Secret Soldiers of Benghazi', 'The Book of Life', 'Firewall', 'Absolute Power', 'G.I. Jane', 'The Game', 'Silent Hill', 'The Replacements', 'American Reunion', 'The Negotiator', 'Into the Storm', 'Beverly Hills Cop III', 'Gremlins 2: The New Batch', 'The Judge', 'The Peacemaker', 'Resident Evil: Apocalypse', 'Bridget Jones: The Edge of Reason', 'Out of Time', 'On Deadly Ground', 'The Adventures of Sharkboy and Lavagirl', 'The Beach', 'Raising Helen', 'Ninja Assassin', 'For Love of the Game', 'Striptease', 'Marmaduke', 'Hereafter', 'Murder by Numbers', 'Assassins', 'Hannibal Rising', 'The Story of Us', 'The Host', 'Basic', 'Blood Work', 'The International', 'Escape from L.A.', 'The Iron Giant', 'The Life Aquatic with Steve Zissou', 'Free State of Jones', 'The Life of David Gale', 'Man of the House', 'Run All Night', 'Eastern Promises', 'Into the Blue', 'The Messenger: The Story of Joan of Arc', 'Your Highness', 'Dream House', 'Mad City', \"Baby's Day Out\", 'The Scarlet Letter', 'Fair Game', 'Domino', 'Jade', 'Gamer', 'Beautiful Creatures', 'Death to Smoochy', 'Zoolander 2', 'The Big Bounce', 'What Planet Are You From?', 'Drive Angry', 'Street Fighter: The Legend of Chun-Li', 'The One', 'The Adventures of Ford Fairlane', 'The Boat That Rocked', 'Traffic', 'Indiana Jones and the Last Crusade', 'Anna Karenina', 'Chappie', 'The Bone Collector', 'Panic Room', 'The Tooth Fairy', 'Three Kings', 'Child 44', 'Rat Race', 'K-PAX', 'Kate & Leopold', 'Bedazzled', 'The Cotton Club', '3:10 to Yuma', 'Taken 3', 'Out of Sight', 'The Cable Guy', 'Earth', 'Dick Tracy', 'The Thomas Crown Affair', 'Riding in Cars with Boys', 'First Blood', 'Solaris', \"Happily N'Ever After\", 'Mary Reilly', \"My Best Friend's Wedding\", \"America's Sweethearts\", 'Insomnia', 'Star Trek: First Contact', 'Jonah Hex', 'Courage Under Fire', 'Liar Liar', 'The Infiltrator', 'Inchon', 'The Flintstones', 'Taken 2', 'Scary Movie 3', 'Miss Congeniality', 'Journey to the Center of the Earth', 'The Princess Diaries 2: Royal Engagement', 'The Pelican Brief', 'The Client', 'The Bucket List', 'Patriot Games', 'Monster-in-Law', 'Prisoners', 'Training Day', 'Galaxy Quest', 'Scary Movie 2', 'The Muppets', 'Blade', 'Coach Carter', 'Changing Lanes', 'Anaconda', 'Coyote Ugly', 'Love Actually', \"A Bug's Life\", 'From Hell', 'The Specialist', 'Tin Cup', 'Yours, Mine and Ours', 'Kicking & Screaming', \"The Hitchhiker's Guide to the Galaxy\", 'Fat Albert', 'Resident Evil: Extinction', 'Blended', 'Last Holiday', 'The River Wild', 'The Indian in the Cupboard', 'Savages', 'Cellular', 'Johnny English', 'The Ant Bully', 'Dune', 'Across the Universe', 'Revolutionary Road', '16 Blocks', 'Babylon A.D.', 'The Glimmer Man', 'Multiplicity', 'Aliens in the Attic', 'The Pledge', 'The Producers', 'The Phantom', 'All the Pretty Horses', 'Nixon', 'The Ghost Writer', 'Deep Rising', 'Miracle at St. Anna', 'Curse of the Golden Flower', 'Bangkok Dangerous', 'Big Trouble', 'Love in the Time of Cholera', 'Shadow Conspiracy', 'Johnny English Reborn', 'Foodfight!', 'Argo', 'The Fugitive', 'The Bounty Hunter', 'Sleepers', 'Rambo: First Blood Part II', 'The Juror', 'Pinocchio', \"Heaven's Gate\", 'Underworld: Evolution', 'Victor Frankenstein', 'Finding Forrester', '28 Days', 'Unleashed', 'The Sweetest Thing', 'The Firm', 'Charlie St. Cloud', 'The Mechanic', '21 Jump Street', 'Notting Hill', 'Chicken Run', 'Along Came Polly', 'Boomerang', 'The Heat', 'Cleopatra', 'Here Comes the Boom', 'High Crimes', 'The Mirror Has Two Faces', 'The Mothman Prophecies', 'Brüno', 'Licence to Kill', 'Red Riding Hood', '15 Minutes', 'Super Mario Bros.', 'Lord of War', 'Hero', 'One for the Money', 'The Interview', \"The Warrior's Way\", 'Micmacs', '8 Mile', 'Why I Did (Not) Eat My Father', \"A Knight's Tale\", 'The Medallion', 'The Sixth Sense', 'Man on a Ledge', 'The Big Year', 'The Karate Kid', 'American Hustle', 'The Proposal', 'Double Jeopardy', 'Back to the Future Part II', 'Lucy', 'Fifty Shades of Grey', 'Spy Kids 3-D: Game Over', 'A Time to Kill', 'Cheaper by the Dozen', 'Lone Survivor', 'A League of Their Own', 'The Conjuring 2', 'The Social Network', \"He's Just Not That Into You\", 'Scary Movie 4', 'Scream 3', 'Back to the Future Part III', 'Get Hard', 'Dracula', 'Julie & Julia', '42', 'The Talented Mr. Ripley', 'Dumb and Dumber To', 'Eight Below', 'The Intern', 'Ride Along 2', 'The Last of the Mohicans', 'Ray', 'Sin City', 'Vantage Point', 'I Love You, Man', 'Shallow Hal', 'JFK', \"Big Momma's House 2\", 'The Mexican', '17 Again', 'The Other Woman', 'The Final Destination', 'Bridge of Spies', 'Behind Enemy Lines', 'Get Him to the Greek', 'Shall We Dance?', 'Small Soldiers', 'Spawn', 'The Count of Monte Cristo', 'The Lincoln Lawyer', 'Unknown', 'The Prestige', 'Horrible Bosses 2', 'Escape from Planet Earth', 'Apocalypto', 'The Living Daylights', 'Predators', 'Legal Eagles', 'Secret Window', 'The Lake House', 'The Skeleton Key', 'The Odd Life of Timothy Green', 'Made of Honor', 'Jersey Boys', 'The Rainmaker', 'Gothika', 'Amistad', 'Medicine Man', 'Aliens vs Predator: Requiem', 'Ri¢hie Ri¢h', 'Autumn in New York', 'Music and Lyrics', 'Paul', 'The Guilt Trip', 'Scream 4', '8MM', 'The Doors', 'Sex Tape', 'Hanging Up', 'Final Destination 5', 'Mickey Blue Eyes', 'Pay It Forward', 'Fever Pitch', 'Drillbit Taylor', 'A Million Ways to Die in the West', 'The Shadow', 'Extremely Loud & Incredibly Close', 'Morning Glory', \"Get Rich or Die Tryin'\", 'The Art of War', 'Rent', 'Bless the Child', 'The Out-of-Towners', 'The Island of Dr. Moreau', 'The Musketeer', 'The Other Boleyn Girl', 'Sweet November', 'The Reaping', 'Mean Streets', 'Renaissance Man', 'Colombiana', 'Quest for Camelot', 'City By The Sea', 'At First Sight', 'Torque', 'City Hall', 'Showgirls', 'Marie Antoinette', 'Kiss of Death', 'Get Carter', 'The Impossible', 'Ishtar', 'Fantastic Mr. Fox', 'Life or Something Like It', 'Memoirs of an Invisible Man', 'Amélie', 'New York Minute', 'Alfie', 'Big Miracle', 'The Deep End of the Ocean', 'FearDotCom', \"Cirque du Freak: The Vampire's Assistant\", 'Duplex', 'Soul Men', 'Raise the Titanic', 'Universal Soldier: The Return', 'Pandorum', 'Impostor', 'Extreme Ops', 'Just Visiting', 'Sunshine', 'A Thousand Words', 'Delgo', 'The Gunman', 'Stormbreaker', 'Disturbia', 'Hackers', 'The Hunting Party', 'The Hudsucker Proxy', 'The Warlords', 'Nomad: The Warrior', 'Snowpiercer', 'A Monster in Paris', 'The Last Shot', 'The Crow', 'Baahubali: The Beginning', \"The Time Traveler's Wife\", 'Because I Said So', 'Frankenweenie', 'Serenity', 'Against the Ropes', 'Superman III', 'Grudge Match', 'Red Cliff', 'Sweet Home Alabama', 'The Ugly Truth', 'Sgt. Bilko', 'Spy Kids 2: The Island of Lost Dreams', 'Star Trek: Generations', 'The Grandmaster', 'Water for Elephants', \"Dragon Nest: Warriors' Dawn\", 'The Hurricane', 'Enough', 'Heartbreakers', 'Paul Blart: Mall Cop 2', 'Angel Eyes', 'Joe Somebody', 'The Ninth Gate', 'Extreme Measures', 'Rock Star', 'Precious', 'White Squall', 'The Thing', 'Riddick', 'Switchback', 'Texas Rangers', 'City of Ember', 'The Master', 'Virgin Territory', 'The Express', 'The 5th Wave', 'Creed', 'The Town', \"What to Expect When You're Expecting\", 'Burn After Reading', \"Nim's Island\", 'Rush', 'Magnolia', 'Cop Out', 'How to Be Single', 'Dolphin Tale', 'Twilight', 'John Q', 'Blue Streak', \"We're the Millers\", 'The Inhabited Island', 'Breakdown', 'Never Say Never Again', 'Hot Tub Time Machine', 'Dolphin Tale 2', 'Reindeer Games', 'A Man Apart', 'Aloha', 'Ghosts of Mississippi', 'Snow Falling on Cedars', 'The Rite', 'Gattaca', \"Isn't She Great\", 'Space Chimps', 'Head of State', 'The Hangover', 'Ip Man 3', 'Austin Powers: The Spy Who Shagged Me', 'Batman', 'There Be Dragons', 'Lethal Weapon 3', 'The Blind Side', 'Spy Kids', 'Horrible Bosses', 'True Grit', 'The Devil Wears Prada', 'Star Trek: The Motion Picture', 'Identity Thief', 'Cape Fear', '21', 'Trainwreck', 'Guess Who', 'The English Patient', 'L.A. Confidential', 'Sky High', 'In & Out', 'Species', 'A Nightmare on Elm Street', 'The Cell', 'The Man in the Iron Mask', 'Secretariat', 'TMNT', 'Radio', 'Friends with Benefits', 'Neighbors 2: Sorority Rising', 'Saving Mr. Banks', 'Malcolm X', 'This Is 40', 'Old Dogs', 'Underworld: Rise of the Lycans', 'License to Wed', 'The Benchwarmers', 'Must Love Dogs', 'Donnie Brasco', 'Resident Evil', 'Poltergeist', 'The Ladykillers', 'Max Payne', 'In Time', 'The Back-Up Plan', 'Something Borrowed', 'Black Knight', 'The Bad News Bears', 'Street Fighter', 'The Pianist', 'The Nativity Story', 'House of Wax', 'Closer', 'J. Edgar', 'Mirrors', 'Queen of the Damned', 'Predator 2', 'Untraceable', 'Blast from the Past', 'Flash Gordon', 'Jersey Girl', 'Alex Cross', 'Midnight in the Garden of Good and Evil', 'Heist', 'Nanny McPhee and the Big Bang', 'Hoffa', 'The X Files: I Want to Believe', 'Ella Enchanted', 'Concussion', 'Abduction', 'Valiant', 'Wonder Boys', 'Superhero Movie', 'Broken City', 'Cursed', 'Premium Rush', 'Hot Pursuit', 'The Four Feathers', 'Parker', 'Wimbledon', 'Furry Vengeance', 'Bait', 'Krull', 'Lions for Lambs', 'Flight of the Intruder', 'Walk Hard: The Dewey Cox Story', 'The Shipping News', 'American Outlaws', 'The Young Victoria', 'Whiteout', 'The Tree of Life', 'Knock Off', 'Sabotage', 'The Order', 'Punisher: War Zone', 'Zoom', 'The Walk', 'Warriors of Virtue', 'A Good Year', 'Radio Flyer', 'Bound by Honor', \"Smilla's Sense of Snow\", 'Femme Fatale', 'Lion of the Desert', 'The Horseman on the Roof', 'Ride with the Devil', 'Biutiful', 'Bandidas', 'Black Water Transit', 'The Maze Runner', 'Unfinished Business', 'The Age of Innocence', 'The Fountain', 'Chill Factor', 'Stolen', 'Ponyo', 'The Longest Ride', \"The Astronaut's Wife\", 'I Dreamed of Africa', 'Playing for Keeps', 'Mandela: Long Walk to Freedom', 'Reds', 'A Few Good Men', 'Exit Wounds', \"Big Momma's House\", 'Thunder and the House of Magic', 'The Darkest Hour', 'Step Up Revolution', 'Snakes on a Plane', 'The Watcher', 'The Punisher', 'Goal!: The Dream Begins', 'Safe', 'Pushing Tin', 'Return of the Jedi', 'Doomsday', 'The Reader', 'Wanderlust', 'Elf', 'Phenomenon', 'Snow Dogs', 'Scrooged', 'Nacho Libre', 'Bridesmaids', 'This Is the End', 'Stigmata', 'Men of Honor', 'Takers', 'The Big Wedding', 'Big Mommas: Like Father, Like Son', 'Source Code', 'Alive', 'The Number 23', 'The Young and Prodigious T.S. Spivet', '1941', 'Dreamer: Inspired By a True Story', 'A History of Violence', 'Transporter 2', 'The Quick and the Dead', 'Laws of Attraction', 'Bringing Out the Dead', 'Repo Men', 'Dragon Wars: D-War', 'Bogus', 'The Incredible Burt Wonderstone', \"Cats Don't Dance\", 'Cradle Will Rock', 'The Good German', 'George and the Dragon', 'Apocalypse Now', 'Going the Distance', \"Mr. Holland's Opus\", 'Criminal', 'Out of Africa', 'Flight', 'Moonraker', 'The Grand Budapest Hotel', 'Hearts in Atlantis', 'Arachnophobia', 'Frequency', 'Vacation', 'Get Shorty', 'Chicago', 'Big Daddy', 'American Pie 2', 'Toy Story', 'Speed', 'The Vow', 'Extraordinary Measures', 'Remember the Titans', 'The Hunt for Red October', 'The Butler', 'DodgeBall: A True Underdog Story', 'The Addams Family', 'Ace Ventura: When Nature Calls', 'The Princess Diaries', 'The First Wives Club', 'Se7en', 'District 9', 'The SpongeBob SquarePants Movie', 'Mystic River', 'Million Dollar Baby', 'Analyze This', 'The Notebook', '27 Dresses', 'Hannah Montana: The Movie', 'Rugrats in Paris: The Movie', 'The Prince of Tides', 'Legends of the Fall', 'Up in the Air', 'About Schmidt', 'Warm Bodies', 'Looper', 'Down to Earth', 'Babe', 'Hope Springs', 'Forgetting Sarah Marshall', 'Four Brothers', 'Baby Mama', 'Hope Floats', 'Bride Wars', 'Without a Paddle', '13 Going on 30', 'Midnight in Paris', 'The Nut Job', 'Blow', 'Message in a Bottle', 'Star Trek V: The Final Frontier', 'Like Mike', 'The Naked Gun 33⅓: The Final Insult', 'A View to a Kill', 'The Curse of the Were-Rabbit', 'P.S. I Love You', 'Racing Stripes', 'Atonement', 'Letters to Juliet', 'Black Rain', 'The Three Stooges', 'Corpse Bride', 'Glory Road', 'Sicario', 'Southpaw', 'Drag Me to Hell', 'The Age of Adaline', 'Secondhand Lions', 'Step Up 3D', 'Blue Crush', 'Stranger Than Fiction', '30 Days of Night', 'The Cabin in the Woods', 'Meet the Spartans', 'Midnight Run', 'The Running Man', 'Little Shop of Horrors', 'Hanna', 'Mortal Kombat: Annihilation', 'Larry Crowne', 'Carrie', 'Take the Lead', 'Gridiron Gang', \"What's the Worst That Could Happen?\", '9', 'Side Effects', 'The Prince & Me', 'Winnie the Pooh', 'Dumb and Dumberer: When Harry Met Lloyd', 'Bulworth', 'Get on Up', 'One True Thing', 'Virtuosity', 'My Super Ex-Girlfriend', 'Deliver Us from Evil', 'Sanctum', 'Little Black Book', 'The Five-Year Engagement', 'Mr. 3000', 'The Next Three Days', 'Ultraviolet', 'Assault on Precinct 13', 'The Replacement Killers', 'Fled', 'Eight Legged Freaks', 'Love & Other Drugs', '88 Minutes', 'North Country', 'The Whole Ten Yards', 'Splice', 'Howard the Duck', 'Pride and Glory', 'The Cave', 'Alex & Emma', 'Wicker Park', 'Fright Night', 'The New World', 'Wing Commander', 'In Dreams', 'Dragonball Evolution', 'The Last Stand', 'Godsend', 'Chasing Liberty', 'Hoodwinked Too! Hood VS. Evil', 'An Unfinished Life', 'The Imaginarium of Doctor Parnassus', \"Barney's Version\", 'Runner Runner', 'Antitrust', 'Glory', 'Once Upon a Time in America', 'Dead Man Down', 'The Merchant of Venice', 'The Good Thief', 'Supercross', 'Miss Potter', 'The Promise', 'DOA: Dead or Alive', 'The Assassination of Jesse James by the Coward Robert Ford', '1911', 'Little Nicholas', 'Wild Card', 'Machine Gun Preacher', 'Animals United', 'Goodbye Bafana', 'United Passions', 'Grace of Monaco', 'Savva. Heart of the Warrior', \"Ripley's Game\", 'Sausage Party', 'Pitch Perfect 2', 'Walk the Line', 'Keeping the Faith', 'The Borrowers', 'Frost/Nixon', 'Confessions of a Dangerous Mind', 'Serving Sara', 'The Boss', 'Cry Freedom', 'Mumford', 'Seed of Chucky', 'The Jacket', 'Aladdin', 'Straight Outta Compton', 'Indiana Jones and the Temple of Doom', 'The Rugrats Movie', 'Along Came a Spider', 'Florence Foster Jenkins', 'Once Upon a Time in Mexico', 'Die Hard', 'Role Models', 'The Big Short', 'Taking Woodstock', 'Miracle', 'Dawn of the Dead', 'The Wedding Planner', 'Space Pirate Captain Harlock', 'The Royal Tenenbaums', 'Identity', 'Last Vegas', 'For Your Eyes Only', 'Serendipity', 'Timecop', 'Zoolander', 'Safe Haven', 'Hocus Pocus', 'No Reservations', 'Kick-Ass', '30 Minutes or Less', 'Dracula 2000', 'Alexander and the Terrible, Horrible, No Good, Very Bad Day', 'Pride & Prejudice', 'Blade Runner', 'Rob Roy', '3 Days to Kill', 'We Own the Night', 'Lost Souls', 'Winged Migration', 'Just My Luck', 'Mystery, Alaska', 'The Spy Next Door', 'A Simple Wish', 'Ghosts of Mars', 'Our Brand Is Crisis', 'Pride and Prejudice and Zombies', 'Kundun', 'How to Lose Friends & Alienate People', 'Kick-Ass 2', 'Alatriste', 'Brick Mansions', 'Octopussy', 'Knocked Up', \"My Sister's Keeper\", 'Welcome Home Roscoe Jenkins', 'A Passage to India', 'Notes on a Scandal', 'Rendition', 'Star Trek VI: The Undiscovered Country', 'Divine Secrets of the Ya-Ya Sisterhood', 'Kiss the Girls', 'The Blues Brothers', 'The Sisterhood of the Traveling Pants 2', 'Joyful Noise', 'About a Boy', 'Lake Placid', 'Lucky Number Slevin', 'The Right Stuff', 'Anonymous', 'The NeverEnding Story', 'Dark City', 'The Duchess', 'Return to Oz', 'The Newton Boys', 'Case 39', 'Suspect Zero', 'Martian Child', 'Spy Kids: All the Time in the World', 'Money Monster', 'The 51st State', 'Flawless', 'Mindhunters', 'What Just Happened', 'The Statement', 'The Magic Flute', 'Paul Blart: Mall Cop', 'Freaky Friday', 'The 40 Year Old Virgin', 'Shakespeare in Love', 'A Walk Among the Tombstones', 'Kindergarten Cop', 'Pineapple Express', 'Ever After: A Cinderella Story', 'Open Range', 'Flatliners', 'A Bridge Too Far', 'Red Eye', 'Final Destination 2', 'O Brother, Where Art Thou?', 'Legion', 'Pain & Gain', 'In Good Company', 'Clockstoppers', 'Silverado', 'Brothers', 'Agent Cody Banks 2: Destination London', \"New Year's Eve\", 'Original Sin', 'The Raven', 'Welcome to Mooseport', 'Highlander: The Final Dimension', 'Blood and Wine', 'Snow White: A Tale of Terror', 'The Curse of the Jade Scorpion', 'Accidental Love', 'Flipper', 'Self/less', 'The Constant Gardener', 'The Passion of the Christ', 'Mrs. Doubtfire', 'Rain Man', 'Gran Torino', 'W.', 'Taken', 'The Best of Me', 'The Bodyguard', \"Schindler's List\", 'The Help', 'The Fifth Estate', 'Scooby-Doo 2: Monsters Unleashed', 'Forbidden Kingdom', 'Freddy vs. Jason', 'The Face of an Angel', 'Jimmy Neutron: Boy Genius', 'Cloverfield', 'Teenage Mutant Ninja Turtles II: The Secret of the Ooze', 'The Untouchables', 'No Country for Old Men', 'Ride Along', \"Bridget Jones's Diary\", 'Chocolat', 'Legally Blonde 2: Red, White & Blonde', 'Parental Guidance', 'No Strings Attached', 'Tombstone', 'Romeo Must Die', 'The Omen', 'Final Destination 3', 'The Lucky One', 'Bridge to Terabithia', 'Finding Neverland', 'A Madea Christmas', 'The Grey', 'Hide and Seek', 'Anchorman: The Legend of Ron Burgundy', 'GoodFellas', 'Agent Cody Banks', 'Nanny McPhee', 'Scarface', 'Nothing to Lose', 'The Last Emperor', 'Contraband', 'Money Talks', 'There Will Be Blood', 'The Wild Thornberrys Movie', 'Rugrats Go Wild', 'Undercover Brother', 'The Sisterhood of the Traveling Pants', 'Kiss of the Dragon', 'The House Bunny', 'Beauty Shop', 'Million Dollar Arm', 'The Giver', 'What a Girl Wants', 'Jeepers Creepers 2', 'Good Luck Chuck', 'Cradle 2 the Grave', 'The Hours', \"She's the Man\", \"Mr. Bean's Holiday\", 'Anacondas: The Hunt for the Blood Orchid', 'Blood Ties', 'August Rush', 'Elizabeth', 'Bride of Chucky', 'Tora! Tora! Tora!', 'Spice World', 'The Sitter', 'Dance Flick', 'The Shawshank Redemption', 'Crocodile Dundee in Los Angeles', 'Kingpin', 'The Gambler', 'August: Osage County', 'Ice Princess', 'A Lot Like Love', 'Eddie the Eagle', 'He Got Game', 'Don Juan DeMarco', 'Dear John', 'The Losers', \"Don't Be Afraid of the Dark\", 'War', 'Punch-Drunk Love', 'EuroTrip', 'Half Past Dead', 'Unaccompanied Minors', 'Bright Lights, Big City', 'The Adventures of Pinocchio', 'The Greatest Game Ever Played', 'The Box', 'The Ruins', 'The Next Best Thing', 'My Soul to Take', 'The Girl Next Door', 'Maximum Risk', 'Stealing Harvard', 'Legend', 'Hot Rod', 'Shark Night', \"Angela's Ashes\", 'Draft Day', 'Lifeforce', 'The Conspirator', 'Lords of Dogtown', 'The 33', 'Big Trouble in Little China', 'Fly Me to the Moon', 'Warrior', 'Michael Collins', 'Gettysburg', 'Stop-Loss', 'Abandon', 'Brokedown Palace', 'The Possession', 'Mrs. Winterbourne', 'Straw Dogs', 'The Hoax', 'Stone Cold', 'The Road', 'Sheena', 'Underclassman', \"Say It Isn't So\", \"The World's Fastest Indian\", 'Tank Girl', \"King's Ransom\", 'Blindness', 'BloodRayne', 'Carnage', 'Where the Truth Lies', 'Cirque du Soleil: Worlds Away', 'Without Limits', 'Me and Orson Welles', 'The Best Offer', 'The Bad Lieutenant: Port of Call - New Orleans', \"A Turtle's Tale: Sammy's Adventures\", 'Little White Lies', 'Love Ranch', \"The True Story of Puss 'n Boots\", 'Space Dogs', 'The Counselor', 'Ironclad', 'Waterloo', 'Kung Fu Jungle', 'Red Sky', 'Dangerous Liaisons', 'On the Road', 'Star Trek IV: The Voyage Home', 'Rocky Balboa', 'Scream 2', 'Jane Got a Gun', 'Think Like a Man Too', 'The Whole Nine Yards', 'Footloose', 'Old School', 'The Fisher King', 'I Still Know What You Did Last Summer', 'Return to Me', 'Zack and Miri Make a Porno', 'Nurse Betty', 'The Men Who Stare at Goats', 'Double Take', 'Girl, Interrupted', 'Win a Date with Tad Hamilton!', 'Muppets from Space', 'The Wiz', 'Ready to Rumble', 'Play It to the Bone', \"I Don't Know How She Does It\", 'Piranha 3D', 'Beyond the Sea', 'Meet the Deedles', 'The Thief and the Cobbler', 'The Bridge of San Luis Rey', 'Faster', \"Howl's Moving Castle\", 'Zombieland', 'The Waterboy', 'The Empire Strikes Back', 'Bad Boys', 'The Naked Gun 2½: The Smell of Fear', 'Final Destination', 'The Ides of March', 'Pitch Black', 'Someone Like You...', 'Her', 'Joy Ride', 'The Adventurer: The Curse of the Midas Box', 'Anywhere But Here', 'The Crew', 'Haywire', 'Jaws: The Revenge', \"Marvin's Room\", 'The Longshots', 'The End of the Affair', 'Harley Davidson and the Marlboro Man', 'In the Valley of Elah', 'Coco Before Chanel', 'Forsaken', 'Cheri', 'Vanity Fair', 'Bodyguards and Assassins', '1408', 'Spaceballs', 'The Water Diviner', 'Ghost', \"There's Something About Mary\", 'The Santa Clause', 'The Rookie', 'The Game Plan', 'The Bridges of Madison County', 'The Animal', 'Gandhi', 'The Hundred-Foot Journey', 'The Net', 'I Am Sam', 'Son of God', 'Underworld', 'Derailed', 'The Informant!', 'Shadowlands', 'Deuce Bigalow: European Gigolo', 'Delivery Man', 'Our Kind of Traitor', 'Saving Silverman', 'Diary of a Wimpy Kid: Dog Days', 'Summer of Sam', 'Jay and Silent Bob Strike Back', 'The Glass House', 'Hail, Caesar!', 'Josie and the Pussycats', 'Homefront', 'The Little Vampire', 'I Heart Huckabees', 'RoboCop 3', 'Megiddo: The Omega Code 2', 'Darling Lili', 'Dudley Do-Right', 'The Transporter Refueled', 'The Libertine', 'Black Book', 'Joyeux Noël', 'Hit & Run', 'Mad Money', 'Before I Go to Sleep', 'Sorcerer', 'Stone', 'Moliere', 'Out of the Furnace', 'Michael Clayton', 'My Fellow Americans', 'Arlington Road', 'Underdogs', 'To Rome with Love', 'Firefox', 'South Park: Bigger, Longer & Uncut', 'Death at a Funeral', 'Teenage Mutant Ninja Turtles III', 'Hardball', 'Silver Linings Playbook', 'Freedom Writers', 'For Colored Girls', 'The Transporter', 'Never Back Down', 'The Rage: Carrie 2', 'Away We Go', 'Swing Vote', 'Moonlight Mile', 'Tinker Tailor Soldier Spy', 'Molly', 'The Beaver', 'The Best Little Whorehouse in Texas', 'eXistenZ', 'Raiders of the Lost Ark', 'Home Alone 2: Lost in New York', 'Close Encounters of the Third Kind', 'Pulse']\n"
          ]
        }
      ]
    },
    {
      "cell_type": "code",
      "source": [
        "# finding the close match for the movie name given by the user\n",
        "\n",
        "find_close_match = difflib.get_close_matches(movie_name, list_of_all_titles)\n",
        "print(find_close_match)"
      ],
      "metadata": {
        "colab": {
          "base_uri": "https://localhost:8080/"
        },
        "id": "NeNFodpuWdit",
        "outputId": "c53044b8-1010-4a39-c5ab-9c8227aedb6d"
      },
      "execution_count": 19,
      "outputs": [
        {
          "output_type": "stream",
          "name": "stdout",
          "text": [
            "['Iron Man', 'Iron Man 3', 'Iron Man 2']\n"
          ]
        }
      ]
    },
    {
      "cell_type": "code",
      "source": [
        "close_match = find_close_match[0]\n",
        "print(close_match)"
      ],
      "metadata": {
        "colab": {
          "base_uri": "https://localhost:8080/"
        },
        "id": "wFO5FPNYWgVV",
        "outputId": "10952967-ded9-439c-f7dd-ccbe6f145b5f"
      },
      "execution_count": 20,
      "outputs": [
        {
          "output_type": "stream",
          "name": "stdout",
          "text": [
            "Iron Man\n"
          ]
        }
      ]
    },
    {
      "cell_type": "code",
      "source": [
        "# finding the index of the movie with title\n",
        "\n",
        "index_of_the_movie = movies_data[movies_data.title == close_match]['index'].values[0]\n",
        "print(index_of_the_movie)"
      ],
      "metadata": {
        "colab": {
          "base_uri": "https://localhost:8080/"
        },
        "id": "ajOdn2QxWjTO",
        "outputId": "1f7f4208-ea56-4483-a483-6eccc4e8355a"
      },
      "execution_count": 21,
      "outputs": [
        {
          "output_type": "stream",
          "name": "stdout",
          "text": [
            "68\n"
          ]
        }
      ]
    },
    {
      "cell_type": "code",
      "source": [
        "# getting a list of similar movies\n",
        "\n",
        "similarity_score = list(enumerate(similarity[index_of_the_movie]))\n",
        "print(similarity_score)"
      ],
      "metadata": {
        "colab": {
          "base_uri": "https://localhost:8080/"
        },
        "id": "_C2LlxjpWls-",
        "outputId": "d287dcfb-bf57-4df6-b723-668bbe224034"
      },
      "execution_count": 22,
      "outputs": [
        {
          "output_type": "stream",
          "name": "stdout",
          "text": [
            "[(0, 0.028083927263748323), (1, 0.05088852429290338), (2, 0.010680531221142675), (3, 0.005018738220949115), (4, 0.026905538869299635), (5, 0.010490415668002927), (6, 0.08086137185048237), (7, 0.22129410720495182), (8, 0.0059309401848671225), (9, 0.06580064987629673), (10, 0.06607457866978897), (11, 0.008912303907761487), (12, 0.010496695441823543), (13, 0.009157156990512866), (14, 0.08476472871983082), (15, 0.005468555284454623), (16, 0.2124250864672975), (17, 0.00990551217026015), (18, 0.0388166666361485), (19, 0.0798296940059176), (20, 0.06681914028355694), (21, 0.008593537112203852), (22, 0.005267944937978601), (23, 0.004956071852402306), (24, 0.009053067741905684), (25, 0.0), (26, 0.20003794464922772), (27, 0.025923643303144454), (28, 0.05620635272989025), (29, 0.010557000915872817), (30, 0.06685849886788388), (31, 0.29758190265931844), (32, 0.03040396215488317), (33, 0.11404116020428036), (34, 0.0), (35, 0.03014890621347981), (36, 0.02743421238755173), (37, 0.005996204759672179), (38, 0.09402629687846019), (39, 0.08834334810620258), (40, 0.006062275845393513), (41, 0.05664822917083748), (42, 0.0), (43, 0.05274335520604361), (44, 0.004744886324870132), (45, 0.020368751971751572), (46, 0.12670168999602058), (47, 0.03185128275459713), (48, 0.010471536968048742), (49, 0.0), (50, 0.009841141984971052), (51, 0.023289552512481698), (52, 0.02586004822591776), (53, 0.01696543198658901), (54, 0.05058752991603233), (55, 0.010483400157164105), (56, 0.03195710814769964), (57, 0.03634065225374377), (58, 0.005034348240058755), (59, 0.026926670431003087), (60, 0.014092744483958914), (61, 0.028192591444578977), (62, 0.010206125566835532), (63, 0.005308434237340099), (64, 0.13262188381528214), (65, 0.004541198690600956), (66, 0.005406555194627246), (67, 0.02477380933066438), (68, 1.0), (69, 0.009679448052665348), (70, 0.02794914636057219), (71, 0.013292536733652539), (72, 0.06424652221946889), (73, 0.0), (74, 0.02247655299162507), (75, 0.009790203194321405), (76, 0.04720786608178804), (77, 0.0), (78, 0.08222853489692114), (79, 0.3889042850565883), (80, 0.006280845057788974), (81, 0.018784347247923956), (82, 0.023836289808273185), (83, 0.029477548339856434), (84, 0.008254512479197576), (85, 0.18758370811555494), (86, 0.004816250633177082), (87, 0.02334479367605642), (88, 0.009770186479273132), (89, 0.00485206757788582), (90, 0.01887778680291965), (91, 0.07084428831468738), (92, 0.011853709373656452), (93, 0.022086323267908894), (94, 0.11955792407483229), (95, 0.05870498890537729), (96, 0.02763522147765108), (97, 0.022677944340564776), (98, 0.048339577443203885), (99, 0.0042341007899041935), (100, 0.0), (101, 0.12451741468738077), (102, 0.03029658231777581), (103, 0.03535168799851792), (104, 0.010307254195628765), (105, 0.0), (106, 0.005954899796420213), (107, 0.025214594399654365), (108, 0.0283207588973789), (109, 0.004093697725285407), (110, 0.04149723190014105), (111, 0.030422243553582036), (112, 0.01007346623001924), (113, 0.005860944102914163), (114, 0.005175326722991586), (115, 0.004198640713563849), (116, 0.02021696733259591), (117, 0.005220268217010047), (118, 0.0), (119, 0.00471678908148803), (120, 0.0), (121, 0.009641524911562206), (122, 0.0922866282261785), (123, 0.026563954726083597), (124, 0.005117825091081979), (125, 0.02628176824419027), (126, 0.116879863144568), (127, 0.02988206895594487), (128, 0.03116627814171021), (129, 0.06878509516420835), (130, 0.005045869090189252), (131, 0.1242058095665389), (132, 0.005376728722043016), (133, 0.0), (134, 0.009482412937243336), (135, 0.0), (136, 0.04065048307922829), (137, 0.0), (138, 0.1215429049231857), (139, 0.009332195716387381), (140, 0.004541765452717343), (141, 0.005490490834479615), (142, 0.006174680980285195), (143, 0.0059182022452049605), (144, 0.005641442693607626), (145, 0.004743132292790527), (146, 0.03286597573551176), (147, 0.009242151687698168), (148, 0.0043397095599904114), (149, 0.0274764927529653), (150, 0.027290237100081105), (151, 0.023046564965849052), (152, 0.009700820226837593), (153, 0.00944581668556187), (154, 0.0), (155, 0.0), (156, 0.00363581019259813), (157, 0.010648445633907466), (158, 0.0303497073887943), (159, 0.004084201501903843), (160, 0.010286518462136716), (161, 0.0), (162, 0.005441065039932981), (163, 0.043844273669764317), (164, 0.015049098344699752), (165, 0.024870365806969108), (166, 0.061902872433419555), (167, 0.016184985123178036), (168, 0.027497903203077538), (169, 0.12026318774392675), (170, 0.01943166767804544), (171, 0.0053023912724324065), (172, 0.01863331160266632), (173, 0.0), (174, 0.12630736817597718), (175, 0.005401697559742066), (176, 0.005071657306648172), (177, 0.0), (178, 0.040222078841855455), (179, 0.005850570307221387), (180, 0.004699905806466079), (181, 0.005954146312402416), (182, 0.17303940847499305), (183, 0.02964496919045118), (184, 0.020561408332049884), (185, 0.0686907354422031), (186, 0.00885714329775257), (187, 0.015123904312454101), (188, 0.004582316378792059), (189, 0.006249652616041889), (190, 0.010703926632458474), (191, 0.005542558396457439), (192, 0.0), (193, 0.029481330803035867), (194, 0.0), (195, 0.0053918444584620875), (196, 0.023816476683761592), (197, 0.005813952494128361), (198, 0.08141066475679963), (199, 0.0466801731582797), (200, 0.024925509581207296), (201, 0.03096337018671381), (202, 0.005520388793397979), (203, 0.12962997621142125), (204, 0.004428599748940786), (205, 0.08713561816485374), (206, 0.009658421869616103), (207, 0.0433339698006004), (208, 0.009792211257191638), (209, 0.004488590375067656), (210, 0.004320073065227055), (211, 0.028683456944356107), (212, 0.02699181861417727), (213, 0.011114243410315073), (214, 0.0), (215, 0.010696739554663354), (216, 0.009335960413387266), (217, 0.004183125330102688), (218, 0.0051664505649075395), (219, 0.026441700055187846), (220, 0.021475744802972412), (221, 0.006031679575025939), (222, 0.023304794609765013), (223, 0.020676288884788008), (224, 0.021476296733327165), (225, 0.02489723349080732), (226, 0.0), (227, 0.004351305067358469), (228, 0.02660327945963335), (229, 0.028660906149165645), (230, 0.022659085346219934), (231, 0.0), (232, 0.07781191144622499), (233, 0.023192464004047023), (234, 0.0056879822379346), (235, 0.005215576007183873), (236, 0.00437594161148028), (237, 0.00954127581560714), (238, 0.06073750958604299), (239, 0.016539342672667254), (240, 0.010068976385305657), (241, 0.034677751718484556), (242, 0.0891149103142311), (243, 0.009741974025703856), (244, 0.0037310555739313335), (245, 0.008642794037685463), (246, 0.004152978620128807), (247, 0.0), (248, 0.004691205544676467), (249, 0.037500241606665666), (250, 0.0), (251, 0.0), (252, 0.004443789457155713), (253, 0.0036848221157692452), (254, 0.029629350085168395), (255, 0.0), (256, 0.03677632672325488), (257, 0.022615149685149695), (258, 0.0), (259, 0.008988590577051238), (260, 0.028162909384595966), (261, 0.005030395633186105), (262, 0.0501227953454737), (263, 0.022729796282666206), (264, 0.022710713775767333), (265, 0.0), (266, 0.022886120871387815), (267, 0.008392081055278536), (268, 0.0), (269, 0.0), (270, 0.053946054716553), (271, 0.03155999548240986), (272, 0.0), (273, 0.004233908283357341), (274, 0.010910369777344272), (275, 0.02117254549624519), (276, 0.005832507052388984), (277, 0.009999356581565007), (278, 0.06135956007362893), (279, 0.037872120286132), (280, 0.0), (281, 0.0), (282, 0.0038664188618642453), (283, 0.0), (284, 0.013349392980817613), (285, 0.0040746950500313885), (286, 0.017787910782751888), (287, 0.0), (288, 0.0), (289, 0.005405736938729464), (290, 0.010404092009465016), (291, 0.05901921875379249), (292, 0.019480505431720304), (293, 0.0), (294, 0.006278304685323), (295, 0.004194117352314481), (296, 0.004514216597057282), (297, 0.0045897357966825465), (298, 0.0), (299, 0.004563235612692065), (300, 0.02330442020845842), (301, 0.01887180659738892), (302, 0.0056387275028523115), (303, 0.004502111295338813), (304, 0.009574938916322676), (305, 0.023966256880727455), (306, 0.024218842525929013), (307, 0.09625905641451027), (308, 0.0038350017549903252), (309, 0.03846024232258103), (310, 0.03808293791914681), (311, 0.027671050784985093), (312, 0.008882878553983963), (313, 0.022978551262036316), (314, 0.0), (315, 0.00883733203158153), (316, 0.04146314851933605), (317, 0.0), (318, 0.0782309662434483), (319, 0.02418590401767931), (320, 0.0045371767993339475), (321, 0.0), (322, 0.02954810388497002), (323, 0.0), (324, 0.04370166090384755), (325, 0.008482504029099931), (326, 0.0), (327, 0.0), (328, 0.037158078229400614), (329, 0.04940869607421377), (330, 0.05104794594002379), (331, 0.04996490296944946), (332, 0.062323321624394246), (333, 0.016037969865183424), (334, 0.02637305726435089), (335, 0.02258998528378879), (336, 0.0050345622099665244), (337, 0.0029927131704599037), (338, 0.0), (339, 0.010798582840279094), (340, 0.012295381152270218), (341, 0.0054395365722595315), (342, 0.025751887872541356), (343, 0.0), (344, 0.003605424401221419), (345, 0.031298946847440834), (346, 0.011628451429456482), (347, 0.010524818694499949), (348, 0.005544195516641099), (349, 0.005368390553789584), (350, 0.017221798334396205), (351, 0.0), (352, 0.005290129164133819), (353, 0.1124358687658105), (354, 0.0), (355, 0.004534897046186877), (356, 0.08588698278422768), (357, 0.0), (358, 0.022193851722990012), (359, 0.005454956634331943), (360, 0.01765448502470243), (361, 0.08351152394959656), (362, 0.024676274131655088), (363, 0.016565467778362382), (364, 0.0), (365, 0.028490011438457127), (366, 0.027758730104019105), (367, 0.0), (368, 0.004832285714815539), (369, 0.008339883706004126), (370, 0.03481242084394642), (371, 0.021947350957640662), (372, 0.016701427299923337), (373, 0.0193055432838792), (374, 0.0049903097774948784), (375, 0.016317819783687428), (376, 0.021089690503022743), (377, 0.026953620178748004), (378, 0.0), (379, 0.00865114433685304), (380, 0.025536382358442616), (381, 0.005403806166035184), (382, 0.061547770906985516), (383, 0.009402583573154998), (384, 0.018534871889937143), (385, 0.0), (386, 0.023629934425765806), (387, 0.004398442773723709), (388, 0.0), (389, 0.01894569476470373), (390, 0.0), (391, 0.0), (392, 0.004176405145939796), (393, 0.029191065447377876), (394, 0.004465816408064646), (395, 0.0), (396, 0.07741030895502565), (397, 0.0), (398, 0.0), (399, 0.004971545812744122), (400, 0.024500159515551838), (401, 0.07991690818882093), (402, 0.032929675895477316), (403, 0.009208388732611959), (404, 0.0), (405, 0.0034274983631363094), (406, 0.0), (407, 0.0), (408, 0.004438993258207164), (409, 0.0), (410, 0.022315480850745674), (411, 0.007665084965085486), (412, 0.04900149260616641), (413, 0.01843088846199526), (414, 0.028821201013918996), (415, 0.023472406387975424), (416, 0.0), (417, 0.0), (418, 0.0), (419, 0.02530263508897328), (420, 0.05131529167519051), (421, 0.07308235954069317), (422, 0.01748614399333428), (423, 0.0), (424, 0.009956841452534324), (425, 0.037420420603863164), (426, 0.02240795652873544), (427, 0.0), (428, 0.004756226266405881), (429, 0.0), (430, 0.0), (431, 0.0), (432, 0.017438723370854992), (433, 0.0048668577049397616), (434, 0.0), (435, 0.0), (436, 0.06720504882213331), (437, 0.004934378921868901), (438, 0.0), (439, 0.0), (440, 0.03433040179603238), (441, 0.04399707499425278), (442, 0.019323274749549202), (443, 0.01642928474086479), (444, 0.0), (445, 0.0), (446, 0.039531322141028225), (447, 0.004907021931599037), (448, 0.0), (449, 0.020492686015579197), (450, 0.017318532576149903), (451, 0.039574903628648524), (452, 0.0), (453, 0.004583417488591045), (454, 0.01569112479454339), (455, 0.004319729608281271), (456, 0.025908654753356106), (457, 0.053333366132595775), (458, 0.00571311547334121), (459, 0.031614738434267736), (460, 0.06814280613336512), (461, 0.025247195537031846), (462, 0.023543066056941012), (463, 0.0), (464, 0.04642131985393582), (465, 0.0), (466, 0.03639528860607969), (467, 0.01133458415128644), (468, 0.004285678583559544), (469, 0.009146458783989935), (470, 0.021930166071115507), (471, 0.02002530129478024), (472, 0.009617485335010549), (473, 0.017455169898192957), (474, 0.0), (475, 0.023784295028665338), (476, 0.023189041662989095), (477, 0.0), (478, 0.009894645250261253), (479, 0.012211899828190676), (480, 0.02297853944069718), (481, 0.0), (482, 0.0), (483, 0.04145936508518164), (484, 0.004987964259065864), (485, 0.005006172747391676), (486, 0.009803572330840886), (487, 0.02691156390941651), (488, 0.009884161796455595), (489, 0.0), (490, 0.027183228437835813), (491, 0.008902799886132032), (492, 0.0), (493, 0.028981752867978855), (494, 0.005058965148971078), (495, 0.027895394628092055), (496, 0.0), (497, 0.0), (498, 0.005138427995416655), (499, 0.0), (500, 0.004179383394767444), (501, 0.0768243389833563), (502, 0.01383910562765973), (503, 0.025995119815311364), (504, 0.018609376248728434), (505, 0.02201572597592328), (506, 0.0), (507, 0.05291601113637283), (508, 0.056281265185959044), (509, 0.0), (510, 0.021792651419944787), (511, 0.14896833152434866), (512, 0.004717225763915129), (513, 0.008203276505470201), (514, 0.004243906650451541), (515, 0.0), (516, 0.0), (517, 0.0), (518, 0.011501965649723452), (519, 0.0), (520, 0.0), (521, 0.0), (522, 0.0), (523, 0.010340521588308296), (524, 0.0), (525, 0.015681000423131836), (526, 0.0), (527, 0.0), (528, 0.0032737130703097005), (529, 0.003948552035567864), (530, 0.019355324788136934), (531, 0.009277668080382181), (532, 0.0), (533, 0.0), (534, 0.005041830011183846), (535, 0.00915621764488754), (536, 0.03913868022469034), (537, 0.004301955606288505), (538, 0.0), (539, 0.037627210454334245), (540, 0.012604078195684253), (541, 0.01810771206730208), (542, 0.020056819313178192), (543, 0.008498862878719059), (544, 0.010056690139209588), (545, 0.03867553754306157), (546, 0.044863455070220146), (547, 0.004469100610320303), (548, 0.0), (549, 0.01594784607024686), (550, 0.0), (551, 0.005412369118725475), (552, 0.0), (553, 0.004465144964225434), (554, 0.0), (555, 0.0), (556, 0.0037208443428431892), (557, 0.0), (558, 0.0), (559, 0.0), (560, 0.017188620658053752), (561, 0.003898599536988769), (562, 0.02828378610794861), (563, 0.0), (564, 0.035194525530408374), (565, 0.006016798691684914), (566, 0.005044040070389344), (567, 0.0), (568, 0.009731028386420478), (569, 0.00588582314988924), (570, 0.032979732381914595), (571, 0.0040400268040966785), (572, 0.0054800972818967635), (573, 0.004706123047076908), (574, 0.05517298014897381), (575, 0.017840296812873455), (576, 0.0), (577, 0.025906744389195987), (578, 0.01771007431755685), (579, 0.0032717217280865225), (580, 0.004187106395260486), (581, 0.025556890649742255), (582, 0.020819515777991703), (583, 0.01072066501693026), (584, 0.0), (585, 0.0), (586, 0.003793321847078488), (587, 0.02842972001160532), (588, 0.0), (589, 0.004366303213221579), (590, 0.004333473203313499), (591, 0.020261374804666197), (592, 0.005000158441813348), (593, 0.028153085634269395), (594, 0.01006645340880909), (595, 0.009193524271681571), (596, 0.010422990574339094), (597, 0.004404281362344238), (598, 0.0), (599, 0.06021524966010225), (600, 0.02824355536357674), (601, 0.024378673128426478), (602, 0.011264327717650922), (603, 0.0), (604, 0.009851546020299768), (605, 0.0), (606, 0.0), (607, 0.11319234549708432), (608, 0.0), (609, 0.023485354022872617), (610, 0.009193963210731888), (611, 0.0039889459953804845), (612, 0.020482443397889863), (613, 0.016872060663917277), (614, 0.0), (615, 0.01593133220195929), (616, 0.0), (617, 0.004973675225982051), (618, 0.10057999493940989), (619, 0.0), (620, 0.0), (621, 0.004010787469855838), (622, 0.004516418172914232), (623, 0.0), (624, 0.003941472525853493), (625, 0.023993078649805273), (626, 0.01978783522026849), (627, 0.00750990927594893), (628, 0.0), (629, 0.0035905037215064116), (630, 0.0), (631, 0.055890405147140304), (632, 0.018482363774713233), (633, 0.0), (634, 0.02176145743765382), (635, 0.031207312804958982), (636, 0.0), (637, 0.0), (638, 0.0), (639, 0.017632550982110706), (640, 0.009641978420802019), (641, 0.07066754304044277), (642, 0.0), (643, 0.009935708049497819), (644, 0.0158205877860077), (645, 0.010206565770887181), (646, 0.03544732889369001), (647, 0.0), (648, 0.0), (649, 0.0), (650, 0.0), (651, 0.0), (652, 0.012503629911574232), (653, 0.00433029461282712), (654, 0.05992871927651219), (655, 0.004681934193035563), (656, 0.0), (657, 0.023195212191868927), (658, 0.021342303100967724), (659, 0.004446117385837619), (660, 0.012754834704870495), (661, 0.11068978349663487), (662, 0.0), (663, 0.0), (664, 0.04991563202645818), (665, 0.02396884936788599), (666, 0.0), (667, 0.0), (668, 0.029108221317427758), (669, 0.014382227397020813), (670, 0.017936321740208615), (671, 0.0052450512618387995), (672, 0.0), (673, 0.013431713495710621), (674, 0.06679650999105752), (675, 0.053196724473640655), (676, 0.0093567735293533), (677, 0.004167975452090987), (678, 0.011571241082278926), (679, 0.0), (680, 0.056469173787442296), (681, 0.0), (682, 0.0), (683, 0.008919120629682961), (684, 0.0), (685, 0.02841510134059256), (686, 0.0), (687, 0.009633885463701313), (688, 0.0131251660443513), (689, 0.0), (690, 0.0), (691, 0.008890963805286652), (692, 0.0), (693, 0.0), (694, 0.004154912461204737), (695, 0.008893925596020896), (696, 0.0), (697, 0.0), (698, 0.006117244536196663), (699, 0.028243981135821817), (700, 0.030329236723191055), (701, 0.02580674507519699), (702, 0.004474831251161411), (703, 0.0122265493609663), (704, 0.005702083903172833), (705, 0.06251307445491903), (706, 0.02034568133340431), (707, 0.005726128618787958), (708, 0.004004250961056442), (709, 0.0), (710, 0.0), (711, 0.019921763375944652), (712, 0.0), (713, 0.027626139036097726), (714, 0.0), (715, 0.011650145176763898), (716, 0.017125012352382615), (717, 0.0), (718, 0.017515589979217174), (719, 0.0), (720, 0.10276074058146226), (721, 0.005134110248260629), (722, 0.0), (723, 0.014776779183908476), (724, 0.004264670320671384), (725, 0.07134174638650975), (726, 0.04593317764412114), (727, 0.0), (728, 0.04645572858660919), (729, 0.013487651736705148), (730, 0.004771232189835889), (731, 0.010728477491512949), (732, 0.031308878985698535), (733, 0.03484541139951775), (734, 0.017774492557100334), (735, 0.02791117492553144), (736, 0.003844164319703711), (737, 0.004391179738928106), (738, 0.014928144004447612), (739, 0.0040701051895020365), (740, 0.023285908366591432), (741, 0.0040686709841728135), (742, 0.0), (743, 0.0), (744, 0.009718536649749343), (745, 0.004015110170418933), (746, 0.00876498237488739), (747, 0.004448232250345797), (748, 0.005933691907129925), (749, 0.0), (750, 0.005641114766838122), (751, 0.0), (752, 0.03967254870582222), (753, 0.004362851755971579), (754, 0.020109199763687777), (755, 0.028349577196181006), (756, 0.017535314426498107), (757, 0.013892937188639045), (758, 0.0), (759, 0.0), (760, 0.014568996673132405), (761, 0.03869164784528574), (762, 0.004486378971961881), (763, 0.07455441679308111), (764, 0.014205728424186406), (765, 0.0), (766, 0.0), (767, 0.010201917464316538), (768, 0.02233476119464351), (769, 0.00760501136721013), (770, 0.016774086579310787), (771, 0.01754147578313899), (772, 0.0), (773, 0.011350716438946775), (774, 0.021110840768704123), (775, 0.02823127963811558), (776, 0.0), (777, 0.02260199652820654), (778, 0.023522449739150478), (779, 0.0), (780, 0.022357593631250054), (781, 0.010408521919991835), (782, 0.04632532217035189), (783, 0.12482495342000771), (784, 0.010803624381261031), (785, 0.005792385095441601), (786, 0.011018633155861273), (787, 0.0037060559391265332), (788, 0.11599717774566402), (789, 0.059016621751583696), (790, 0.004261070301452035), (791, 0.006318603146732533), (792, 0.0), (793, 0.018364420628742918), (794, 0.008106698614007035), (795, 0.0), (796, 0.0), (797, 0.028969645951313967), (798, 0.0), (799, 0.025195902400590914), (800, 0.09539317688685003), (801, 0.0), (802, 0.0), (803, 0.0), (804, 0.004504705194539678), (805, 0.05595737254630772), (806, 0.0), (807, 0.004561849350329037), (808, 0.009852261735123165), (809, 0.011292317543828366), (810, 0.0), (811, 0.013112501506434667), (812, 0.005400324979133011), (813, 0.027248911488329784), (814, 0.016156272927371425), (815, 0.0), (816, 0.0059108460207482685), (817, 0.0), (818, 0.004501667573205466), (819, 0.0), (820, 0.0), (821, 0.004201037017672523), (822, 0.0), (823, 0.00441750461988212), (824, 0.0), (825, 0.012259368040065038), (826, 0.0), (827, 0.0), (828, 0.004486748923175147), (829, 0.0), (830, 0.003784833855292577), (831, 0.008492579693618716), (832, 0.009611056113157131), (833, 0.049052777278066534), (834, 0.01043493945813738), (835, 0.0), (836, 0.00927788114301837), (837, 0.0), (838, 0.023305358327327327), (839, 0.0), (840, 0.0677219310944012), (841, 0.0060501521554855555), (842, 0.0064179147256746795), (843, 0.0), (844, 0.004306267087679624), (845, 0.05538659691706656), (846, 0.0), (847, 0.0), (848, 0.00607596845783867), (849, 0.0), (850, 0.02197892869633699), (851, 0.010894426709861078), (852, 0.0), (853, 0.0), (854, 0.020299049463831324), (855, 0.03561526739151624), (856, 0.016482388860798867), (857, 0.0), (858, 0.005926868575703177), (859, 0.008655957420221284), (860, 0.0), (861, 0.0), (862, 0.016377811712840043), (863, 0.004511480075355343), (864, 0.031555087596431025), (865, 0.0), (866, 0.00492843301574708), (867, 0.0), (868, 0.0), (869, 0.0), (870, 0.08307054462079583), (871, 0.0), (872, 0.0), (873, 0.04752911755529564), (874, 0.005136891746286264), (875, 0.0), (876, 0.0), (877, 0.0), (878, 0.030855902410181834), (879, 0.0), (880, 0.016525649185458433), (881, 0.0), (882, 0.08838489706307834), (883, 0.0), (884, 0.0), (885, 0.06958424560083706), (886, 0.0), (887, 0.0), (888, 0.009677742397756914), (889, 0.03836998002741839), (890, 0.0), (891, 0.0), (892, 0.01332984294541904), (893, 0.004183302769312775), (894, 0.0038348873962730213), (895, 0.015083808693497644), (896, 0.0), (897, 0.0), (898, 0.019750538815227724), (899, 0.005888238991459583), (900, 0.01957708616674784), (901, 0.004815792911532625), (902, 0.022490708209939744), (903, 0.0), (904, 0.022681014999373052), (905, 0.0), (906, 0.0), (907, 0.0), (908, 0.01970106818406711), (909, 0.0), (910, 0.0), (911, 0.050546480849349734), (912, 0.0), (913, 0.0), (914, 0.0038554518753198463), (915, 0.0), (916, 0.0), (917, 0.0), (918, 0.0), (919, 0.00457858158669973), (920, 0.025978890854518148), (921, 0.0), (922, 0.02724456086337736), (923, 0.0), (924, 0.0), (925, 0.0), (926, 0.0), (927, 0.0), (928, 0.0), (929, 0.04104592351666779), (930, 0.0039865348631176615), (931, 0.025053118763635425), (932, 0.0032159985584304944), (933, 0.0098413392443169), (934, 0.004772983516734852), (935, 0.005634466776189859), (936, 0.0), (937, 0.004049895570077389), (938, 0.0), (939, 0.02249685694008997), (940, 0.09002945209267785), (941, 0.0038033874492553947), (942, 0.005839096745859901), (943, 0.0), (944, 0.0), (945, 0.0848896600044973), (946, 0.0), (947, 0.0), (948, 0.02631743603759061), (949, 0.02341042229762657), (950, 0.008862893157099525), (951, 0.004216152714484685), (952, 0.004764096673821994), (953, 0.04561205263531054), (954, 0.09785477245775806), (955, 0.004012899786733786), (956, 0.049378315868914335), (957, 0.0), (958, 0.0), (959, 0.0038230150336960025), (960, 0.07644526754528586), (961, 0.004937760070692736), (962, 0.0), (963, 0.003896932189402802), (964, 0.0), (965, 0.02892114872181599), (966, 0.0), (967, 0.02915950228692797), (968, 0.0), (969, 0.009345792125857892), (970, 0.0), (971, 0.0), (972, 0.028858438728809888), (973, 0.0038582318289344044), (974, 0.023540999748647318), (975, 0.0), (976, 0.029178396160185187), (977, 0.04355249563219557), (978, 0.005471730238020448), (979, 0.004401355188464621), (980, 0.0), (981, 0.004358846690395016), (982, 0.004435269339439788), (983, 0.0), (984, 0.010740981810982143), (985, 0.011158159600319385), (986, 0.0), (987, 0.0), (988, 0.01664640456052656), (989, 0.008980008689566363), (990, 0.02250508119049312), (991, 0.0), (992, 0.0042337589879983635), (993, 0.004481370824213835), (994, 0.018261415102429818), (995, 0.0), (996, 0.022893471902487018), (997, 0.0), (998, 0.0), (999, 0.01376624266835269), (1000, 0.004220465955141073), (1001, 0.025215372534329074), (1002, 0.02429429544916794), (1003, 0.003671608729601852), (1004, 0.0), (1005, 0.03275475801739389), (1006, 0.008976735268208968), (1007, 0.0), (1008, 0.016187301854232783), (1009, 0.0), (1010, 0.0), (1011, 0.0), (1012, 0.010607177976856591), (1013, 0.0), (1014, 0.026932247669344916), (1015, 0.08234645634851828), (1016, 0.04882911702597386), (1017, 0.0), (1018, 0.0030080594109048917), (1019, 0.0), (1020, 0.004827594482834073), (1021, 0.0), (1022, 0.0), (1023, 0.0), (1024, 0.04192052962726857), (1025, 0.0), (1026, 0.0), (1027, 0.009687672166184382), (1028, 0.020948752057319317), (1029, 0.07944056924880856), (1030, 0.0), (1031, 0.0), (1032, 0.0), (1033, 0.0), (1034, 0.0268630349842736), (1035, 0.00447117957568109), (1036, 0.0), (1037, 0.0), (1038, 0.0), (1039, 0.03798027256829797), (1040, 0.0), (1041, 0.058734480723535105), (1042, 0.0), (1043, 0.004352556139370094), (1044, 0.02478635382537003), (1045, 0.0), (1046, 0.0), (1047, 0.0), (1048, 0.0), (1049, 0.00403363946037462), (1050, 0.013151215578979582), (1051, 0.0), (1052, 0.034948596213313754), (1053, 0.01861239032049021), (1054, 0.0), (1055, 0.043898850358269556), (1056, 0.0038942678442652197), (1057, 0.012706338641434497), (1058, 0.024638559516339486), (1059, 0.027871005500544138), (1060, 0.0), (1061, 0.0), (1062, 0.005233797407139983), (1063, 0.0), (1064, 0.003490560050372742), (1065, 0.0), (1066, 0.0), (1067, 0.011067506684689955), (1068, 0.024147013602689858), (1069, 0.0), (1070, 0.022852612142614387), (1071, 0.0), (1072, 0.00524920855282759), (1073, 0.01032364396586814), (1074, 0.005722994739713963), (1075, 0.0), (1076, 0.010131642375131297), (1077, 0.007934115199539163), (1078, 0.005713752431945121), (1079, 0.025161295356758987), (1080, 0.005408356837441308), (1081, 0.0), (1082, 0.008279128439563185), (1083, 0.028563151231866174), (1084, 0.009680992910359029), (1085, 0.015004365442294016), (1086, 0.042952414227957786), (1087, 0.0), (1088, 0.0), (1089, 0.010105563107354292), (1090, 0.013065106916355752), (1091, 0.0), (1092, 0.024596173368517694), (1093, 0.02663908071508138), (1094, 0.0), (1095, 0.0037809309881752266), (1096, 0.004113190130922743), (1097, 0.03744883151128845), (1098, 0.0), (1099, 0.006320059206953985), (1100, 0.009476454840069266), (1101, 0.003983933183629841), (1102, 0.0), (1103, 0.009363773407659409), (1104, 0.003929528149008538), (1105, 0.012538674896264033), (1106, 0.009065447277296058), (1107, 0.0), (1108, 0.0), (1109, 0.003599197607340857), (1110, 0.021201681762970884), (1111, 0.015002547543593378), (1112, 0.0), (1113, 0.0), (1114, 0.004934477610137469), (1115, 0.0), (1116, 0.0), (1117, 0.0), (1118, 0.0045845986621303415), (1119, 0.03207020212628135), (1120, 0.0), (1121, 0.0), (1122, 0.0), (1123, 0.0), (1124, 0.00907579925589037), (1125, 0.0), (1126, 0.0), (1127, 0.0), (1128, 0.064807819650118), (1129, 0.0), (1130, 0.0), (1131, 0.02226143672835835), (1132, 0.0), (1133, 0.018348256899844526), (1134, 0.005252345077768488), (1135, 0.085875260592773), (1136, 0.008540187669782429), (1137, 0.004096623909520819), (1138, 0.003705199633142965), (1139, 0.00976650477050894), (1140, 0.003741458977687954), (1141, 0.0), (1142, 0.004578353232632271), (1143, 0.01034753383803022), (1144, 0.004567441794339832), (1145, 0.0), (1146, 0.003997645987798995), (1147, 0.0), (1148, 0.0), (1149, 0.0), (1150, 0.0), (1151, 0.0), (1152, 0.053654285559402846), (1153, 0.01639122308657137), (1154, 0.0), (1155, 0.03744531502367569), (1156, 0.0), (1157, 0.016998003239340455), (1158, 0.004349638596277338), (1159, 0.022119635105331544), (1160, 0.0), (1161, 0.0), (1162, 0.0), (1163, 0.0), (1164, 0.0), (1165, 0.06183339426080345), (1166, 0.0), (1167, 0.0), (1168, 0.0), (1169, 0.0), (1170, 0.08299608331318072), (1171, 0.026534574500280912), (1172, 0.010272535046787299), (1173, 0.014511445140150325), (1174, 0.0038275309459761243), (1175, 0.009213515923592389), (1176, 0.0), (1177, 0.03422457881330481), (1178, 0.00457775172508456), (1179, 0.0), (1180, 0.07339875991236823), (1181, 0.0), (1182, 0.0), (1183, 0.0053924242934747365), (1184, 0.02278985553839468), (1185, 0.0), (1186, 0.0), (1187, 0.0), (1188, 0.00412185389068586), (1189, 0.0), (1190, 0.0), (1191, 0.024575587784346098), (1192, 0.0850767279120069), (1193, 0.013415082768048484), (1194, 0.0), (1195, 0.004164185085523395), (1196, 0.0), (1197, 0.0), (1198, 0.022421352652819016), (1199, 0.008716225322854368), (1200, 0.05592436400935564), (1201, 0.025292703249595254), (1202, 0.00878402944925501), (1203, 0.0), (1204, 0.0), (1205, 0.0), (1206, 0.0), (1207, 0.0), (1208, 0.0), (1209, 0.03421842317204847), (1210, 0.10219308920922245), (1211, 0.0), (1212, 0.004563173710683473), (1213, 0.05392406687622057), (1214, 0.004711125280536838), (1215, 0.0), (1216, 0.0), (1217, 0.020419378032530824), (1218, 0.0), (1219, 0.0), (1220, 0.0), (1221, 0.0), (1222, 0.017303592521590156), (1223, 0.0), (1224, 0.0), (1225, 0.0), (1226, 0.0), (1227, 0.0), (1228, 0.0), (1229, 0.0), (1230, 0.06004630022755783), (1231, 0.0), (1232, 0.024073457382273768), (1233, 0.056808486675294645), (1234, 0.009839841736283524), (1235, 0.0), (1236, 0.0), (1237, 0.029961617603904936), (1238, 0.017836253482468582), (1239, 0.009747678756529859), (1240, 0.0), (1241, 0.0), (1242, 0.0), (1243, 0.0117904490731991), (1244, 0.02086960555147194), (1245, 0.004551964918492158), (1246, 0.0), (1247, 0.03831028552283089), (1248, 0.007854488589913283), (1249, 0.04346718142932467), (1250, 0.03330302279085316), (1251, 0.010662931240922572), (1252, 0.0), (1253, 0.005735215030274187), (1254, 0.0044669071013238365), (1255, 0.0), (1256, 0.01069524364172164), (1257, 0.005948436469126028), (1258, 0.0), (1259, 0.026858067516562403), (1260, 0.0), (1261, 0.0), (1262, 0.0), (1263, 0.00523784940747945), (1264, 0.0), (1265, 0.0), (1266, 0.00969847833766712), (1267, 0.006116000317006944), (1268, 0.0), (1269, 0.023807261752044114), (1270, 0.019842234902448658), (1271, 0.02087295835254119), (1272, 0.04180886665403202), (1273, 0.01075833411823763), (1274, 0.08377217285998231), (1275, 0.017265578724037244), (1276, 0.0), (1277, 0.060581450213656234), (1278, 0.005008963645066689), (1279, 0.00973912591301859), (1280, 0.0), (1281, 0.0038114028543283197), (1282, 0.08723315712058577), (1283, 0.0172899701551789), (1284, 0.0044664627991992546), (1285, 0.029654753984199304), (1286, 0.017778592033963547), (1287, 0.005563400794568768), (1288, 0.04099605344414947), (1289, 0.004752721094380363), (1290, 0.009028903988068458), (1291, 0.049170676882992356), (1292, 0.0), (1293, 0.0), (1294, 0.02762955360468601), (1295, 0.0), (1296, 0.02220639995485751), (1297, 0.036680080158131505), (1298, 0.008311122516491092), (1299, 0.023862891183750443), (1300, 0.013091523209743315), (1301, 0.0), (1302, 0.02410941362550547), (1303, 0.026893390750814764), (1304, 0.0030146077940677446), (1305, 0.013338709040776059), (1306, 0.006692044926942507), (1307, 0.0), (1308, 0.0), (1309, 0.0), (1310, 0.0038336060028225246), (1311, 0.06981776144138352), (1312, 0.0), (1313, 0.0), (1314, 0.0), (1315, 0.0), (1316, 0.0), (1317, 0.06868242598310116), (1318, 0.017276725454639957), (1319, 0.021812376618793927), (1320, 0.010294083988093158), (1321, 0.004384110702137654), (1322, 0.011329611717621051), (1323, 0.0), (1324, 0.03615465622176766), (1325, 0.0), (1326, 0.02210070792972242), (1327, 0.0), (1328, 0.022402150514177044), (1329, 0.0), (1330, 0.0), (1331, 0.011418103406855435), (1332, 0.028625374386027688), (1333, 0.0), (1334, 0.004131180080718739), (1335, 0.02554202568853377), (1336, 0.023015380104960757), (1337, 0.01857529737383735), (1338, 0.01174495764614623), (1339, 0.004270959862673065), (1340, 0.0), (1341, 0.014556900274823776), (1342, 0.004703565585481996), (1343, 0.008929024181344182), (1344, 0.022496378880193707), (1345, 0.023480905424904573), (1346, 0.0), (1347, 0.004096354088671242), (1348, 0.0), (1349, 0.0), (1350, 0.0), (1351, 0.0), (1352, 0.01719352681921055), (1353, 0.0), (1354, 0.02634392730378263), (1355, 0.0), (1356, 0.0), (1357, 0.005160396233463478), (1358, 0.04216458889010858), (1359, 0.003954920066056882), (1360, 0.0), (1361, 0.009159649434996038), (1362, 0.0), (1363, 0.021716979392299177), (1364, 0.0), (1365, 0.06510157021948036), (1366, 0.0), (1367, 0.04107921806816209), (1368, 0.09026883720586723), (1369, 0.012347589325431032), (1370, 0.026021067527003783), (1371, 0.0), (1372, 0.0), (1373, 0.0), (1374, 0.0), (1375, 0.005463225791334053), (1376, 0.0), (1377, 0.023543168838820946), (1378, 0.0), (1379, 0.01665431852098296), (1380, 0.009973077051134406), (1381, 0.0), (1382, 0.006434285256516163), (1383, 0.02482903172948892), (1384, 0.0), (1385, 0.0), (1386, 0.0), (1387, 0.02595555673230706), (1388, 0.0), (1389, 0.0), (1390, 0.03003550197969877), (1391, 0.0), (1392, 0.04593639813978382), (1393, 0.0), (1394, 0.0), (1395, 0.022505214171231223), (1396, 0.04271474239802834), (1397, 0.0), (1398, 0.044155583703735846), (1399, 0.023026527844870717), (1400, 0.0), (1401, 0.0), (1402, 0.00567668780569663), (1403, 0.0), (1404, 0.0077681918474053376), (1405, 0.0), (1406, 0.09891010808137675), (1407, 0.0), (1408, 0.0), (1409, 0.0), (1410, 0.0), (1411, 0.0), (1412, 0.01764724719161053), (1413, 0.0), (1414, 0.0), (1415, 0.016588077602591605), (1416, 0.0), (1417, 0.004798383778640461), (1418, 0.0), (1419, 0.017461562631516936), (1420, 0.0), (1421, 0.0), (1422, 0.01883708584632865), (1423, 0.0), (1424, 0.0), (1425, 0.024090757397440595), (1426, 0.005705314532064316), (1427, 0.0), (1428, 0.0706388402486865), (1429, 0.0), (1430, 0.0), (1431, 0.003977560237435992), (1432, 0.00432780726631641), (1433, 0.004853043680304061), (1434, 0.02865198170338091), (1435, 0.0), (1436, 0.01739038286403603), (1437, 0.0038650161580467447), (1438, 0.008923054047262983), (1439, 0.03574059321619976), (1440, 0.028044414871681682), (1441, 0.0), (1442, 0.0), (1443, 0.004069918913379923), (1444, 0.0), (1445, 0.029979787770594804), (1446, 0.03878992622742564), (1447, 0.009502286234686647), (1448, 0.004614735676038604), (1449, 0.0), (1450, 0.00402107402608006), (1451, 0.11021824290525004), (1452, 0.018719774802508162), (1453, 0.003931807948837328), (1454, 0.0), (1455, 0.0), (1456, 0.03486308456619963), (1457, 0.004247932959772947), (1458, 0.0), (1459, 0.07364059367022985), (1460, 0.005612082685620916), (1461, 0.0), (1462, 0.0), (1463, 0.0038265847836899494), (1464, 0.0), (1465, 0.021331275854811947), (1466, 0.0), (1467, 0.01609307586471918), (1468, 0.023068950807365214), (1469, 0.035101078362785296), (1470, 0.004371567630241698), (1471, 0.0), (1472, 0.020435192737668143), (1473, 0.017219413808447475), (1474, 0.012127721738820414), (1475, 0.0), (1476, 0.0), (1477, 0.0), (1478, 0.0), (1479, 0.004997912726987475), (1480, 0.043673791767593756), (1481, 0.010413088320862756), (1482, 0.0556136564397855), (1483, 0.0), (1484, 0.05371324197251168), (1485, 0.0), (1486, 0.004239408714555622), (1487, 0.0), (1488, 0.019970043509921286), (1489, 0.0), (1490, 0.028658299442994122), (1491, 0.021365063404232096), (1492, 0.0), (1493, 0.0), (1494, 0.06315829825507903), (1495, 0.051923982879382616), (1496, 0.027492984196945652), (1497, 0.0), (1498, 0.0), (1499, 0.0), (1500, 0.004291463950122766), (1501, 0.0), (1502, 0.06158233858863407), (1503, 0.005291105340306889), (1504, 0.013312451893136111), (1505, 0.00468382762781615), (1506, 0.019337263697644436), (1507, 0.026048944561713677), (1508, 0.0), (1509, 0.0061620506899780466), (1510, 0.004381545007277198), (1511, 0.0), (1512, 0.0), (1513, 0.003916630287038904), (1514, 0.004421294243678483), (1515, 0.0043950762933811565), (1516, 0.0), (1517, 0.017876077987409447), (1518, 0.029220162140179272), (1519, 0.0), (1520, 0.0), (1521, 0.0), (1522, 0.0), (1523, 0.0), (1524, 0.0067593950865134445), (1525, 0.013723023060855533), (1526, 0.0), (1527, 0.0), (1528, 0.005034509218852899), (1529, 0.013597727977105076), (1530, 0.015623079037235863), (1531, 0.02253352883285189), (1532, 0.0), (1533, 0.0), (1534, 0.021458539550386502), (1535, 0.019360788678778305), (1536, 0.0), (1537, 0.0), (1538, 0.0038392590211656307), (1539, 0.021631108017158247), (1540, 0.0), (1541, 0.0), (1542, 0.03433642782387968), (1543, 0.0), (1544, 0.0), (1545, 0.0), (1546, 0.010890942836130096), (1547, 0.023072086532528787), (1548, 0.0), (1549, 0.0), (1550, 0.005264837350115752), (1551, 0.011099014135598552), (1552, 0.0), (1553, 0.11285523720554555), (1554, 0.01644645424284113), (1555, 0.0), (1556, 0.0), (1557, 0.0), (1558, 0.010195634765261365), (1559, 0.0), (1560, 0.0), (1561, 0.0), (1562, 0.0051943621025237275), (1563, 0.0), (1564, 0.005213779800217659), (1565, 0.0), (1566, 0.0), (1567, 0.0), (1568, 0.020455033821725522), (1569, 0.023302505433843653), (1570, 0.0), (1571, 0.0), (1572, 0.0), (1573, 0.08375648513839158), (1574, 0.0), (1575, 0.020182304184508882), (1576, 0.0), (1577, 0.014260894970764758), (1578, 0.0), (1579, 0.0), (1580, 0.006639989728324921), (1581, 0.0), (1582, 0.0), (1583, 0.027740116084296135), (1584, 0.0), (1585, 0.0), (1586, 0.010132494133931757), (1587, 0.005542723226056825), (1588, 0.02119903011117372), (1589, 0.02408699879455985), (1590, 0.0), (1591, 0.0), (1592, 0.004097679819951966), (1593, 0.0), (1594, 0.0), (1595, 0.022679466410147772), (1596, 0.027247388662551466), (1597, 0.00540774024025045), (1598, 0.0), (1599, 0.0), (1600, 0.016708195931718933), (1601, 0.025939730259297786), (1602, 0.005844920746907666), (1603, 0.0), (1604, 0.04865251069968906), (1605, 0.0), (1606, 0.017170030291991982), (1607, 0.016098999274414192), (1608, 0.01848045321329724), (1609, 0.0), (1610, 0.009990646881025338), (1611, 0.016931703355914603), (1612, 0.0), (1613, 0.0), (1614, 0.0), (1615, 0.009851345725894998), (1616, 0.00394497963136271), (1617, 0.027780781665084325), (1618, 0.0), (1619, 0.0), (1620, 0.0), (1621, 0.0), (1622, 0.0), (1623, 0.0), (1624, 0.0), (1625, 0.020882107054837118), (1626, 0.00372040751748286), (1627, 0.0), (1628, 0.01045292251114895), (1629, 0.0), (1630, 0.0), (1631, 0.0), (1632, 0.0), (1633, 0.023189534022797526), (1634, 0.0), (1635, 0.004097643358254992), (1636, 0.0380294053960587), (1637, 0.01533505567603554), (1638, 0.0), (1639, 0.021375788374251987), (1640, 0.0), (1641, 0.04936439859293941), (1642, 0.022894013091985563), (1643, 0.015812612349383165), (1644, 0.024434629128306084), (1645, 0.009097305272687596), (1646, 0.01863300610060627), (1647, 0.0), (1648, 0.0), (1649, 0.0395069927870415), (1650, 0.04485679924146672), (1651, 0.0707094784096073), (1652, 0.05938538935397622), (1653, 0.003958969969560919), (1654, 0.06507436189496249), (1655, 0.0), (1656, 0.0), (1657, 0.012301795818226532), (1658, 0.006707978888495658), (1659, 0.0), (1660, 0.0), (1661, 0.0040942190106596065), (1662, 0.0), (1663, 0.010377711001688786), (1664, 0.06607146570055587), (1665, 0.0), (1666, 0.0), (1667, 0.012692605406232621), (1668, 0.0), (1669, 0.004037251300187282), (1670, 0.0641609282457416), (1671, 0.003966139185722408), (1672, 0.008837302483336099), (1673, 0.0), (1674, 0.0), (1675, 0.0050095979137993), (1676, 0.0), (1677, 0.0), (1678, 0.0), (1679, 0.0), (1680, 0.004582207413489717), (1681, 0.0), (1682, 0.005745562267996133), (1683, 0.026478309577105345), (1684, 0.012927205010919002), (1685, 0.0), (1686, 0.008827921119129178), (1687, 0.026453348075688287), (1688, 0.0), (1689, 0.0), (1690, 0.0), (1691, 0.0), (1692, 0.0), (1693, 0.0), (1694, 0.0), (1695, 0.00621146956777243), (1696, 0.04334041256020337), (1697, 0.01409097284277492), (1698, 0.0), (1699, 0.004439125749440663), (1700, 0.0), (1701, 0.02333645063024875), (1702, 0.0043093825895073575), (1703, 0.056213251815343285), (1704, 0.0), (1705, 0.0), (1706, 0.0), (1707, 0.0038392025381274696), (1708, 0.0), (1709, 0.019060730975710566), (1710, 0.07933123031433043), (1711, 0.0), (1712, 0.03938365138424329), (1713, 0.009557322245514695), (1714, 0.0), (1715, 0.046105592403978955), (1716, 0.0), (1717, 0.0), (1718, 0.0), (1719, 0.0), (1720, 0.05819650337957385), (1721, 0.01313143335967083), (1722, 0.0), (1723, 0.0), (1724, 0.0), (1725, 0.016228837682509295), (1726, 0.004430301886182837), (1727, 0.004958601983648712), (1728, 0.012496243347294144), (1729, 0.0), (1730, 0.0), (1731, 0.0), (1732, 0.0), (1733, 0.004710045067824176), (1734, 0.01727452335276071), (1735, 0.01822569333481389), (1736, 0.0), (1737, 0.0), (1738, 0.012201053286851398), (1739, 0.013233753880496215), (1740, 0.12161867462604004), (1741, 0.004430917776472568), (1742, 0.017311762275757224), (1743, 0.008978048713099977), (1744, 0.0), (1745, 0.0), (1746, 0.0), (1747, 0.004147363921811379), (1748, 0.0), (1749, 0.0), (1750, 0.02501104510988277), (1751, 0.0), (1752, 0.0), (1753, 0.06226439711331862), (1754, 0.005156872485678929), (1755, 0.0), (1756, 0.0), (1757, 0.022031439598446112), (1758, 0.0), (1759, 0.0), (1760, 0.0), (1761, 0.004589601153742858), (1762, 0.01925657499948249), (1763, 0.0), (1764, 0.010909477276399137), (1765, 0.019470378841783507), (1766, 0.0), (1767, 0.0), (1768, 0.0), (1769, 0.0209664284811315), (1770, 0.0), (1771, 0.01617845094134574), (1772, 0.01713482100948021), (1773, 0.018307682938768315), (1774, 0.014253609235587349), (1775, 0.0), (1776, 0.0), (1777, 0.010864193783142679), (1778, 0.0), (1779, 0.0), (1780, 0.07587252045772697), (1781, 0.0), (1782, 0.03392704059958812), (1783, 0.004281359374639606), (1784, 0.0), (1785, 0.013168215926497006), (1786, 0.01770812095140823), (1787, 0.0), (1788, 0.0), (1789, 0.0), (1790, 0.027962131360358557), (1791, 0.0), (1792, 0.004430532460499294), (1793, 0.0), (1794, 0.02874579928377303), (1795, 0.0035792018719217784), (1796, 0.0), (1797, 0.0055055959919585685), (1798, 0.012777311987665498), (1799, 0.0), (1800, 0.0), (1801, 0.0), (1802, 0.03325747735233336), (1803, 0.0), (1804, 0.0), (1805, 0.0), (1806, 0.0), (1807, 0.016879292397818227), (1808, 0.015321650352915422), (1809, 0.0), (1810, 0.0), (1811, 0.0), (1812, 0.0), (1813, 0.0), (1814, 0.0), (1815, 0.02140156879667158), (1816, 0.0), (1817, 0.0031859724075719927), (1818, 0.0), (1819, 0.02753457120930322), (1820, 0.0), (1821, 0.07591021734768298), (1822, 0.005232412633353174), (1823, 0.01324423370291679), (1824, 0.0), (1825, 0.009397544949456407), (1826, 0.02260102726831493), (1827, 0.024860531728125745), (1828, 0.012413873582363677), (1829, 0.0), (1830, 0.0038991157166819207), (1831, 0.0), (1832, 0.0), (1833, 0.0), (1834, 0.0), (1835, 0.0), (1836, 0.009800714999566393), (1837, 0.0034036573332182985), (1838, 0.0), (1839, 0.0), (1840, 0.0), (1841, 0.01653369621629107), (1842, 0.0), (1843, 0.0), (1844, 0.004470724393970604), (1845, 0.01277009968986382), (1846, 0.017223664047188978), (1847, 0.01402349678760786), (1848, 0.003941793432581863), (1849, 0.0), (1850, 0.018781126579384525), (1851, 0.009515708341845437), (1852, 0.026991521013348785), (1853, 0.004279194759201904), (1854, 0.009304496420926699), (1855, 0.0), (1856, 0.004665879802298728), (1857, 0.0), (1858, 0.009046998255744681), (1859, 0.0), (1860, 0.004743219171997253), (1861, 0.0), (1862, 0.0), (1863, 0.023952333844752823), (1864, 0.08023145416351447), (1865, 0.03911568256035706), (1866, 0.0), (1867, 0.0), (1868, 0.004544916201063616), (1869, 0.0), (1870, 0.0), (1871, 0.0), (1872, 0.02874829298622819), (1873, 0.0), (1874, 0.059590235804667144), (1875, 0.0), (1876, 0.0), (1877, 0.007884977400569579), (1878, 0.004514915209945732), (1879, 0.0), (1880, 0.02727053295141288), (1881, 0.0), (1882, 0.0049516782007148884), (1883, 0.0), (1884, 0.0), (1885, 0.0), (1886, 0.0), (1887, 0.0), (1888, 0.0), (1889, 0.0), (1890, 0.0), (1891, 0.0), (1892, 0.008646972006872757), (1893, 0.0), (1894, 0.004665270573005256), (1895, 0.0), (1896, 0.024444965910117442), (1897, 0.004861150029186627), (1898, 0.0), (1899, 0.042163711750471844), (1900, 0.0), (1901, 0.0), (1902, 0.018471530613303658), (1903, 0.0), (1904, 0.0), (1905, 0.0), (1906, 0.0), (1907, 0.008582059079285756), (1908, 0.004027158732862346), (1909, 0.0), (1910, 0.004287172712018961), (1911, 0.0), (1912, 0.013595989065577631), (1913, 0.0), (1914, 0.01694183058272171), (1915, 0.012798342526169043), (1916, 0.058228104394883136), (1917, 0.0), (1918, 0.016720325271134713), (1919, 0.0169287115999478), (1920, 0.004772014890938191), (1921, 0.0), (1922, 0.030150869193842793), (1923, 0.0), (1924, 0.0), (1925, 0.030819886880957), (1926, 0.0), (1927, 0.0), (1928, 0.0), (1929, 0.0), (1930, 0.003947166134740151), (1931, 0.019740432823897827), (1932, 0.03658375930257886), (1933, 0.004789783423299909), (1934, 0.0), (1935, 0.0), (1936, 0.01879692906628446), (1937, 0.005453466209894247), (1938, 0.017425206943088425), (1939, 0.0097167201905006), (1940, 0.0), (1941, 0.0), (1942, 0.0), (1943, 0.012100480608473), (1944, 0.0), (1945, 0.0), (1946, 0.0), (1947, 0.0), (1948, 0.0), (1949, 0.0), (1950, 0.003902700487035618), (1951, 0.0), (1952, 0.0), (1953, 0.01060559470563566), (1954, 0.004582715253054953), (1955, 0.0037955327166848676), (1956, 0.08572050004509225), (1957, 0.0), (1958, 0.005987250499822446), (1959, 0.019177079540851065), (1960, 0.0), (1961, 0.0), (1962, 0.006014634381627419), (1963, 0.0), (1964, 0.0), (1965, 0.0), (1966, 0.0), (1967, 0.04554143425174145), (1968, 0.02284636685627785), (1969, 0.014019703359925535), (1970, 0.0), (1971, 0.07027457244531422), (1972, 0.07438348228501894), (1973, 0.009407567842175155), (1974, 0.023860374431168854), (1975, 0.013123631538487064), (1976, 0.018063129555942768), (1977, 0.004107213927265918), (1978, 0.05525144118269166), (1979, 0.0), (1980, 0.0), (1981, 0.0), (1982, 0.0), (1983, 0.0), (1984, 0.02716668368622563), (1985, 0.014359255166055632), (1986, 0.031805206856797864), (1987, 0.00493085308985876), (1988, 0.0), (1989, 0.0), (1990, 0.034667521327712926), (1991, 0.004513058032525932), (1992, 0.012241368833086987), (1993, 0.0), (1994, 0.0), (1995, 0.018686914075422716), (1996, 0.0), (1997, 0.016446498938671124), (1998, 0.0), (1999, 0.01815710082588561), (2000, 0.0), (2001, 0.006080607718265458), (2002, 0.023622765431617357), (2003, 0.0053425319352084924), (2004, 0.010457171620666396), (2005, 0.0), (2006, 0.0), (2007, 0.03402901643456107), (2008, 0.0), (2009, 0.0), (2010, 0.031333960101535656), (2011, 0.0), (2012, 0.0), (2013, 0.018215573103774797), (2014, 0.0), (2015, 0.016476235891607426), (2016, 0.0032590778107474128), (2017, 0.0), (2018, 0.0), (2019, 0.0), (2020, 0.0), (2021, 0.0), (2022, 0.0), (2023, 0.0037156133673983513), (2024, 0.02716611198548796), (2025, 0.0), (2026, 0.022212912587053716), (2027, 0.0), (2028, 0.03620580428645069), (2029, 0.004940027917398427), (2030, 0.0), (2031, 0.0), (2032, 0.0), (2033, 0.0), (2034, 0.027165503217888364), (2035, 0.0), (2036, 0.015585063081695279), (2037, 0.014423714584537048), (2038, 0.0), (2039, 0.04599009491507618), (2040, 0.0), (2041, 0.0), (2042, 0.014133164695571514), (2043, 0.037917420978370725), (2044, 0.07846306829308952), (2045, 0.0), (2046, 0.04097733451799062), (2047, 0.025319318030874456), (2048, 0.0), (2049, 0.013226569339176417), (2050, 0.004164218963868029), (2051, 0.0), (2052, 0.0), (2053, 0.0), (2054, 0.003936749392201777), (2055, 0.00510462992006296), (2056, 0.0), (2057, 0.008156522161766329), (2058, 0.012975867926542105), (2059, 0.0), (2060, 0.03798295406271214), (2061, 0.0), (2062, 0.0), (2063, 0.08255569352816593), (2064, 0.004439532332167259), (2065, 0.0), (2066, 0.07596220680768431), (2067, 0.0), (2068, 0.0), (2069, 0.009232937510184513), (2070, 0.0), (2071, 0.014787908748133422), (2072, 0.0), (2073, 0.0), (2074, 0.00401461231261465), (2075, 0.02957581321548603), (2076, 0.016912899690986884), (2077, 0.027269516008222906), (2078, 0.0), (2079, 0.0), (2080, 0.0), (2081, 0.0), (2082, 0.0), (2083, 0.0), (2084, 0.02100515660781246), (2085, 0.009127918196255799), (2086, 0.005161094400437823), (2087, 0.017167507177674245), (2088, 0.0)]\n"
          ]
        }
      ]
    },
    {
      "cell_type": "code",
      "source": [
        "len(similarity_score)"
      ],
      "metadata": {
        "colab": {
          "base_uri": "https://localhost:8080/"
        },
        "id": "8Z173rQfWofu",
        "outputId": "edb6518c-64b2-4857-da85-368c03645582"
      },
      "execution_count": 23,
      "outputs": [
        {
          "output_type": "execute_result",
          "data": {
            "text/plain": [
              "2089"
            ]
          },
          "metadata": {},
          "execution_count": 23
        }
      ]
    },
    {
      "cell_type": "code",
      "source": [
        "# sorting the movies based on their similarity score\n",
        "\n",
        "sorted_similar_movies = sorted(similarity_score, key = lambda x:x[1], reverse = True)\n",
        "print(sorted_similar_movies)"
      ],
      "metadata": {
        "colab": {
          "base_uri": "https://localhost:8080/"
        },
        "id": "_FnU3gsaWp5W",
        "outputId": "cfc92f2c-643a-475f-8002-e4230e98a8b3"
      },
      "execution_count": 24,
      "outputs": [
        {
          "output_type": "stream",
          "name": "stdout",
          "text": [
            "[(68, 1.0), (79, 0.3889042850565883), (31, 0.29758190265931844), (7, 0.22129410720495182), (16, 0.2124250864672975), (26, 0.20003794464922772), (85, 0.18758370811555494), (182, 0.17303940847499305), (511, 0.14896833152434866), (64, 0.13262188381528214), (203, 0.12962997621142125), (46, 0.12670168999602058), (174, 0.12630736817597718), (783, 0.12482495342000771), (101, 0.12451741468738077), (131, 0.1242058095665389), (1740, 0.12161867462604004), (138, 0.1215429049231857), (169, 0.12026318774392675), (94, 0.11955792407483229), (126, 0.116879863144568), (788, 0.11599717774566402), (33, 0.11404116020428036), (607, 0.11319234549708432), (1553, 0.11285523720554555), (353, 0.1124358687658105), (661, 0.11068978349663487), (1451, 0.11021824290525004), (720, 0.10276074058146226), (1210, 0.10219308920922245), (618, 0.10057999493940989), (1406, 0.09891010808137675), (954, 0.09785477245775806), (307, 0.09625905641451027), (800, 0.09539317688685003), (38, 0.09402629687846019), (122, 0.0922866282261785), (1368, 0.09026883720586723), (940, 0.09002945209267785), (242, 0.0891149103142311), (882, 0.08838489706307834), (39, 0.08834334810620258), (1282, 0.08723315712058577), (205, 0.08713561816485374), (356, 0.08588698278422768), (1135, 0.085875260592773), (1956, 0.08572050004509225), (1192, 0.0850767279120069), (945, 0.0848896600044973), (14, 0.08476472871983082), (1274, 0.08377217285998231), (1573, 0.08375648513839158), (361, 0.08351152394959656), (870, 0.08307054462079583), (1170, 0.08299608331318072), (2063, 0.08255569352816593), (1015, 0.08234645634851828), (78, 0.08222853489692114), (198, 0.08141066475679963), (6, 0.08086137185048237), (1864, 0.08023145416351447), (401, 0.07991690818882093), (19, 0.0798296940059176), (1029, 0.07944056924880856), (1710, 0.07933123031433043), (2044, 0.07846306829308952), (318, 0.0782309662434483), (232, 0.07781191144622499), (396, 0.07741030895502565), (501, 0.0768243389833563), (960, 0.07644526754528586), (2066, 0.07596220680768431), (1821, 0.07591021734768298), (1780, 0.07587252045772697), (763, 0.07455441679308111), (1972, 0.07438348228501894), (1459, 0.07364059367022985), (1180, 0.07339875991236823), (421, 0.07308235954069317), (725, 0.07134174638650975), (91, 0.07084428831468738), (1651, 0.0707094784096073), (641, 0.07066754304044277), (1428, 0.0706388402486865), (1971, 0.07027457244531422), (1311, 0.06981776144138352), (885, 0.06958424560083706), (129, 0.06878509516420835), (185, 0.0686907354422031), (1317, 0.06868242598310116), (460, 0.06814280613336512), (840, 0.0677219310944012), (436, 0.06720504882213331), (30, 0.06685849886788388), (20, 0.06681914028355694), (674, 0.06679650999105752), (10, 0.06607457866978897), (1664, 0.06607146570055587), (9, 0.06580064987629673), (1365, 0.06510157021948036), (1654, 0.06507436189496249), (1128, 0.064807819650118), (72, 0.06424652221946889), (1670, 0.0641609282457416), (1494, 0.06315829825507903), (705, 0.06251307445491903), (332, 0.062323321624394246), (1753, 0.06226439711331862), (166, 0.061902872433419555), (1165, 0.06183339426080345), (1502, 0.06158233858863407), (382, 0.061547770906985516), (278, 0.06135956007362893), (238, 0.06073750958604299), (1277, 0.060581450213656234), (599, 0.06021524966010225), (1230, 0.06004630022755783), (654, 0.05992871927651219), (1874, 0.059590235804667144), (1652, 0.05938538935397622), (291, 0.05901921875379249), (789, 0.059016621751583696), (1041, 0.058734480723535105), (95, 0.05870498890537729), (1916, 0.058228104394883136), (1720, 0.05819650337957385), (1233, 0.056808486675294645), (41, 0.05664822917083748), (680, 0.056469173787442296), (508, 0.056281265185959044), (1703, 0.056213251815343285), (28, 0.05620635272989025), (805, 0.05595737254630772), (1200, 0.05592436400935564), (631, 0.055890405147140304), (1482, 0.0556136564397855), (845, 0.05538659691706656), (1978, 0.05525144118269166), (574, 0.05517298014897381), (270, 0.053946054716553), (1213, 0.05392406687622057), (1484, 0.05371324197251168), (1152, 0.053654285559402846), (457, 0.053333366132595775), (675, 0.053196724473640655), (507, 0.05291601113637283), (43, 0.05274335520604361), (1495, 0.051923982879382616), (420, 0.05131529167519051), (330, 0.05104794594002379), (1, 0.05088852429290338), (54, 0.05058752991603233), (911, 0.050546480849349734), (262, 0.0501227953454737), (331, 0.04996490296944946), (664, 0.04991563202645818), (329, 0.04940869607421377), (956, 0.049378315868914335), (1641, 0.04936439859293941), (1291, 0.049170676882992356), (833, 0.049052777278066534), (412, 0.04900149260616641), (1016, 0.04882911702597386), (1604, 0.04865251069968906), (98, 0.048339577443203885), (873, 0.04752911755529564), (76, 0.04720786608178804), (199, 0.0466801731582797), (728, 0.04645572858660919), (464, 0.04642131985393582), (782, 0.04632532217035189), (1715, 0.046105592403978955), (2039, 0.04599009491507618), (1392, 0.04593639813978382), (726, 0.04593317764412114), (953, 0.04561205263531054), (1967, 0.04554143425174145), (546, 0.044863455070220146), (1650, 0.04485679924146672), (1398, 0.044155583703735846), (441, 0.04399707499425278), (1055, 0.043898850358269556), (163, 0.043844273669764317), (324, 0.04370166090384755), (1480, 0.043673791767593756), (977, 0.04355249563219557), (1249, 0.04346718142932467), (1696, 0.04334041256020337), (207, 0.0433339698006004), (1086, 0.042952414227957786), (1396, 0.04271474239802834), (1358, 0.04216458889010858), (1899, 0.042163711750471844), (1024, 0.04192052962726857), (1272, 0.04180886665403202), (110, 0.04149723190014105), (316, 0.04146314851933605), (483, 0.04145936508518164), (1367, 0.04107921806816209), (929, 0.04104592351666779), (1288, 0.04099605344414947), (2046, 0.04097733451799062), (136, 0.04065048307922829), (178, 0.040222078841855455), (752, 0.03967254870582222), (451, 0.039574903628648524), (446, 0.039531322141028225), (1649, 0.0395069927870415), (1712, 0.03938365138424329), (536, 0.03913868022469034), (1865, 0.03911568256035706), (18, 0.0388166666361485), (1446, 0.03878992622742564), (761, 0.03869164784528574), (545, 0.03867553754306157), (309, 0.03846024232258103), (889, 0.03836998002741839), (1247, 0.03831028552283089), (310, 0.03808293791914681), (1636, 0.0380294053960587), (2060, 0.03798295406271214), (1039, 0.03798027256829797), (2043, 0.037917420978370725), (279, 0.037872120286132), (539, 0.037627210454334245), (249, 0.037500241606665666), (1097, 0.03744883151128845), (1155, 0.03744531502367569), (425, 0.037420420603863164), (328, 0.037158078229400614), (256, 0.03677632672325488), (1297, 0.036680080158131505), (1932, 0.03658375930257886), (466, 0.03639528860607969), (57, 0.03634065225374377), (2028, 0.03620580428645069), (1324, 0.03615465622176766), (1439, 0.03574059321619976), (855, 0.03561526739151624), (646, 0.03544732889369001), (103, 0.03535168799851792), (564, 0.035194525530408374), (1469, 0.035101078362785296), (1052, 0.034948596213313754), (1456, 0.03486308456619963), (733, 0.03484541139951775), (370, 0.03481242084394642), (241, 0.034677751718484556), (1990, 0.034667521327712926), (1542, 0.03433642782387968), (440, 0.03433040179603238), (1177, 0.03422457881330481), (1209, 0.03421842317204847), (2007, 0.03402901643456107), (1782, 0.03392704059958812), (1250, 0.03330302279085316), (1802, 0.03325747735233336), (570, 0.032979732381914595), (402, 0.032929675895477316), (146, 0.03286597573551176), (1005, 0.03275475801739389), (1119, 0.03207020212628135), (56, 0.03195710814769964), (47, 0.03185128275459713), (1986, 0.031805206856797864), (459, 0.031614738434267736), (271, 0.03155999548240986), (864, 0.031555087596431025), (2010, 0.031333960101535656), (732, 0.031308878985698535), (345, 0.031298946847440834), (635, 0.031207312804958982), (128, 0.03116627814171021), (201, 0.03096337018671381), (878, 0.030855902410181834), (1925, 0.030819886880957), (111, 0.030422243553582036), (32, 0.03040396215488317), (158, 0.0303497073887943), (700, 0.030329236723191055), (102, 0.03029658231777581), (1922, 0.030150869193842793), (35, 0.03014890621347981), (1390, 0.03003550197969877), (1445, 0.029979787770594804), (1237, 0.029961617603904936), (127, 0.02988206895594487), (1285, 0.029654753984199304), (183, 0.02964496919045118), (254, 0.029629350085168395), (2075, 0.02957581321548603), (322, 0.02954810388497002), (193, 0.029481330803035867), (83, 0.029477548339856434), (1518, 0.029220162140179272), (393, 0.029191065447377876), (976, 0.029178396160185187), (967, 0.02915950228692797), (668, 0.029108221317427758), (493, 0.028981752867978855), (797, 0.028969645951313967), (965, 0.02892114872181599), (972, 0.028858438728809888), (414, 0.028821201013918996), (1872, 0.02874829298622819), (1794, 0.02874579928377303), (211, 0.028683456944356107), (229, 0.028660906149165645), (1490, 0.028658299442994122), (1434, 0.02865198170338091), (1332, 0.028625374386027688), (1083, 0.028563151231866174), (365, 0.028490011438457127), (587, 0.02842972001160532), (685, 0.02841510134059256), (755, 0.028349577196181006), (108, 0.0283207588973789), (562, 0.02828378610794861), (699, 0.028243981135821817), (600, 0.02824355536357674), (775, 0.02823127963811558), (61, 0.028192591444578977), (260, 0.028162909384595966), (593, 0.028153085634269395), (0, 0.028083927263748323), (1440, 0.028044414871681682), (1790, 0.027962131360358557), (70, 0.02794914636057219), (735, 0.02791117492553144), (495, 0.027895394628092055), (1059, 0.027871005500544138), (1617, 0.027780781665084325), (366, 0.027758730104019105), (1583, 0.027740116084296135), (311, 0.027671050784985093), (96, 0.02763522147765108), (1294, 0.02762955360468601), (713, 0.027626139036097726), (1819, 0.02753457120930322), (168, 0.027497903203077538), (1496, 0.027492984196945652), (149, 0.0274764927529653), (36, 0.02743421238755173), (150, 0.027290237100081105), (1880, 0.02727053295141288), (2077, 0.027269516008222906), (813, 0.027248911488329784), (1596, 0.027247388662551466), (922, 0.02724456086337736), (490, 0.027183228437835813), (1984, 0.02716668368622563), (2024, 0.02716611198548796), (2034, 0.027165503217888364), (212, 0.02699181861417727), (1852, 0.026991521013348785), (377, 0.026953620178748004), (1014, 0.026932247669344916), (59, 0.026926670431003087), (487, 0.02691156390941651), (4, 0.026905538869299635), (1303, 0.026893390750814764), (1034, 0.0268630349842736), (1259, 0.026858067516562403), (1093, 0.02663908071508138), (228, 0.02660327945963335), (123, 0.026563954726083597), (1171, 0.026534574500280912), (1683, 0.026478309577105345), (1687, 0.026453348075688287), (219, 0.026441700055187846), (334, 0.02637305726435089), (1354, 0.02634392730378263), (948, 0.02631743603759061), (125, 0.02628176824419027), (1507, 0.026048944561713677), (1370, 0.026021067527003783), (503, 0.025995119815311364), (920, 0.025978890854518148), (1387, 0.02595555673230706), (1601, 0.025939730259297786), (27, 0.025923643303144454), (456, 0.025908654753356106), (577, 0.025906744389195987), (52, 0.02586004822591776), (701, 0.02580674507519699), (342, 0.025751887872541356), (581, 0.025556890649742255), (1335, 0.02554202568853377), (380, 0.025536382358442616), (2047, 0.025319318030874456), (419, 0.02530263508897328), (1201, 0.025292703249595254), (461, 0.025247195537031846), (1001, 0.025215372534329074), (107, 0.025214594399654365), (799, 0.025195902400590914), (1079, 0.025161295356758987), (931, 0.025053118763635425), (1750, 0.02501104510988277), (200, 0.024925509581207296), (225, 0.02489723349080732), (165, 0.024870365806969108), (1827, 0.024860531728125745), (1383, 0.02482903172948892), (1044, 0.02478635382537003), (67, 0.02477380933066438), (362, 0.024676274131655088), (1058, 0.024638559516339486), (1092, 0.024596173368517694), (1191, 0.024575587784346098), (400, 0.024500159515551838), (1896, 0.024444965910117442), (1644, 0.024434629128306084), (601, 0.024378673128426478), (1002, 0.02429429544916794), (306, 0.024218842525929013), (319, 0.02418590401767931), (1068, 0.024147013602689858), (1302, 0.02410941362550547), (1425, 0.024090757397440595), (1589, 0.02408699879455985), (1232, 0.024073457382273768), (625, 0.023993078649805273), (665, 0.02396884936788599), (305, 0.023966256880727455), (1863, 0.023952333844752823), (1299, 0.023862891183750443), (1974, 0.023860374431168854), (82, 0.023836289808273185), (196, 0.023816476683761592), (1269, 0.023807261752044114), (475, 0.023784295028665338), (386, 0.023629934425765806), (2002, 0.023622765431617357), (1377, 0.023543168838820946), (462, 0.023543066056941012), (974, 0.023540999748647318), (778, 0.023522449739150478), (609, 0.023485354022872617), (1345, 0.023480905424904573), (415, 0.023472406387975424), (949, 0.02341042229762657), (87, 0.02334479367605642), (1701, 0.02333645063024875), (838, 0.023305358327327327), (222, 0.023304794609765013), (300, 0.02330442020845842), (1569, 0.023302505433843653), (51, 0.023289552512481698), (740, 0.023285908366591432), (657, 0.023195212191868927), (233, 0.023192464004047023), (1633, 0.023189534022797526), (476, 0.023189041662989095), (1547, 0.023072086532528787), (1468, 0.023068950807365214), (151, 0.023046564965849052), (1399, 0.023026527844870717), (1336, 0.023015380104960757), (313, 0.022978551262036316), (480, 0.02297853944069718), (1642, 0.022894013091985563), (996, 0.022893471902487018), (266, 0.022886120871387815), (1070, 0.022852612142614387), (1968, 0.02284636685627785), (1184, 0.02278985553839468), (263, 0.022729796282666206), (264, 0.022710713775767333), (904, 0.022681014999373052), (1595, 0.022679466410147772), (97, 0.022677944340564776), (230, 0.022659085346219934), (257, 0.022615149685149695), (777, 0.02260199652820654), (1826, 0.02260102726831493), (335, 0.02258998528378879), (1531, 0.02253352883285189), (1395, 0.022505214171231223), (990, 0.02250508119049312), (939, 0.02249685694008997), (1344, 0.022496378880193707), (902, 0.022490708209939744), (74, 0.02247655299162507), (1198, 0.022421352652819016), (426, 0.02240795652873544), (1328, 0.022402150514177044), (780, 0.022357593631250054), (768, 0.02233476119464351), (410, 0.022315480850745674), (1131, 0.02226143672835835), (2026, 0.022212912587053716), (1296, 0.02220639995485751), (358, 0.022193851722990012), (1159, 0.022119635105331544), (1326, 0.02210070792972242), (93, 0.022086323267908894), (1757, 0.022031439598446112), (505, 0.02201572597592328), (850, 0.02197892869633699), (371, 0.021947350957640662), (470, 0.021930166071115507), (1319, 0.021812376618793927), (510, 0.021792651419944787), (634, 0.02176145743765382), (1363, 0.021716979392299177), (1539, 0.021631108017158247), (224, 0.021476296733327165), (220, 0.021475744802972412), (1534, 0.021458539550386502), (1815, 0.02140156879667158), (1639, 0.021375788374251987), (1491, 0.021365063404232096), (658, 0.021342303100967724), (1465, 0.021331275854811947), (1110, 0.021201681762970884), (1588, 0.02119903011117372), (275, 0.02117254549624519), (774, 0.021110840768704123), (376, 0.021089690503022743), (2084, 0.02100515660781246), (1769, 0.0209664284811315), (1028, 0.020948752057319317), (1625, 0.020882107054837118), (1271, 0.02087295835254119), (1244, 0.02086960555147194), (582, 0.020819515777991703), (223, 0.020676288884788008), (184, 0.020561408332049884), (449, 0.020492686015579197), (612, 0.020482443397889863), (1568, 0.020455033821725522), (1472, 0.020435192737668143), (1217, 0.020419378032530824), (45, 0.020368751971751572), (706, 0.02034568133340431), (854, 0.020299049463831324), (591, 0.020261374804666197), (116, 0.02021696733259591), (1575, 0.020182304184508882), (754, 0.020109199763687777), (542, 0.020056819313178192), (471, 0.02002530129478024), (1488, 0.019970043509921286), (711, 0.019921763375944652), (1270, 0.019842234902448658), (626, 0.01978783522026849), (898, 0.019750538815227724), (1931, 0.019740432823897827), (908, 0.01970106818406711), (900, 0.01957708616674784), (292, 0.019480505431720304), (1765, 0.019470378841783507), (170, 0.01943166767804544), (1535, 0.019360788678778305), (530, 0.019355324788136934), (1506, 0.019337263697644436), (442, 0.019323274749549202), (373, 0.0193055432838792), (1762, 0.01925657499948249), (1959, 0.019177079540851065), (1709, 0.019060730975710566), (389, 0.01894569476470373), (90, 0.01887778680291965), (301, 0.01887180659738892), (1422, 0.01883708584632865), (1936, 0.01879692906628446), (81, 0.018784347247923956), (1850, 0.018781126579384525), (1452, 0.018719774802508162), (1995, 0.018686914075422716), (172, 0.01863331160266632), (1646, 0.01863300610060627), (1053, 0.01861239032049021), (504, 0.018609376248728434), (1337, 0.01857529737383735), (384, 0.018534871889937143), (632, 0.018482363774713233), (1608, 0.01848045321329724), (1902, 0.018471530613303658), (413, 0.01843088846199526), (793, 0.018364420628742918), (1133, 0.018348256899844526), (1773, 0.018307682938768315), (994, 0.018261415102429818), (1735, 0.01822569333481389), (2013, 0.018215573103774797), (1999, 0.01815710082588561), (541, 0.01810771206730208), (1976, 0.018063129555942768), (670, 0.017936321740208615), (1517, 0.017876077987409447), (575, 0.017840296812873455), (1238, 0.017836253482468582), (286, 0.017787910782751888), (1286, 0.017778592033963547), (734, 0.017774492557100334), (578, 0.01771007431755685), (1786, 0.01770812095140823), (360, 0.01765448502470243), (1412, 0.01764724719161053), (639, 0.017632550982110706), (771, 0.01754147578313899), (756, 0.017535314426498107), (718, 0.017515589979217174), (422, 0.01748614399333428), (1419, 0.017461562631516936), (473, 0.017455169898192957), (432, 0.017438723370854992), (1938, 0.017425206943088425), (1436, 0.01739038286403603), (450, 0.017318532576149903), (1742, 0.017311762275757224), (1222, 0.017303592521590156), (1283, 0.0172899701551789), (1318, 0.017276725454639957), (1734, 0.01727452335276071), (1275, 0.017265578724037244), (1846, 0.017223664047188978), (350, 0.017221798334396205), (1473, 0.017219413808447475), (1352, 0.01719352681921055), (560, 0.017188620658053752), (1606, 0.017170030291991982), (2087, 0.017167507177674245), (1772, 0.01713482100948021), (716, 0.017125012352382615), (1157, 0.016998003239340455), (53, 0.01696543198658901), (1914, 0.01694183058272171), (1611, 0.016931703355914603), (1919, 0.0169287115999478), (2076, 0.016912899690986884), (1807, 0.016879292397818227), (613, 0.016872060663917277), (770, 0.016774086579310787), (1918, 0.016720325271134713), (1600, 0.016708195931718933), (372, 0.016701427299923337), (1379, 0.01665431852098296), (988, 0.01664640456052656), (1415, 0.016588077602591605), (363, 0.016565467778362382), (239, 0.016539342672667254), (1841, 0.01653369621629107), (880, 0.016525649185458433), (856, 0.016482388860798867), (2015, 0.016476235891607426), (1997, 0.016446498938671124), (1554, 0.01644645424284113), (443, 0.01642928474086479), (1153, 0.01639122308657137), (862, 0.016377811712840043), (375, 0.016317819783687428), (1725, 0.016228837682509295), (1008, 0.016187301854232783), (167, 0.016184985123178036), (1771, 0.01617845094134574), (814, 0.016156272927371425), (1607, 0.016098999274414192), (1467, 0.01609307586471918), (333, 0.016037969865183424), (549, 0.01594784607024686), (615, 0.01593133220195929), (644, 0.0158205877860077), (1643, 0.015812612349383165), (454, 0.01569112479454339), (525, 0.015681000423131836), (1530, 0.015623079037235863), (2036, 0.015585063081695279), (1637, 0.01533505567603554), (1808, 0.015321650352915422), (187, 0.015123904312454101), (895, 0.015083808693497644), (164, 0.015049098344699752), (1085, 0.015004365442294016), (1111, 0.015002547543593378), (738, 0.014928144004447612), (2071, 0.014787908748133422), (723, 0.014776779183908476), (760, 0.014568996673132405), (1341, 0.014556900274823776), (1173, 0.014511445140150325), (2037, 0.014423714584537048), (669, 0.014382227397020813), (1985, 0.014359255166055632), (1577, 0.014260894970764758), (1774, 0.014253609235587349), (764, 0.014205728424186406), (2042, 0.014133164695571514), (60, 0.014092744483958914), (1697, 0.01409097284277492), (1847, 0.01402349678760786), (1969, 0.014019703359925535), (757, 0.013892937188639045), (502, 0.01383910562765973), (999, 0.01376624266835269), (1525, 0.013723023060855533), (1529, 0.013597727977105076), (1912, 0.013595989065577631), (729, 0.013487651736705148), (673, 0.013431713495710621), (1193, 0.013415082768048484), (284, 0.013349392980817613), (1305, 0.013338709040776059), (892, 0.01332984294541904), (1504, 0.013312451893136111), (71, 0.013292536733652539), (1823, 0.01324423370291679), (1739, 0.013233753880496215), (2049, 0.013226569339176417), (1785, 0.013168215926497006), (1050, 0.013151215578979582), (1721, 0.01313143335967083), (688, 0.0131251660443513), (1975, 0.013123631538487064), (811, 0.013112501506434667), (1300, 0.013091523209743315), (1090, 0.013065106916355752), (2058, 0.012975867926542105), (1684, 0.012927205010919002), (1915, 0.012798342526169043), (1798, 0.012777311987665498), (1845, 0.01277009968986382), (660, 0.012754834704870495), (1057, 0.012706338641434497), (1667, 0.012692605406232621), (540, 0.012604078195684253), (1105, 0.012538674896264033), (652, 0.012503629911574232), (1728, 0.012496243347294144), (1828, 0.012413873582363677), (1369, 0.012347589325431032), (1657, 0.012301795818226532), (340, 0.012295381152270218), (825, 0.012259368040065038), (1992, 0.012241368833086987), (703, 0.0122265493609663), (479, 0.012211899828190676), (1738, 0.012201053286851398), (1474, 0.012127721738820414), (1943, 0.012100480608473), (92, 0.011853709373656452), (1243, 0.0117904490731991), (1338, 0.01174495764614623), (715, 0.011650145176763898), (346, 0.011628451429456482), (678, 0.011571241082278926), (518, 0.011501965649723452), (1331, 0.011418103406855435), (773, 0.011350716438946775), (467, 0.01133458415128644), (1322, 0.011329611717621051), (809, 0.011292317543828366), (602, 0.011264327717650922), (985, 0.011158159600319385), (213, 0.011114243410315073), (1551, 0.011099014135598552), (1067, 0.011067506684689955), (786, 0.011018633155861273), (274, 0.010910369777344272), (1764, 0.010909477276399137), (851, 0.010894426709861078), (1546, 0.010890942836130096), (1777, 0.010864193783142679), (784, 0.010803624381261031), (339, 0.010798582840279094), (1273, 0.01075833411823763), (984, 0.010740981810982143), (731, 0.010728477491512949), (583, 0.01072066501693026), (190, 0.010703926632458474), (215, 0.010696739554663354), (1256, 0.01069524364172164), (2, 0.010680531221142675), (1251, 0.010662931240922572), (157, 0.010648445633907466), (1012, 0.010607177976856591), (1953, 0.01060559470563566), (29, 0.010557000915872817), (347, 0.010524818694499949), (12, 0.010496695441823543), (5, 0.010490415668002927), (55, 0.010483400157164105), (48, 0.010471536968048742), (2004, 0.010457171620666396), (1628, 0.01045292251114895), (834, 0.01043493945813738), (596, 0.010422990574339094), (1481, 0.010413088320862756), (781, 0.010408521919991835), (290, 0.010404092009465016), (1663, 0.010377711001688786), (1143, 0.01034753383803022), (523, 0.010340521588308296), (1073, 0.01032364396586814), (104, 0.010307254195628765), (1320, 0.010294083988093158), (160, 0.010286518462136716), (1172, 0.010272535046787299), (645, 0.010206565770887181), (62, 0.010206125566835532), (767, 0.010201917464316538), (1558, 0.010195634765261365), (1586, 0.010132494133931757), (1076, 0.010131642375131297), (1089, 0.010105563107354292), (112, 0.01007346623001924), (240, 0.010068976385305657), (594, 0.01006645340880909), (544, 0.010056690139209588), (277, 0.009999356581565007), (1610, 0.009990646881025338), (1380, 0.009973077051134406), (424, 0.009956841452534324), (643, 0.009935708049497819), (17, 0.00990551217026015), (478, 0.009894645250261253), (488, 0.009884161796455595), (808, 0.009852261735123165), (604, 0.009851546020299768), (1615, 0.009851345725894998), (933, 0.0098413392443169), (50, 0.009841141984971052), (1234, 0.009839841736283524), (486, 0.009803572330840886), (1836, 0.009800714999566393), (208, 0.009792211257191638), (75, 0.009790203194321405), (88, 0.009770186479273132), (1139, 0.00976650477050894), (1239, 0.009747678756529859), (243, 0.009741974025703856), (1279, 0.00973912591301859), (568, 0.009731028386420478), (744, 0.009718536649749343), (1939, 0.0097167201905006), (152, 0.009700820226837593), (1266, 0.00969847833766712), (1027, 0.009687672166184382), (1084, 0.009680992910359029), (69, 0.009679448052665348), (888, 0.009677742397756914), (206, 0.009658421869616103), (640, 0.009641978420802019), (121, 0.009641524911562206), (687, 0.009633885463701313), (472, 0.009617485335010549), (832, 0.009611056113157131), (304, 0.009574938916322676), (1713, 0.009557322245514695), (237, 0.00954127581560714), (1851, 0.009515708341845437), (1447, 0.009502286234686647), (134, 0.009482412937243336), (1100, 0.009476454840069266), (153, 0.00944581668556187), (1973, 0.009407567842175155), (383, 0.009402583573154998), (1825, 0.009397544949456407), (1103, 0.009363773407659409), (676, 0.0093567735293533), (969, 0.009345792125857892), (216, 0.009335960413387266), (139, 0.009332195716387381), (1854, 0.009304496420926699), (836, 0.00927788114301837), (531, 0.009277668080382181), (147, 0.009242151687698168), (2069, 0.009232937510184513), (1175, 0.009213515923592389), (403, 0.009208388732611959), (610, 0.009193963210731888), (595, 0.009193524271681571), (1361, 0.009159649434996038), (13, 0.009157156990512866), (535, 0.00915621764488754), (469, 0.009146458783989935), (2085, 0.009127918196255799), (1645, 0.009097305272687596), (1124, 0.00907579925589037), (1106, 0.009065447277296058), (24, 0.009053067741905684), (1858, 0.009046998255744681), (1290, 0.009028903988068458), (259, 0.008988590577051238), (989, 0.008980008689566363), (1743, 0.008978048713099977), (1006, 0.008976735268208968), (1343, 0.008929024181344182), (1438, 0.008923054047262983), (683, 0.008919120629682961), (11, 0.008912303907761487), (491, 0.008902799886132032), (695, 0.008893925596020896), (691, 0.008890963805286652), (312, 0.008882878553983963), (950, 0.008862893157099525), (186, 0.00885714329775257), (315, 0.00883733203158153), (1672, 0.008837302483336099), (1686, 0.008827921119129178), (1202, 0.00878402944925501), (746, 0.00876498237488739), (1199, 0.008716225322854368), (859, 0.008655957420221284), (379, 0.00865114433685304), (1892, 0.008646972006872757), (245, 0.008642794037685463), (21, 0.008593537112203852), (1907, 0.008582059079285756), (1136, 0.008540187669782429), (543, 0.008498862878719059), (831, 0.008492579693618716), (325, 0.008482504029099931), (267, 0.008392081055278536), (369, 0.008339883706004126), (1298, 0.008311122516491092), (1082, 0.008279128439563185), (84, 0.008254512479197576), (513, 0.008203276505470201), (2057, 0.008156522161766329), (794, 0.008106698614007035), (1077, 0.007934115199539163), (1877, 0.007884977400569579), (1248, 0.007854488589913283), (1404, 0.0077681918474053376), (411, 0.007665084965085486), (769, 0.00760501136721013), (627, 0.00750990927594893), (1524, 0.0067593950865134445), (1658, 0.006707978888495658), (1306, 0.006692044926942507), (1580, 0.006639989728324921), (1382, 0.006434285256516163), (842, 0.0064179147256746795), (1099, 0.006320059206953985), (791, 0.006318603146732533), (80, 0.006280845057788974), (294, 0.006278304685323), (189, 0.006249652616041889), (1695, 0.00621146956777243), (142, 0.006174680980285195), (1509, 0.0061620506899780466), (698, 0.006117244536196663), (1267, 0.006116000317006944), (2001, 0.006080607718265458), (848, 0.00607596845783867), (40, 0.006062275845393513), (841, 0.0060501521554855555), (221, 0.006031679575025939), (565, 0.006016798691684914), (1962, 0.006014634381627419), (37, 0.005996204759672179), (1958, 0.005987250499822446), (106, 0.005954899796420213), (181, 0.005954146312402416), (1257, 0.005948436469126028), (748, 0.005933691907129925), (8, 0.0059309401848671225), (858, 0.005926868575703177), (143, 0.0059182022452049605), (816, 0.0059108460207482685), (899, 0.005888238991459583), (569, 0.00588582314988924), (113, 0.005860944102914163), (179, 0.005850570307221387), (1602, 0.005844920746907666), (942, 0.005839096745859901), (276, 0.005832507052388984), (197, 0.005813952494128361), (785, 0.005792385095441601), (1682, 0.005745562267996133), (1253, 0.005735215030274187), (707, 0.005726128618787958), (1074, 0.005722994739713963), (1078, 0.005713752431945121), (458, 0.00571311547334121), (1426, 0.005705314532064316), (704, 0.005702083903172833), (234, 0.0056879822379346), (1402, 0.00567668780569663), (144, 0.005641442693607626), (750, 0.005641114766838122), (302, 0.0056387275028523115), (935, 0.005634466776189859), (1460, 0.005612082685620916), (1287, 0.005563400794568768), (348, 0.005544195516641099), (1587, 0.005542723226056825), (191, 0.005542558396457439), (202, 0.005520388793397979), (1797, 0.0055055959919585685), (141, 0.005490490834479615), (572, 0.0054800972818967635), (978, 0.005471730238020448), (15, 0.005468555284454623), (1375, 0.005463225791334053), (359, 0.005454956634331943), (1937, 0.005453466209894247), (162, 0.005441065039932981), (341, 0.0054395365722595315), (551, 0.005412369118725475), (1080, 0.005408356837441308), (1597, 0.00540774024025045), (66, 0.005406555194627246), (289, 0.005405736938729464), (381, 0.005403806166035184), (175, 0.005401697559742066), (812, 0.005400324979133011), (1183, 0.0053924242934747365), (195, 0.0053918444584620875), (132, 0.005376728722043016), (349, 0.005368390553789584), (2003, 0.0053425319352084924), (63, 0.005308434237340099), (171, 0.0053023912724324065), (1503, 0.005291105340306889), (352, 0.005290129164133819), (22, 0.005267944937978601), (1550, 0.005264837350115752), (1134, 0.005252345077768488), (1072, 0.00524920855282759), (671, 0.0052450512618387995), (1263, 0.00523784940747945), (1062, 0.005233797407139983), (1822, 0.005232412633353174), (117, 0.005220268217010047), (235, 0.005215576007183873), (1564, 0.005213779800217659), (1562, 0.0051943621025237275), (114, 0.005175326722991586), (218, 0.0051664505649075395), (2086, 0.005161094400437823), (1357, 0.005160396233463478), (1754, 0.005156872485678929), (498, 0.005138427995416655), (874, 0.005136891746286264), (721, 0.005134110248260629), (124, 0.005117825091081979), (2055, 0.00510462992006296), (176, 0.005071657306648172), (494, 0.005058965148971078), (130, 0.005045869090189252), (566, 0.005044040070389344), (534, 0.005041830011183846), (336, 0.0050345622099665244), (1528, 0.005034509218852899), (58, 0.005034348240058755), (261, 0.005030395633186105), (3, 0.005018738220949115), (1675, 0.0050095979137993), (1278, 0.005008963645066689), (485, 0.005006172747391676), (592, 0.005000158441813348), (1479, 0.004997912726987475), (374, 0.0049903097774948784), (484, 0.004987964259065864), (617, 0.004973675225982051), (399, 0.004971545812744122), (1727, 0.004958601983648712), (23, 0.004956071852402306), (1882, 0.0049516782007148884), (2029, 0.004940027917398427), (961, 0.004937760070692736), (1114, 0.004934477610137469), (437, 0.004934378921868901), (1987, 0.00493085308985876), (866, 0.00492843301574708), (447, 0.004907021931599037), (433, 0.0048668577049397616), (1897, 0.004861150029186627), (1433, 0.004853043680304061), (89, 0.00485206757788582), (368, 0.004832285714815539), (1020, 0.004827594482834073), (86, 0.004816250633177082), (901, 0.004815792911532625), (1417, 0.004798383778640461), (1933, 0.004789783423299909), (934, 0.004772983516734852), (1920, 0.004772014890938191), (730, 0.004771232189835889), (952, 0.004764096673821994), (428, 0.004756226266405881), (1289, 0.004752721094380363), (44, 0.004744886324870132), (1860, 0.004743219171997253), (145, 0.004743132292790527), (512, 0.004717225763915129), (119, 0.00471678908148803), (1214, 0.004711125280536838), (1733, 0.004710045067824176), (573, 0.004706123047076908), (1342, 0.004703565585481996), (180, 0.004699905806466079), (248, 0.004691205544676467), (1505, 0.00468382762781615), (655, 0.004681934193035563), (1856, 0.004665879802298728), (1894, 0.004665270573005256), (1448, 0.004614735676038604), (297, 0.0045897357966825465), (1761, 0.004589601153742858), (1118, 0.0045845986621303415), (453, 0.004583417488591045), (1954, 0.004582715253054953), (188, 0.004582316378792059), (1680, 0.004582207413489717), (919, 0.00457858158669973), (1142, 0.004578353232632271), (1178, 0.00457775172508456), (1144, 0.004567441794339832), (299, 0.004563235612692065), (1212, 0.004563173710683473), (807, 0.004561849350329037), (1245, 0.004551964918492158), (1868, 0.004544916201063616), (140, 0.004541765452717343), (65, 0.004541198690600956), (320, 0.0045371767993339475), (355, 0.004534897046186877), (622, 0.004516418172914232), (1878, 0.004514915209945732), (296, 0.004514216597057282), (1991, 0.004513058032525932), (863, 0.004511480075355343), (804, 0.004504705194539678), (303, 0.004502111295338813), (818, 0.004501667573205466), (209, 0.004488590375067656), (828, 0.004486748923175147), (762, 0.004486378971961881), (993, 0.004481370824213835), (702, 0.004474831251161411), (1035, 0.00447117957568109), (1844, 0.004470724393970604), (547, 0.004469100610320303), (1254, 0.0044669071013238365), (1284, 0.0044664627991992546), (394, 0.004465816408064646), (553, 0.004465144964225434), (747, 0.004448232250345797), (659, 0.004446117385837619), (252, 0.004443789457155713), (2064, 0.004439532332167259), (1699, 0.004439125749440663), (408, 0.004438993258207164), (982, 0.004435269339439788), (1741, 0.004430917776472568), (1792, 0.004430532460499294), (1726, 0.004430301886182837), (204, 0.004428599748940786), (1514, 0.004421294243678483), (823, 0.00441750461988212), (597, 0.004404281362344238), (979, 0.004401355188464621), (387, 0.004398442773723709), (1515, 0.0043950762933811565), (737, 0.004391179738928106), (1321, 0.004384110702137654), (1510, 0.004381545007277198), (236, 0.00437594161148028), (1470, 0.004371567630241698), (589, 0.004366303213221579), (753, 0.004362851755971579), (981, 0.004358846690395016), (1043, 0.004352556139370094), (227, 0.004351305067358469), (1158, 0.004349638596277338), (148, 0.0043397095599904114), (590, 0.004333473203313499), (653, 0.00433029461282712), (1432, 0.00432780726631641), (210, 0.004320073065227055), (455, 0.004319729608281271), (1702, 0.0043093825895073575), (844, 0.004306267087679624), (537, 0.004301955606288505), (1500, 0.004291463950122766), (1910, 0.004287172712018961), (468, 0.004285678583559544), (1783, 0.004281359374639606), (1853, 0.004279194759201904), (1339, 0.004270959862673065), (724, 0.004264670320671384), (790, 0.004261070301452035), (1457, 0.004247932959772947), (514, 0.004243906650451541), (1486, 0.004239408714555622), (99, 0.0042341007899041935), (273, 0.004233908283357341), (992, 0.0042337589879983635), (1000, 0.004220465955141073), (951, 0.004216152714484685), (821, 0.004201037017672523), (115, 0.004198640713563849), (295, 0.004194117352314481), (580, 0.004187106395260486), (893, 0.004183302769312775), (217, 0.004183125330102688), (500, 0.004179383394767444), (392, 0.004176405145939796), (677, 0.004167975452090987), (2050, 0.004164218963868029), (1195, 0.004164185085523395), (694, 0.004154912461204737), (246, 0.004152978620128807), (1747, 0.004147363921811379), (1334, 0.004131180080718739), (1188, 0.00412185389068586), (1096, 0.004113190130922743), (1977, 0.004107213927265918), (1592, 0.004097679819951966), (1635, 0.004097643358254992), (1137, 0.004096623909520819), (1347, 0.004096354088671242), (1661, 0.0040942190106596065), (109, 0.004093697725285407), (159, 0.004084201501903843), (285, 0.0040746950500313885), (739, 0.0040701051895020365), (1443, 0.004069918913379923), (741, 0.0040686709841728135), (937, 0.004049895570077389), (571, 0.0040400268040966785), (1669, 0.004037251300187282), (1049, 0.00403363946037462), (1908, 0.004027158732862346), (1450, 0.00402107402608006), (745, 0.004015110170418933), (2074, 0.00401461231261465), (955, 0.004012899786733786), (621, 0.004010787469855838), (708, 0.004004250961056442), (1146, 0.003997645987798995), (611, 0.0039889459953804845), (930, 0.0039865348631176615), (1101, 0.003983933183629841), (1431, 0.003977560237435992), (1671, 0.003966139185722408), (1653, 0.003958969969560919), (1359, 0.003954920066056882), (529, 0.003948552035567864), (1930, 0.003947166134740151), (1616, 0.00394497963136271), (1848, 0.003941793432581863), (624, 0.003941472525853493), (2054, 0.003936749392201777), (1453, 0.003931807948837328), (1104, 0.003929528149008538), (1513, 0.003916630287038904), (1950, 0.003902700487035618), (1830, 0.0038991157166819207), (561, 0.003898599536988769), (963, 0.003896932189402802), (1056, 0.0038942678442652197), (282, 0.0038664188618642453), (1437, 0.0038650161580467447), (973, 0.0038582318289344044), (914, 0.0038554518753198463), (736, 0.003844164319703711), (1538, 0.0038392590211656307), (1707, 0.0038392025381274696), (308, 0.0038350017549903252), (894, 0.0038348873962730213), (1310, 0.0038336060028225246), (1174, 0.0038275309459761243), (1463, 0.0038265847836899494), (959, 0.0038230150336960025), (1281, 0.0038114028543283197), (941, 0.0038033874492553947), (1955, 0.0037955327166848676), (586, 0.003793321847078488), (830, 0.003784833855292577), (1095, 0.0037809309881752266), (1140, 0.003741458977687954), (244, 0.0037310555739313335), (556, 0.0037208443428431892), (1626, 0.00372040751748286), (2023, 0.0037156133673983513), (787, 0.0037060559391265332), (1138, 0.003705199633142965), (253, 0.0036848221157692452), (1003, 0.003671608729601852), (156, 0.00363581019259813), (344, 0.003605424401221419), (1109, 0.003599197607340857), (629, 0.0035905037215064116), (1795, 0.0035792018719217784), (1064, 0.003490560050372742), (405, 0.0034274983631363094), (1837, 0.0034036573332182985), (528, 0.0032737130703097005), (579, 0.0032717217280865225), (2016, 0.0032590778107474128), (932, 0.0032159985584304944), (1817, 0.0031859724075719927), (1304, 0.0030146077940677446), (1018, 0.0030080594109048917), (337, 0.0029927131704599037), (25, 0.0), (34, 0.0), (42, 0.0), (49, 0.0), (73, 0.0), (77, 0.0), (100, 0.0), (105, 0.0), (118, 0.0), (120, 0.0), (133, 0.0), (135, 0.0), (137, 0.0), (154, 0.0), (155, 0.0), (161, 0.0), (173, 0.0), (177, 0.0), (192, 0.0), (194, 0.0), (214, 0.0), (226, 0.0), (231, 0.0), (247, 0.0), (250, 0.0), (251, 0.0), (255, 0.0), (258, 0.0), (265, 0.0), (268, 0.0), (269, 0.0), (272, 0.0), (280, 0.0), (281, 0.0), (283, 0.0), (287, 0.0), (288, 0.0), (293, 0.0), (298, 0.0), (314, 0.0), (317, 0.0), (321, 0.0), (323, 0.0), (326, 0.0), (327, 0.0), (338, 0.0), (343, 0.0), (351, 0.0), (354, 0.0), (357, 0.0), (364, 0.0), (367, 0.0), (378, 0.0), (385, 0.0), (388, 0.0), (390, 0.0), (391, 0.0), (395, 0.0), (397, 0.0), (398, 0.0), (404, 0.0), (406, 0.0), (407, 0.0), (409, 0.0), (416, 0.0), (417, 0.0), (418, 0.0), (423, 0.0), (427, 0.0), (429, 0.0), (430, 0.0), (431, 0.0), (434, 0.0), (435, 0.0), (438, 0.0), (439, 0.0), (444, 0.0), (445, 0.0), (448, 0.0), (452, 0.0), (463, 0.0), (465, 0.0), (474, 0.0), (477, 0.0), (481, 0.0), (482, 0.0), (489, 0.0), (492, 0.0), (496, 0.0), (497, 0.0), (499, 0.0), (506, 0.0), (509, 0.0), (515, 0.0), (516, 0.0), (517, 0.0), (519, 0.0), (520, 0.0), (521, 0.0), (522, 0.0), (524, 0.0), (526, 0.0), (527, 0.0), (532, 0.0), (533, 0.0), (538, 0.0), (548, 0.0), (550, 0.0), (552, 0.0), (554, 0.0), (555, 0.0), (557, 0.0), (558, 0.0), (559, 0.0), (563, 0.0), (567, 0.0), (576, 0.0), (584, 0.0), (585, 0.0), (588, 0.0), (598, 0.0), (603, 0.0), (605, 0.0), (606, 0.0), (608, 0.0), (614, 0.0), (616, 0.0), (619, 0.0), (620, 0.0), (623, 0.0), (628, 0.0), (630, 0.0), (633, 0.0), (636, 0.0), (637, 0.0), (638, 0.0), (642, 0.0), (647, 0.0), (648, 0.0), (649, 0.0), (650, 0.0), (651, 0.0), (656, 0.0), (662, 0.0), (663, 0.0), (666, 0.0), (667, 0.0), (672, 0.0), (679, 0.0), (681, 0.0), (682, 0.0), (684, 0.0), (686, 0.0), (689, 0.0), (690, 0.0), (692, 0.0), (693, 0.0), (696, 0.0), (697, 0.0), (709, 0.0), (710, 0.0), (712, 0.0), (714, 0.0), (717, 0.0), (719, 0.0), (722, 0.0), (727, 0.0), (742, 0.0), (743, 0.0), (749, 0.0), (751, 0.0), (758, 0.0), (759, 0.0), (765, 0.0), (766, 0.0), (772, 0.0), (776, 0.0), (779, 0.0), (792, 0.0), (795, 0.0), (796, 0.0), (798, 0.0), (801, 0.0), (802, 0.0), (803, 0.0), (806, 0.0), (810, 0.0), (815, 0.0), (817, 0.0), (819, 0.0), (820, 0.0), (822, 0.0), (824, 0.0), (826, 0.0), (827, 0.0), (829, 0.0), (835, 0.0), (837, 0.0), (839, 0.0), (843, 0.0), (846, 0.0), (847, 0.0), (849, 0.0), (852, 0.0), (853, 0.0), (857, 0.0), (860, 0.0), (861, 0.0), (865, 0.0), (867, 0.0), (868, 0.0), (869, 0.0), (871, 0.0), (872, 0.0), (875, 0.0), (876, 0.0), (877, 0.0), (879, 0.0), (881, 0.0), (883, 0.0), (884, 0.0), (886, 0.0), (887, 0.0), (890, 0.0), (891, 0.0), (896, 0.0), (897, 0.0), (903, 0.0), (905, 0.0), (906, 0.0), (907, 0.0), (909, 0.0), (910, 0.0), (912, 0.0), (913, 0.0), (915, 0.0), (916, 0.0), (917, 0.0), (918, 0.0), (921, 0.0), (923, 0.0), (924, 0.0), (925, 0.0), (926, 0.0), (927, 0.0), (928, 0.0), (936, 0.0), (938, 0.0), (943, 0.0), (944, 0.0), (946, 0.0), (947, 0.0), (957, 0.0), (958, 0.0), (962, 0.0), (964, 0.0), (966, 0.0), (968, 0.0), (970, 0.0), (971, 0.0), (975, 0.0), (980, 0.0), (983, 0.0), (986, 0.0), (987, 0.0), (991, 0.0), (995, 0.0), (997, 0.0), (998, 0.0), (1004, 0.0), (1007, 0.0), (1009, 0.0), (1010, 0.0), (1011, 0.0), (1013, 0.0), (1017, 0.0), (1019, 0.0), (1021, 0.0), (1022, 0.0), (1023, 0.0), (1025, 0.0), (1026, 0.0), (1030, 0.0), (1031, 0.0), (1032, 0.0), (1033, 0.0), (1036, 0.0), (1037, 0.0), (1038, 0.0), (1040, 0.0), (1042, 0.0), (1045, 0.0), (1046, 0.0), (1047, 0.0), (1048, 0.0), (1051, 0.0), (1054, 0.0), (1060, 0.0), (1061, 0.0), (1063, 0.0), (1065, 0.0), (1066, 0.0), (1069, 0.0), (1071, 0.0), (1075, 0.0), (1081, 0.0), (1087, 0.0), (1088, 0.0), (1091, 0.0), (1094, 0.0), (1098, 0.0), (1102, 0.0), (1107, 0.0), (1108, 0.0), (1112, 0.0), (1113, 0.0), (1115, 0.0), (1116, 0.0), (1117, 0.0), (1120, 0.0), (1121, 0.0), (1122, 0.0), (1123, 0.0), (1125, 0.0), (1126, 0.0), (1127, 0.0), (1129, 0.0), (1130, 0.0), (1132, 0.0), (1141, 0.0), (1145, 0.0), (1147, 0.0), (1148, 0.0), (1149, 0.0), (1150, 0.0), (1151, 0.0), (1154, 0.0), (1156, 0.0), (1160, 0.0), (1161, 0.0), (1162, 0.0), (1163, 0.0), (1164, 0.0), (1166, 0.0), (1167, 0.0), (1168, 0.0), (1169, 0.0), (1176, 0.0), (1179, 0.0), (1181, 0.0), (1182, 0.0), (1185, 0.0), (1186, 0.0), (1187, 0.0), (1189, 0.0), (1190, 0.0), (1194, 0.0), (1196, 0.0), (1197, 0.0), (1203, 0.0), (1204, 0.0), (1205, 0.0), (1206, 0.0), (1207, 0.0), (1208, 0.0), (1211, 0.0), (1215, 0.0), (1216, 0.0), (1218, 0.0), (1219, 0.0), (1220, 0.0), (1221, 0.0), (1223, 0.0), (1224, 0.0), (1225, 0.0), (1226, 0.0), (1227, 0.0), (1228, 0.0), (1229, 0.0), (1231, 0.0), (1235, 0.0), (1236, 0.0), (1240, 0.0), (1241, 0.0), (1242, 0.0), (1246, 0.0), (1252, 0.0), (1255, 0.0), (1258, 0.0), (1260, 0.0), (1261, 0.0), (1262, 0.0), (1264, 0.0), (1265, 0.0), (1268, 0.0), (1276, 0.0), (1280, 0.0), (1292, 0.0), (1293, 0.0), (1295, 0.0), (1301, 0.0), (1307, 0.0), (1308, 0.0), (1309, 0.0), (1312, 0.0), (1313, 0.0), (1314, 0.0), (1315, 0.0), (1316, 0.0), (1323, 0.0), (1325, 0.0), (1327, 0.0), (1329, 0.0), (1330, 0.0), (1333, 0.0), (1340, 0.0), (1346, 0.0), (1348, 0.0), (1349, 0.0), (1350, 0.0), (1351, 0.0), (1353, 0.0), (1355, 0.0), (1356, 0.0), (1360, 0.0), (1362, 0.0), (1364, 0.0), (1366, 0.0), (1371, 0.0), (1372, 0.0), (1373, 0.0), (1374, 0.0), (1376, 0.0), (1378, 0.0), (1381, 0.0), (1384, 0.0), (1385, 0.0), (1386, 0.0), (1388, 0.0), (1389, 0.0), (1391, 0.0), (1393, 0.0), (1394, 0.0), (1397, 0.0), (1400, 0.0), (1401, 0.0), (1403, 0.0), (1405, 0.0), (1407, 0.0), (1408, 0.0), (1409, 0.0), (1410, 0.0), (1411, 0.0), (1413, 0.0), (1414, 0.0), (1416, 0.0), (1418, 0.0), (1420, 0.0), (1421, 0.0), (1423, 0.0), (1424, 0.0), (1427, 0.0), (1429, 0.0), (1430, 0.0), (1435, 0.0), (1441, 0.0), (1442, 0.0), (1444, 0.0), (1449, 0.0), (1454, 0.0), (1455, 0.0), (1458, 0.0), (1461, 0.0), (1462, 0.0), (1464, 0.0), (1466, 0.0), (1471, 0.0), (1475, 0.0), (1476, 0.0), (1477, 0.0), (1478, 0.0), (1483, 0.0), (1485, 0.0), (1487, 0.0), (1489, 0.0), (1492, 0.0), (1493, 0.0), (1497, 0.0), (1498, 0.0), (1499, 0.0), (1501, 0.0), (1508, 0.0), (1511, 0.0), (1512, 0.0), (1516, 0.0), (1519, 0.0), (1520, 0.0), (1521, 0.0), (1522, 0.0), (1523, 0.0), (1526, 0.0), (1527, 0.0), (1532, 0.0), (1533, 0.0), (1536, 0.0), (1537, 0.0), (1540, 0.0), (1541, 0.0), (1543, 0.0), (1544, 0.0), (1545, 0.0), (1548, 0.0), (1549, 0.0), (1552, 0.0), (1555, 0.0), (1556, 0.0), (1557, 0.0), (1559, 0.0), (1560, 0.0), (1561, 0.0), (1563, 0.0), (1565, 0.0), (1566, 0.0), (1567, 0.0), (1570, 0.0), (1571, 0.0), (1572, 0.0), (1574, 0.0), (1576, 0.0), (1578, 0.0), (1579, 0.0), (1581, 0.0), (1582, 0.0), (1584, 0.0), (1585, 0.0), (1590, 0.0), (1591, 0.0), (1593, 0.0), (1594, 0.0), (1598, 0.0), (1599, 0.0), (1603, 0.0), (1605, 0.0), (1609, 0.0), (1612, 0.0), (1613, 0.0), (1614, 0.0), (1618, 0.0), (1619, 0.0), (1620, 0.0), (1621, 0.0), (1622, 0.0), (1623, 0.0), (1624, 0.0), (1627, 0.0), (1629, 0.0), (1630, 0.0), (1631, 0.0), (1632, 0.0), (1634, 0.0), (1638, 0.0), (1640, 0.0), (1647, 0.0), (1648, 0.0), (1655, 0.0), (1656, 0.0), (1659, 0.0), (1660, 0.0), (1662, 0.0), (1665, 0.0), (1666, 0.0), (1668, 0.0), (1673, 0.0), (1674, 0.0), (1676, 0.0), (1677, 0.0), (1678, 0.0), (1679, 0.0), (1681, 0.0), (1685, 0.0), (1688, 0.0), (1689, 0.0), (1690, 0.0), (1691, 0.0), (1692, 0.0), (1693, 0.0), (1694, 0.0), (1698, 0.0), (1700, 0.0), (1704, 0.0), (1705, 0.0), (1706, 0.0), (1708, 0.0), (1711, 0.0), (1714, 0.0), (1716, 0.0), (1717, 0.0), (1718, 0.0), (1719, 0.0), (1722, 0.0), (1723, 0.0), (1724, 0.0), (1729, 0.0), (1730, 0.0), (1731, 0.0), (1732, 0.0), (1736, 0.0), (1737, 0.0), (1744, 0.0), (1745, 0.0), (1746, 0.0), (1748, 0.0), (1749, 0.0), (1751, 0.0), (1752, 0.0), (1755, 0.0), (1756, 0.0), (1758, 0.0), (1759, 0.0), (1760, 0.0), (1763, 0.0), (1766, 0.0), (1767, 0.0), (1768, 0.0), (1770, 0.0), (1775, 0.0), (1776, 0.0), (1778, 0.0), (1779, 0.0), (1781, 0.0), (1784, 0.0), (1787, 0.0), (1788, 0.0), (1789, 0.0), (1791, 0.0), (1793, 0.0), (1796, 0.0), (1799, 0.0), (1800, 0.0), (1801, 0.0), (1803, 0.0), (1804, 0.0), (1805, 0.0), (1806, 0.0), (1809, 0.0), (1810, 0.0), (1811, 0.0), (1812, 0.0), (1813, 0.0), (1814, 0.0), (1816, 0.0), (1818, 0.0), (1820, 0.0), (1824, 0.0), (1829, 0.0), (1831, 0.0), (1832, 0.0), (1833, 0.0), (1834, 0.0), (1835, 0.0), (1838, 0.0), (1839, 0.0), (1840, 0.0), (1842, 0.0), (1843, 0.0), (1849, 0.0), (1855, 0.0), (1857, 0.0), (1859, 0.0), (1861, 0.0), (1862, 0.0), (1866, 0.0), (1867, 0.0), (1869, 0.0), (1870, 0.0), (1871, 0.0), (1873, 0.0), (1875, 0.0), (1876, 0.0), (1879, 0.0), (1881, 0.0), (1883, 0.0), (1884, 0.0), (1885, 0.0), (1886, 0.0), (1887, 0.0), (1888, 0.0), (1889, 0.0), (1890, 0.0), (1891, 0.0), (1893, 0.0), (1895, 0.0), (1898, 0.0), (1900, 0.0), (1901, 0.0), (1903, 0.0), (1904, 0.0), (1905, 0.0), (1906, 0.0), (1909, 0.0), (1911, 0.0), (1913, 0.0), (1917, 0.0), (1921, 0.0), (1923, 0.0), (1924, 0.0), (1926, 0.0), (1927, 0.0), (1928, 0.0), (1929, 0.0), (1934, 0.0), (1935, 0.0), (1940, 0.0), (1941, 0.0), (1942, 0.0), (1944, 0.0), (1945, 0.0), (1946, 0.0), (1947, 0.0), (1948, 0.0), (1949, 0.0), (1951, 0.0), (1952, 0.0), (1957, 0.0), (1960, 0.0), (1961, 0.0), (1963, 0.0), (1964, 0.0), (1965, 0.0), (1966, 0.0), (1970, 0.0), (1979, 0.0), (1980, 0.0), (1981, 0.0), (1982, 0.0), (1983, 0.0), (1988, 0.0), (1989, 0.0), (1993, 0.0), (1994, 0.0), (1996, 0.0), (1998, 0.0), (2000, 0.0), (2005, 0.0), (2006, 0.0), (2008, 0.0), (2009, 0.0), (2011, 0.0), (2012, 0.0), (2014, 0.0), (2017, 0.0), (2018, 0.0), (2019, 0.0), (2020, 0.0), (2021, 0.0), (2022, 0.0), (2025, 0.0), (2027, 0.0), (2030, 0.0), (2031, 0.0), (2032, 0.0), (2033, 0.0), (2035, 0.0), (2038, 0.0), (2040, 0.0), (2041, 0.0), (2045, 0.0), (2048, 0.0), (2051, 0.0), (2052, 0.0), (2053, 0.0), (2056, 0.0), (2059, 0.0), (2061, 0.0), (2062, 0.0), (2065, 0.0), (2067, 0.0), (2068, 0.0), (2070, 0.0), (2072, 0.0), (2073, 0.0), (2078, 0.0), (2079, 0.0), (2080, 0.0), (2081, 0.0), (2082, 0.0), (2083, 0.0), (2088, 0.0)]\n"
          ]
        }
      ]
    },
    {
      "cell_type": "code",
      "source": [
        "# print the name of similar movies based on the index\n",
        "\n",
        "print('Movies suggested for you : \\n')\n",
        "\n",
        "i = 1\n",
        "\n",
        "for movie in sorted_similar_movies:\n",
        "  index = movie[0]\n",
        "  title_from_index = movies_data[movies_data.index==index]['title'].values[0]\n",
        "  if (i<30):\n",
        "    print(i, '.',title_from_index)\n",
        "    i+=1"
      ],
      "metadata": {
        "colab": {
          "base_uri": "https://localhost:8080/"
        },
        "id": "LN6lMKKyWy43",
        "outputId": "2d7c097e-f486-40f4-f296-830d56f15970"
      },
      "execution_count": 25,
      "outputs": [
        {
          "output_type": "stream",
          "name": "stdout",
          "text": [
            "Movies suggested for you : \n",
            "\n",
            "1 . Iron Man\n",
            "2 . Iron Man 2\n",
            "3 . Iron Man 3\n",
            "4 . Avengers: Age of Ultron\n",
            "5 . The Avengers\n",
            "6 . Captain America: Civil War\n",
            "7 . Captain America: The Winter Soldier\n",
            "8 . Ant-Man\n",
            "9 . X-Men\n",
            "10 . X-Men: Apocalypse\n",
            "11 . X2\n",
            "12 . X-Men: Days of Future Past\n",
            "13 . The Incredible Hulk\n",
            "14 . Mortdecai\n",
            "15 . X-Men: First Class\n",
            "16 . G-Force\n",
            "17 . Kick-Ass 2\n",
            "18 . The Last Airbender\n",
            "19 . Captain America: The First Avenger\n",
            "20 . Guardians of the Galaxy\n",
            "21 . Thor: The Dark World\n",
            "22 . Deadpool\n",
            "23 . X-Men: The Last Stand\n",
            "24 . Sky Captain and the World of Tomorrow\n",
            "25 . Se7en\n",
            "26 . Tropic Thunder\n",
            "27 . Zathura: A Space Adventure\n",
            "28 . Zoom\n",
            "29 . Contagion\n"
          ]
        }
      ]
    },
    {
      "cell_type": "markdown",
      "source": [
        "Movie Recommendation Sytem"
      ],
      "metadata": {
        "id": "7DiKCMiWW9mZ"
      }
    },
    {
      "cell_type": "code",
      "source": [
        "movie_name = input(' Enter your favourite movie name : ')\n",
        "\n",
        "list_of_all_titles = movies_data['title'].tolist()\n",
        "\n",
        "find_close_match = difflib.get_close_matches(movie_name, list_of_all_titles)\n",
        "\n",
        "close_match = find_close_match[0]\n",
        "\n",
        "index_of_the_movie = movies_data[movies_data.title == close_match]['index'].values[0]\n",
        "\n",
        "similarity_score = list(enumerate(similarity[index_of_the_movie]))\n",
        "\n",
        "sorted_similar_movies = sorted(similarity_score, key = lambda x:x[1], reverse = True)\n",
        "\n",
        "print('Movies suggested for you : \\n')\n",
        "\n",
        "i = 1\n",
        "\n",
        "for movie in sorted_similar_movies:\n",
        "  index = movie[0]\n",
        "  title_from_index = movies_data[movies_data.index==index]['title'].values[0]\n",
        "  if (i<30):\n",
        "    print(i, '.',title_from_index)\n",
        "    i+=1"
      ],
      "metadata": {
        "colab": {
          "base_uri": "https://localhost:8080/"
        },
        "id": "HgQzLTNsW72j",
        "outputId": "1d4ada91-2391-432a-e6ee-be2c1bd63093"
      },
      "execution_count": 26,
      "outputs": [
        {
          "output_type": "stream",
          "name": "stdout",
          "text": [
            " Enter your favourite movie name : bat man\n",
            "Movies suggested for you : \n",
            "\n",
            "1 . Batman\n",
            "2 . Batman Returns\n",
            "3 . Batman & Robin\n",
            "4 . The Dark Knight Rises\n",
            "5 . Batman Begins\n",
            "6 . The Dark Knight\n",
            "7 . Bedazzled\n",
            "8 . A History of Violence\n",
            "9 . The Sentinel\n",
            "10 . Planet of the Apes\n",
            "11 . Superman\n",
            "12 . Mars Attacks!\n",
            "13 . Man of Steel\n",
            "14 . Suicide Squad\n",
            "15 . Spider-Man 3\n",
            "16 . Spider-Man 2\n",
            "17 . Jonah Hex\n",
            "18 . Reds\n",
            "19 . I Dreamed of Africa\n",
            "20 . Multiplicity\n",
            "21 . Superman Returns\n",
            "22 . Something's Gotta Give\n",
            "23 . Green Lantern\n",
            "24 . Sweet November\n",
            "25 . The One\n",
            "26 . Superman II\n",
            "27 . Superman III\n",
            "28 . Cellular\n",
            "29 . Blood and Wine\n"
          ]
        }
      ]
    }
  ]
}